{
 "cells": [
  {
   "cell_type": "markdown",
   "metadata": {},
   "source": [
    "# Gradient Descent \n",
    "### Assignment ML3\n",
    "Use the same project from the previous assignment (the heuristic modeling) and build a function that takes a vector of predictions using your heuristic and a vector of realizations (the correct values) from the data set and calculate:\n",
    "\n",
    "- Precision (Classification \"RAIN\" column)\n",
    "- Recall  (Classification \"RAIN\" column)\n",
    "- SSE Cost of your prediction (Regression \"PRCP\" column)\n",
    "\n",
    "SSE is the sum of squared error (adding up the difference in your prediction and the actual value after you have squared each individual difference), you can find more about how to calculate it [here](https://www.wikihow.com/Calculate-the-Sum-of-Squares-for-Error-(SSE)). \n",
    "\n",
    "#### Required:\n",
    "1. Separate your data set into training and testing. (80/20 split)\n",
    "1. Calculate the Precision and Recall for the classification heuristic you made on Sunday\n",
    "1. Calculate the MSE, MAE, or SSE for the regression heuristic you made Monday.\n",
    "1. Save your results and repeat the process 5 times.\n",
    "1. Once you have repeated steps 1-4 5 times and saved the results, calculate the average score from your saved results\n",
    "1. Submit your notebook to the Learn Platform when you have finished."
   ]
  },
  {
   "cell_type": "code",
   "execution_count": 1,
   "metadata": {},
   "outputs": [],
   "source": [
    "# imports \n",
    "import pandas as pd\n",
    "import numpy as np\n",
    "import matplotlib.pyplot as plt\n",
    "import seaborn as sns\n",
    "import math\n",
    "\n",
    "from sklearn.model_selection import train_test_split\n",
    "from sklearn.linear_model import LogisticRegression\n",
    "from sklearn.metrics import plot_confusion_matrix\n",
    "from sklearn.model_selection import cross_val_score\n",
    "from sklearn.metrics import classification_report\n",
    "from sklearn.metrics import accuracy_score\n",
    "from sklearn.metrics import mean_squared_error, mean_absolute_error, accuracy_score, recall_score, precision_score"
   ]
  },
  {
   "cell_type": "code",
   "execution_count": 2,
   "metadata": {},
   "outputs": [],
   "source": [
    "df = pd.read_csv(\"./data/seattle_weather_1948-2017.csv\").dropna()\n",
    "df[\"RAIN\"] = df[\"RAIN\"].astype(bool)"
   ]
  },
  {
   "cell_type": "code",
   "execution_count": 3,
   "metadata": {},
   "outputs": [
    {
     "data": {
      "text/html": [
       "<div>\n",
       "<style scoped>\n",
       "    .dataframe tbody tr th:only-of-type {\n",
       "        vertical-align: middle;\n",
       "    }\n",
       "\n",
       "    .dataframe tbody tr th {\n",
       "        vertical-align: top;\n",
       "    }\n",
       "\n",
       "    .dataframe thead th {\n",
       "        text-align: right;\n",
       "    }\n",
       "</style>\n",
       "<table border=\"1\" class=\"dataframe\">\n",
       "  <thead>\n",
       "    <tr style=\"text-align: right;\">\n",
       "      <th></th>\n",
       "      <th>DATE</th>\n",
       "      <th>PRCP</th>\n",
       "      <th>TMAX</th>\n",
       "      <th>TMIN</th>\n",
       "      <th>RAIN</th>\n",
       "    </tr>\n",
       "  </thead>\n",
       "  <tbody>\n",
       "  </tbody>\n",
       "</table>\n",
       "</div>"
      ],
      "text/plain": [
       "Empty DataFrame\n",
       "Columns: [DATE, PRCP, TMAX, TMIN, RAIN]\n",
       "Index: []"
      ]
     },
     "execution_count": 3,
     "metadata": {},
     "output_type": "execute_result"
    }
   ],
   "source": [
    "# Find nulls in PRCP column\n",
    "df[pd.isnull(df['PRCP'])]"
   ]
  },
  {
   "cell_type": "code",
   "execution_count": 4,
   "metadata": {},
   "outputs": [
    {
     "data": {
      "text/html": [
       "<div>\n",
       "<style scoped>\n",
       "    .dataframe tbody tr th:only-of-type {\n",
       "        vertical-align: middle;\n",
       "    }\n",
       "\n",
       "    .dataframe tbody tr th {\n",
       "        vertical-align: top;\n",
       "    }\n",
       "\n",
       "    .dataframe thead th {\n",
       "        text-align: right;\n",
       "    }\n",
       "</style>\n",
       "<table border=\"1\" class=\"dataframe\">\n",
       "  <thead>\n",
       "    <tr style=\"text-align: right;\">\n",
       "      <th></th>\n",
       "      <th>DATE</th>\n",
       "      <th>PRCP</th>\n",
       "      <th>TMAX</th>\n",
       "      <th>TMIN</th>\n",
       "      <th>RAIN</th>\n",
       "    </tr>\n",
       "  </thead>\n",
       "  <tbody>\n",
       "    <tr>\n",
       "      <th>0</th>\n",
       "      <td>1948-01-01</td>\n",
       "      <td>0.47</td>\n",
       "      <td>51</td>\n",
       "      <td>42</td>\n",
       "      <td>1</td>\n",
       "    </tr>\n",
       "    <tr>\n",
       "      <th>1</th>\n",
       "      <td>1948-01-02</td>\n",
       "      <td>0.59</td>\n",
       "      <td>45</td>\n",
       "      <td>36</td>\n",
       "      <td>1</td>\n",
       "    </tr>\n",
       "    <tr>\n",
       "      <th>2</th>\n",
       "      <td>1948-01-03</td>\n",
       "      <td>0.42</td>\n",
       "      <td>45</td>\n",
       "      <td>35</td>\n",
       "      <td>1</td>\n",
       "    </tr>\n",
       "    <tr>\n",
       "      <th>3</th>\n",
       "      <td>1948-01-04</td>\n",
       "      <td>0.31</td>\n",
       "      <td>45</td>\n",
       "      <td>34</td>\n",
       "      <td>1</td>\n",
       "    </tr>\n",
       "    <tr>\n",
       "      <th>4</th>\n",
       "      <td>1948-01-05</td>\n",
       "      <td>0.17</td>\n",
       "      <td>45</td>\n",
       "      <td>32</td>\n",
       "      <td>1</td>\n",
       "    </tr>\n",
       "  </tbody>\n",
       "</table>\n",
       "</div>"
      ],
      "text/plain": [
       "         DATE  PRCP  TMAX  TMIN  RAIN\n",
       "0  1948-01-01  0.47    51    42     1\n",
       "1  1948-01-02  0.59    45    36     1\n",
       "2  1948-01-03  0.42    45    35     1\n",
       "3  1948-01-04  0.31    45    34     1\n",
       "4  1948-01-05  0.17    45    32     1"
      ]
     },
     "execution_count": 4,
     "metadata": {},
     "output_type": "execute_result"
    }
   ],
   "source": [
    "# CONVERET THE RAIN COL TYPE\n",
    "df['RAIN'] = df['RAIN'].replace(True , 1)\n",
    "df['RAIN'] = df['RAIN'].replace(False , 0)\n",
    "df.head()"
   ]
  },
  {
   "cell_type": "code",
   "execution_count": 5,
   "metadata": {},
   "outputs": [
    {
     "data": {
      "text/plain": [
       "0.00    14648\n",
       "0.01      933\n",
       "0.02      707\n",
       "0.03      493\n",
       "0.04      428\n",
       "        ...  \n",
       "2.58        1\n",
       "2.49        1\n",
       "2.18        1\n",
       "5.02        1\n",
       "2.61        1\n",
       "Name: PRCP, Length: 207, dtype: int64"
      ]
     },
     "execution_count": 5,
     "metadata": {},
     "output_type": "execute_result"
    }
   ],
   "source": [
    "df['PRCP'].value_counts()"
   ]
  },
  {
   "cell_type": "code",
   "execution_count": 6,
   "metadata": {},
   "outputs": [
    {
     "data": {
      "text/plain": [
       "42    1042\n",
       "50    1033\n",
       "53    1024\n",
       "40    1012\n",
       "54     997\n",
       "      ... \n",
       "7        4\n",
       "2        1\n",
       "1        1\n",
       "71       1\n",
       "0        1\n",
       "Name: TMIN, Length: 68, dtype: int64"
      ]
     },
     "execution_count": 6,
     "metadata": {},
     "output_type": "execute_result"
    }
   ],
   "source": [
    "df['TMIN'].value_counts()"
   ]
  },
  {
   "cell_type": "code",
   "execution_count": 7,
   "metadata": {},
   "outputs": [
    {
     "data": {
      "text/plain": [
       "DATE    169\n",
       "PRCP    169\n",
       "TMAX    169\n",
       "TMIN    169\n",
       "RAIN    169\n",
       "dtype: int64"
      ]
     },
     "execution_count": 7,
     "metadata": {},
     "output_type": "execute_result"
    }
   ],
   "source": [
    "# How many rows have a PRCP > 0 and Rain == True\n",
    "\n",
    "condition_1 = df[\"TMIN\"] == 60\n",
    "condition_2 = df[\"PRCP\"] == 0.00\n",
    "\n",
    "df[(condition_1 & condition_2)].count()"
   ]
  },
  {
   "cell_type": "code",
   "execution_count": 8,
   "metadata": {},
   "outputs": [
    {
     "data": {
      "text/plain": [
       "0    14648\n",
       "1    10900\n",
       "Name: RAIN, dtype: int64"
      ]
     },
     "execution_count": 8,
     "metadata": {},
     "output_type": "execute_result"
    }
   ],
   "source": [
    "# All rows with PRCP > 0 and RAIN == True are filtered in the above code\n",
    "df[\"RAIN\"].value_counts()"
   ]
  },
  {
   "cell_type": "code",
   "execution_count": 9,
   "metadata": {},
   "outputs": [],
   "source": [
    "# Splitting data\n",
    "\n",
    "# Split into training and test sets\n",
    "train, test = train_test_split(\n",
    "    df, \n",
    "    train_size=0.8, # 80% of data to train\n",
    "    test_size=0.2, # 20% of data to test\n",
    "    random_state=42\n",
    ")"
   ]
  },
  {
   "cell_type": "markdown",
   "metadata": {},
   "source": [
    "## Rain"
   ]
  },
  {
   "cell_type": "code",
   "execution_count": 10,
   "metadata": {},
   "outputs": [],
   "source": [
    "# HA model for Rain prediction \n",
    "\n",
    "# Note \n",
    "\n",
    "# x --> future state \"tomorrow\"\n",
    "# x-1 --> today\n",
    "# x-2 --> yesterday\n",
    "\n",
    "\n",
    "\n",
    "def heuristic(df):\n",
    "    \n",
    "    preds = []\n",
    "    \n",
    "    for x in range(len(df)):\n",
    "            # If either of last two days == True then predict true\n",
    "            if df.iloc[x-1]['RAIN'] or df.iloc[x-2]['RAIN']:\n",
    "                if (df.iloc[x]['TMAX'] <= 55 and df.iloc[x]['TMAX'] >= 50):\n",
    "                    preds.append(1)\n",
    "                elif (df.iloc[x]['TMIN'] <= 39 and df.iloc[x]['TMIN'] >= 45):\n",
    "                    preds.append(1)\n",
    "                else:\n",
    "                    preds.append(0)\n",
    "            else:\n",
    "                # Predict false if the above is not true\n",
    "                preds.append(0)\n",
    "                \n",
    "    return preds"
   ]
  },
  {
   "cell_type": "code",
   "execution_count": 11,
   "metadata": {
    "scrolled": true
   },
   "outputs": [
    {
     "name": "stderr",
     "output_type": "stream",
     "text": [
      "<ipython-input-11-cb62e263604d>:2: SettingWithCopyWarning: \n",
      "A value is trying to be set on a copy of a slice from a DataFrame.\n",
      "Try using .loc[row_indexer,col_indexer] = value instead\n",
      "\n",
      "See the caveats in the documentation: https://pandas.pydata.org/pandas-docs/stable/user_guide/indexing.html#returning-a-view-versus-a-copy\n",
      "  train['preds'] = heuristic(train)\n"
     ]
    },
    {
     "data": {
      "text/html": [
       "<div>\n",
       "<style scoped>\n",
       "    .dataframe tbody tr th:only-of-type {\n",
       "        vertical-align: middle;\n",
       "    }\n",
       "\n",
       "    .dataframe tbody tr th {\n",
       "        vertical-align: top;\n",
       "    }\n",
       "\n",
       "    .dataframe thead th {\n",
       "        text-align: right;\n",
       "    }\n",
       "</style>\n",
       "<table border=\"1\" class=\"dataframe\">\n",
       "  <thead>\n",
       "    <tr style=\"text-align: right;\">\n",
       "      <th></th>\n",
       "      <th>DATE</th>\n",
       "      <th>PRCP</th>\n",
       "      <th>TMAX</th>\n",
       "      <th>TMIN</th>\n",
       "      <th>RAIN</th>\n",
       "      <th>preds</th>\n",
       "    </tr>\n",
       "  </thead>\n",
       "  <tbody>\n",
       "    <tr>\n",
       "      <th>11497</th>\n",
       "      <td>1979-06-24</td>\n",
       "      <td>0.00</td>\n",
       "      <td>78</td>\n",
       "      <td>55</td>\n",
       "      <td>0</td>\n",
       "      <td>0</td>\n",
       "    </tr>\n",
       "    <tr>\n",
       "      <th>14118</th>\n",
       "      <td>1986-08-27</td>\n",
       "      <td>0.00</td>\n",
       "      <td>88</td>\n",
       "      <td>65</td>\n",
       "      <td>0</td>\n",
       "      <td>0</td>\n",
       "    </tr>\n",
       "    <tr>\n",
       "      <th>1604</th>\n",
       "      <td>1952-05-23</td>\n",
       "      <td>0.00</td>\n",
       "      <td>67</td>\n",
       "      <td>45</td>\n",
       "      <td>0</td>\n",
       "      <td>0</td>\n",
       "    </tr>\n",
       "    <tr>\n",
       "      <th>3693</th>\n",
       "      <td>1958-02-10</td>\n",
       "      <td>0.03</td>\n",
       "      <td>52</td>\n",
       "      <td>39</td>\n",
       "      <td>1</td>\n",
       "      <td>0</td>\n",
       "    </tr>\n",
       "    <tr>\n",
       "      <th>4742</th>\n",
       "      <td>1960-12-25</td>\n",
       "      <td>0.25</td>\n",
       "      <td>44</td>\n",
       "      <td>36</td>\n",
       "      <td>1</td>\n",
       "      <td>0</td>\n",
       "    </tr>\n",
       "  </tbody>\n",
       "</table>\n",
       "</div>"
      ],
      "text/plain": [
       "             DATE  PRCP  TMAX  TMIN  RAIN  preds\n",
       "11497  1979-06-24  0.00    78    55     0      0\n",
       "14118  1986-08-27  0.00    88    65     0      0\n",
       "1604   1952-05-23  0.00    67    45     0      0\n",
       "3693   1958-02-10  0.03    52    39     1      0\n",
       "4742   1960-12-25  0.25    44    36     1      0"
      ]
     },
     "execution_count": 11,
     "metadata": {},
     "output_type": "execute_result"
    }
   ],
   "source": [
    "# Apply Heuristic on training set\n",
    "train['preds'] = heuristic(train)\n",
    "train.head()"
   ]
  },
  {
   "cell_type": "code",
   "execution_count": 12,
   "metadata": {},
   "outputs": [],
   "source": [
    "# Calculate Accuracy, precision and recall\n",
    "def sklearn_RAIN (df):\n",
    "    \n",
    "    actual = df[\"RAIN\"]\n",
    "    Prediction = df[\"preds\"]\n",
    "    \n",
    "    accuracy = accuracy_score(actual, Prediction)\n",
    "    recall = recall_score(actual, Prediction)\n",
    "    precision= precision_score(actual, Prediction)\n",
    "    \n",
    "    return accuracy, recall, precision"
   ]
  },
  {
   "cell_type": "code",
   "execution_count": 13,
   "metadata": {},
   "outputs": [
    {
     "data": {
      "text/plain": [
       "(0.6112144045405618, 0.19650005718860802, 0.6510041682455475)"
      ]
     },
     "execution_count": 13,
     "metadata": {},
     "output_type": "execute_result"
    }
   ],
   "source": [
    "# Calculate accuracy, Precision and recall for training set\n",
    "sklearn_RAIN(train)"
   ]
  },
  {
   "cell_type": "code",
   "execution_count": 14,
   "metadata": {},
   "outputs": [
    {
     "name": "stderr",
     "output_type": "stream",
     "text": [
      "<ipython-input-14-7433ad689aaa>:2: SettingWithCopyWarning: \n",
      "A value is trying to be set on a copy of a slice from a DataFrame.\n",
      "Try using .loc[row_indexer,col_indexer] = value instead\n",
      "\n",
      "See the caveats in the documentation: https://pandas.pydata.org/pandas-docs/stable/user_guide/indexing.html#returning-a-view-versus-a-copy\n",
      "  test['preds'] = heuristic(test)\n"
     ]
    },
    {
     "data": {
      "text/html": [
       "<div>\n",
       "<style scoped>\n",
       "    .dataframe tbody tr th:only-of-type {\n",
       "        vertical-align: middle;\n",
       "    }\n",
       "\n",
       "    .dataframe tbody tr th {\n",
       "        vertical-align: top;\n",
       "    }\n",
       "\n",
       "    .dataframe thead th {\n",
       "        text-align: right;\n",
       "    }\n",
       "</style>\n",
       "<table border=\"1\" class=\"dataframe\">\n",
       "  <thead>\n",
       "    <tr style=\"text-align: right;\">\n",
       "      <th></th>\n",
       "      <th>DATE</th>\n",
       "      <th>PRCP</th>\n",
       "      <th>TMAX</th>\n",
       "      <th>TMIN</th>\n",
       "      <th>RAIN</th>\n",
       "      <th>preds</th>\n",
       "    </tr>\n",
       "  </thead>\n",
       "  <tbody>\n",
       "    <tr>\n",
       "      <th>20415</th>\n",
       "      <td>2003-11-23</td>\n",
       "      <td>0.38</td>\n",
       "      <td>43</td>\n",
       "      <td>37</td>\n",
       "      <td>1</td>\n",
       "      <td>0</td>\n",
       "    </tr>\n",
       "    <tr>\n",
       "      <th>15959</th>\n",
       "      <td>1991-09-11</td>\n",
       "      <td>0.00</td>\n",
       "      <td>69</td>\n",
       "      <td>51</td>\n",
       "      <td>0</td>\n",
       "      <td>0</td>\n",
       "    </tr>\n",
       "    <tr>\n",
       "      <th>12282</th>\n",
       "      <td>1981-08-17</td>\n",
       "      <td>0.00</td>\n",
       "      <td>83</td>\n",
       "      <td>55</td>\n",
       "      <td>0</td>\n",
       "      <td>0</td>\n",
       "    </tr>\n",
       "    <tr>\n",
       "      <th>5183</th>\n",
       "      <td>1962-03-11</td>\n",
       "      <td>0.00</td>\n",
       "      <td>49</td>\n",
       "      <td>32</td>\n",
       "      <td>0</td>\n",
       "      <td>0</td>\n",
       "    </tr>\n",
       "    <tr>\n",
       "      <th>20488</th>\n",
       "      <td>2004-02-04</td>\n",
       "      <td>0.06</td>\n",
       "      <td>46</td>\n",
       "      <td>37</td>\n",
       "      <td>1</td>\n",
       "      <td>0</td>\n",
       "    </tr>\n",
       "  </tbody>\n",
       "</table>\n",
       "</div>"
      ],
      "text/plain": [
       "             DATE  PRCP  TMAX  TMIN  RAIN  preds\n",
       "20415  2003-11-23  0.38    43    37     1      0\n",
       "15959  1991-09-11  0.00    69    51     0      0\n",
       "12282  1981-08-17  0.00    83    55     0      0\n",
       "5183   1962-03-11  0.00    49    32     0      0\n",
       "20488  2004-02-04  0.06    46    37     1      0"
      ]
     },
     "execution_count": 14,
     "metadata": {},
     "output_type": "execute_result"
    }
   ],
   "source": [
    "# Apply Heuristic on test set\n",
    "test['preds'] = heuristic(test)\n",
    "test.head()"
   ]
  },
  {
   "cell_type": "code",
   "execution_count": 15,
   "metadata": {},
   "outputs": [
    {
     "data": {
      "text/plain": [
       "(0.6178082191780822, 0.20074177097821047, 0.6540785498489426)"
      ]
     },
     "execution_count": 15,
     "metadata": {},
     "output_type": "execute_result"
    }
   ],
   "source": [
    "# Calculate accuracy, Precision and recall for Test set\n",
    "sklearn_RAIN(test)"
   ]
  },
  {
   "cell_type": "code",
   "execution_count": 16,
   "metadata": {},
   "outputs": [],
   "source": [
    "# run the steps five times \n",
    "\n",
    "def multiple_trails(data, train_size=0.8, test_size=0.2, iterations = 5):\n",
    "    \n",
    "    acc = []\n",
    "    rec = []\n",
    "    pre = []\n",
    "    \n",
    "    for x in range(iterations):\n",
    "        train, test = train_test_split(data, test_size=test_size, train_size = train_size)\n",
    "        test[\"preds\"] = heuristic(test)\n",
    "        results = sklearn_RAIN(test)\n",
    "        acc.append(np.round(results,2)[0])\n",
    "        rec.append(np.round(results,2)[1])\n",
    "        pre.append(np.round(results,2)[2])\n",
    "    return acc, rec, pre"
   ]
  },
  {
   "cell_type": "code",
   "execution_count": 17,
   "metadata": {},
   "outputs": [
    {
     "name": "stderr",
     "output_type": "stream",
     "text": [
      "<ipython-input-16-416b34891f78>:11: SettingWithCopyWarning: \n",
      "A value is trying to be set on a copy of a slice from a DataFrame.\n",
      "Try using .loc[row_indexer,col_indexer] = value instead\n",
      "\n",
      "See the caveats in the documentation: https://pandas.pydata.org/pandas-docs/stable/user_guide/indexing.html#returning-a-view-versus-a-copy\n",
      "  test[\"preds\"] = heuristic(test)\n",
      "<ipython-input-16-416b34891f78>:11: SettingWithCopyWarning: \n",
      "A value is trying to be set on a copy of a slice from a DataFrame.\n",
      "Try using .loc[row_indexer,col_indexer] = value instead\n",
      "\n",
      "See the caveats in the documentation: https://pandas.pydata.org/pandas-docs/stable/user_guide/indexing.html#returning-a-view-versus-a-copy\n",
      "  test[\"preds\"] = heuristic(test)\n",
      "<ipython-input-16-416b34891f78>:11: SettingWithCopyWarning: \n",
      "A value is trying to be set on a copy of a slice from a DataFrame.\n",
      "Try using .loc[row_indexer,col_indexer] = value instead\n",
      "\n",
      "See the caveats in the documentation: https://pandas.pydata.org/pandas-docs/stable/user_guide/indexing.html#returning-a-view-versus-a-copy\n",
      "  test[\"preds\"] = heuristic(test)\n",
      "<ipython-input-16-416b34891f78>:11: SettingWithCopyWarning: \n",
      "A value is trying to be set on a copy of a slice from a DataFrame.\n",
      "Try using .loc[row_indexer,col_indexer] = value instead\n",
      "\n",
      "See the caveats in the documentation: https://pandas.pydata.org/pandas-docs/stable/user_guide/indexing.html#returning-a-view-versus-a-copy\n",
      "  test[\"preds\"] = heuristic(test)\n"
     ]
    },
    {
     "name": "stdout",
     "output_type": "stream",
     "text": [
      "acc = [0.61, 0.61, 0.61, 0.61, 0.61], rec = [0.21, 0.19, 0.18, 0.19, 0.2], pre = [0.7, 0.64, 0.61, 0.61, 0.66]\n"
     ]
    },
    {
     "name": "stderr",
     "output_type": "stream",
     "text": [
      "<ipython-input-16-416b34891f78>:11: SettingWithCopyWarning: \n",
      "A value is trying to be set on a copy of a slice from a DataFrame.\n",
      "Try using .loc[row_indexer,col_indexer] = value instead\n",
      "\n",
      "See the caveats in the documentation: https://pandas.pydata.org/pandas-docs/stable/user_guide/indexing.html#returning-a-view-versus-a-copy\n",
      "  test[\"preds\"] = heuristic(test)\n"
     ]
    }
   ],
   "source": [
    "# multi trails \n",
    "acc, rec, pre = multiple_trails(df)\n",
    "print (f'acc = {acc}, rec = {rec}, pre = {pre}')"
   ]
  },
  {
   "cell_type": "code",
   "execution_count": 18,
   "metadata": {},
   "outputs": [
    {
     "name": "stdout",
     "output_type": "stream",
     "text": [
      "acc = 0.61, rec = 0.19, pre = 0.64\n"
     ]
    }
   ],
   "source": [
    "# compute the avg \n",
    "acc = round(sum(acc)/5,2)\n",
    "rec = round(sum(rec)/5,2)\n",
    "pre = round(sum(pre)/5,2)\n",
    "\n",
    "print (f'acc = {acc}, rec = {rec}, pre = {pre}')"
   ]
  },
  {
   "cell_type": "markdown",
   "metadata": {},
   "source": [
    "## PRCP"
   ]
  },
  {
   "cell_type": "code",
   "execution_count": 19,
   "metadata": {},
   "outputs": [],
   "source": [
    "# Create function to perform our heuristic\n",
    "\n",
    "# Note \n",
    "\n",
    "# x --> future state \"tomorrow\"\n",
    "# x-1 --> today\n",
    "# x-2 --> yesterday\n",
    "\n",
    "def heuristic(df):\n",
    "    \n",
    "    preds = []\n",
    "    \n",
    "    for x in range(len(df)):\n",
    "        if (df.iloc[x]['TMIN'] >= 50) | (df.iloc[x]['TMAX'] >= 50):\n",
    "            preds.append(0)\n",
    "        elif (df.iloc[x]['TMIN'] >= 40) | (df.iloc[x]['TMAX'] >= 40):\n",
    "            preds.append(0.02)\n",
    "        else:\n",
    "            # Predict false if the above is not true\n",
    "            preds.append(0.01)\n",
    "                \n",
    "    return preds"
   ]
  },
  {
   "cell_type": "code",
   "execution_count": 20,
   "metadata": {},
   "outputs": [
    {
     "name": "stderr",
     "output_type": "stream",
     "text": [
      "<ipython-input-20-02bbf9064a25>:2: SettingWithCopyWarning: \n",
      "A value is trying to be set on a copy of a slice from a DataFrame.\n",
      "Try using .loc[row_indexer,col_indexer] = value instead\n",
      "\n",
      "See the caveats in the documentation: https://pandas.pydata.org/pandas-docs/stable/user_guide/indexing.html#returning-a-view-versus-a-copy\n",
      "  train['preds'] = heuristic(train)\n"
     ]
    },
    {
     "data": {
      "text/html": [
       "<div>\n",
       "<style scoped>\n",
       "    .dataframe tbody tr th:only-of-type {\n",
       "        vertical-align: middle;\n",
       "    }\n",
       "\n",
       "    .dataframe tbody tr th {\n",
       "        vertical-align: top;\n",
       "    }\n",
       "\n",
       "    .dataframe thead th {\n",
       "        text-align: right;\n",
       "    }\n",
       "</style>\n",
       "<table border=\"1\" class=\"dataframe\">\n",
       "  <thead>\n",
       "    <tr style=\"text-align: right;\">\n",
       "      <th></th>\n",
       "      <th>DATE</th>\n",
       "      <th>PRCP</th>\n",
       "      <th>TMAX</th>\n",
       "      <th>TMIN</th>\n",
       "      <th>RAIN</th>\n",
       "      <th>preds</th>\n",
       "    </tr>\n",
       "  </thead>\n",
       "  <tbody>\n",
       "    <tr>\n",
       "      <th>11497</th>\n",
       "      <td>1979-06-24</td>\n",
       "      <td>0.00</td>\n",
       "      <td>78</td>\n",
       "      <td>55</td>\n",
       "      <td>0</td>\n",
       "      <td>0.00</td>\n",
       "    </tr>\n",
       "    <tr>\n",
       "      <th>14118</th>\n",
       "      <td>1986-08-27</td>\n",
       "      <td>0.00</td>\n",
       "      <td>88</td>\n",
       "      <td>65</td>\n",
       "      <td>0</td>\n",
       "      <td>0.00</td>\n",
       "    </tr>\n",
       "    <tr>\n",
       "      <th>1604</th>\n",
       "      <td>1952-05-23</td>\n",
       "      <td>0.00</td>\n",
       "      <td>67</td>\n",
       "      <td>45</td>\n",
       "      <td>0</td>\n",
       "      <td>0.00</td>\n",
       "    </tr>\n",
       "    <tr>\n",
       "      <th>3693</th>\n",
       "      <td>1958-02-10</td>\n",
       "      <td>0.03</td>\n",
       "      <td>52</td>\n",
       "      <td>39</td>\n",
       "      <td>1</td>\n",
       "      <td>0.00</td>\n",
       "    </tr>\n",
       "    <tr>\n",
       "      <th>4742</th>\n",
       "      <td>1960-12-25</td>\n",
       "      <td>0.25</td>\n",
       "      <td>44</td>\n",
       "      <td>36</td>\n",
       "      <td>1</td>\n",
       "      <td>0.02</td>\n",
       "    </tr>\n",
       "  </tbody>\n",
       "</table>\n",
       "</div>"
      ],
      "text/plain": [
       "             DATE  PRCP  TMAX  TMIN  RAIN  preds\n",
       "11497  1979-06-24  0.00    78    55     0   0.00\n",
       "14118  1986-08-27  0.00    88    65     0   0.00\n",
       "1604   1952-05-23  0.00    67    45     0   0.00\n",
       "3693   1958-02-10  0.03    52    39     1   0.00\n",
       "4742   1960-12-25  0.25    44    36     1   0.02"
      ]
     },
     "execution_count": 20,
     "metadata": {},
     "output_type": "execute_result"
    }
   ],
   "source": [
    "# Apply Heuristic or train set\n",
    "train['preds'] = heuristic(train)\n",
    "train.head()"
   ]
  },
  {
   "cell_type": "code",
   "execution_count": 21,
   "metadata": {},
   "outputs": [],
   "source": [
    "# Calculate mse, mae, and rms\n",
    "def sklearn_PRCP (df):\n",
    "    \n",
    "    actual = df[\"PRCP\"]\n",
    "    Prediction = df[\"preds\"]\n",
    "    \n",
    "    mse = mean_squared_error(actual, Prediction)\n",
    "    mae = mean_absolute_error(actual, Prediction)\n",
    "    rms = mean_squared_error(actual, Prediction, squared=False)\n",
    "    \n",
    "    return mse, mae, rms"
   ]
  },
  {
   "cell_type": "code",
   "execution_count": 22,
   "metadata": {},
   "outputs": [
    {
     "data": {
      "text/plain": [
       "(0.06780925237303062, 0.10555680594970153, 0.2604020974820107)"
      ]
     },
     "execution_count": 22,
     "metadata": {},
     "output_type": "execute_result"
    }
   ],
   "source": [
    "# computing the mse, mae, and rms for training set\n",
    "sklearn_PRCP(train)"
   ]
  },
  {
   "cell_type": "code",
   "execution_count": 23,
   "metadata": {},
   "outputs": [
    {
     "name": "stderr",
     "output_type": "stream",
     "text": [
      "<ipython-input-23-b21240bd97cc>:2: SettingWithCopyWarning: \n",
      "A value is trying to be set on a copy of a slice from a DataFrame.\n",
      "Try using .loc[row_indexer,col_indexer] = value instead\n",
      "\n",
      "See the caveats in the documentation: https://pandas.pydata.org/pandas-docs/stable/user_guide/indexing.html#returning-a-view-versus-a-copy\n",
      "  test['preds'] = heuristic(test)\n"
     ]
    },
    {
     "data": {
      "text/html": [
       "<div>\n",
       "<style scoped>\n",
       "    .dataframe tbody tr th:only-of-type {\n",
       "        vertical-align: middle;\n",
       "    }\n",
       "\n",
       "    .dataframe tbody tr th {\n",
       "        vertical-align: top;\n",
       "    }\n",
       "\n",
       "    .dataframe thead th {\n",
       "        text-align: right;\n",
       "    }\n",
       "</style>\n",
       "<table border=\"1\" class=\"dataframe\">\n",
       "  <thead>\n",
       "    <tr style=\"text-align: right;\">\n",
       "      <th></th>\n",
       "      <th>DATE</th>\n",
       "      <th>PRCP</th>\n",
       "      <th>TMAX</th>\n",
       "      <th>TMIN</th>\n",
       "      <th>RAIN</th>\n",
       "      <th>preds</th>\n",
       "    </tr>\n",
       "  </thead>\n",
       "  <tbody>\n",
       "    <tr>\n",
       "      <th>20415</th>\n",
       "      <td>2003-11-23</td>\n",
       "      <td>0.38</td>\n",
       "      <td>43</td>\n",
       "      <td>37</td>\n",
       "      <td>1</td>\n",
       "      <td>0.02</td>\n",
       "    </tr>\n",
       "    <tr>\n",
       "      <th>15959</th>\n",
       "      <td>1991-09-11</td>\n",
       "      <td>0.00</td>\n",
       "      <td>69</td>\n",
       "      <td>51</td>\n",
       "      <td>0</td>\n",
       "      <td>0.00</td>\n",
       "    </tr>\n",
       "    <tr>\n",
       "      <th>12282</th>\n",
       "      <td>1981-08-17</td>\n",
       "      <td>0.00</td>\n",
       "      <td>83</td>\n",
       "      <td>55</td>\n",
       "      <td>0</td>\n",
       "      <td>0.00</td>\n",
       "    </tr>\n",
       "    <tr>\n",
       "      <th>5183</th>\n",
       "      <td>1962-03-11</td>\n",
       "      <td>0.00</td>\n",
       "      <td>49</td>\n",
       "      <td>32</td>\n",
       "      <td>0</td>\n",
       "      <td>0.02</td>\n",
       "    </tr>\n",
       "    <tr>\n",
       "      <th>20488</th>\n",
       "      <td>2004-02-04</td>\n",
       "      <td>0.06</td>\n",
       "      <td>46</td>\n",
       "      <td>37</td>\n",
       "      <td>1</td>\n",
       "      <td>0.02</td>\n",
       "    </tr>\n",
       "  </tbody>\n",
       "</table>\n",
       "</div>"
      ],
      "text/plain": [
       "             DATE  PRCP  TMAX  TMIN  RAIN  preds\n",
       "20415  2003-11-23  0.38    43    37     1   0.02\n",
       "15959  1991-09-11  0.00    69    51     0   0.00\n",
       "12282  1981-08-17  0.00    83    55     0   0.00\n",
       "5183   1962-03-11  0.00    49    32     0   0.02\n",
       "20488  2004-02-04  0.06    46    37     1   0.02"
      ]
     },
     "execution_count": 23,
     "metadata": {},
     "output_type": "execute_result"
    }
   ],
   "source": [
    "# Apply Heuristic\n",
    "test['preds'] = heuristic(test)\n",
    "\n",
    "test.head()"
   ]
  },
  {
   "cell_type": "code",
   "execution_count": 24,
   "metadata": {},
   "outputs": [
    {
     "data": {
      "text/plain": [
       "(0.06489714285714285, 0.10565949119373778, 0.25474917636204997)"
      ]
     },
     "execution_count": 24,
     "metadata": {},
     "output_type": "execute_result"
    }
   ],
   "source": [
    "# computing the mse, mae, and rms for test set\n",
    "sklearn_PRCP(test)"
   ]
  },
  {
   "cell_type": "code",
   "execution_count": 25,
   "metadata": {},
   "outputs": [],
   "source": [
    "# run the steps five times \n",
    "\n",
    "def multiple_trails_PRCP(data, train_size=0.8, test_size=0.2, iterations = 5):\n",
    "    \n",
    "    mse = []\n",
    "    mae = []\n",
    "    rms = []\n",
    "    \n",
    "    for x in range(iterations):\n",
    "        train, test = train_test_split(data, test_size=test_size, train_size = train_size)\n",
    "        test[\"preds\"] = heuristic(test)\n",
    "        results = sklearn_PRCP(test)\n",
    "        mse.append(np.round(results,2)[0])\n",
    "        mae.append(np.round(results,2)[1])\n",
    "        rms.append(np.round(results,2)[2])\n",
    "    return mse, mae, rms"
   ]
  },
  {
   "cell_type": "code",
   "execution_count": 26,
   "metadata": {},
   "outputs": [
    {
     "name": "stderr",
     "output_type": "stream",
     "text": [
      "<ipython-input-25-d80b590cb709>:11: SettingWithCopyWarning: \n",
      "A value is trying to be set on a copy of a slice from a DataFrame.\n",
      "Try using .loc[row_indexer,col_indexer] = value instead\n",
      "\n",
      "See the caveats in the documentation: https://pandas.pydata.org/pandas-docs/stable/user_guide/indexing.html#returning-a-view-versus-a-copy\n",
      "  test[\"preds\"] = heuristic(test)\n",
      "<ipython-input-25-d80b590cb709>:11: SettingWithCopyWarning: \n",
      "A value is trying to be set on a copy of a slice from a DataFrame.\n",
      "Try using .loc[row_indexer,col_indexer] = value instead\n",
      "\n",
      "See the caveats in the documentation: https://pandas.pydata.org/pandas-docs/stable/user_guide/indexing.html#returning-a-view-versus-a-copy\n",
      "  test[\"preds\"] = heuristic(test)\n",
      "<ipython-input-25-d80b590cb709>:11: SettingWithCopyWarning: \n",
      "A value is trying to be set on a copy of a slice from a DataFrame.\n",
      "Try using .loc[row_indexer,col_indexer] = value instead\n",
      "\n",
      "See the caveats in the documentation: https://pandas.pydata.org/pandas-docs/stable/user_guide/indexing.html#returning-a-view-versus-a-copy\n",
      "  test[\"preds\"] = heuristic(test)\n",
      "<ipython-input-25-d80b590cb709>:11: SettingWithCopyWarning: \n",
      "A value is trying to be set on a copy of a slice from a DataFrame.\n",
      "Try using .loc[row_indexer,col_indexer] = value instead\n",
      "\n",
      "See the caveats in the documentation: https://pandas.pydata.org/pandas-docs/stable/user_guide/indexing.html#returning-a-view-versus-a-copy\n",
      "  test[\"preds\"] = heuristic(test)\n"
     ]
    },
    {
     "name": "stdout",
     "output_type": "stream",
     "text": [
      "mse = [0.06, 0.06, 0.07, 0.07, 0.07], mae = [0.1, 0.1, 0.1, 0.11, 0.11], rms = [0.25, 0.25, 0.26, 0.26, 0.26]\n"
     ]
    },
    {
     "name": "stderr",
     "output_type": "stream",
     "text": [
      "<ipython-input-25-d80b590cb709>:11: SettingWithCopyWarning: \n",
      "A value is trying to be set on a copy of a slice from a DataFrame.\n",
      "Try using .loc[row_indexer,col_indexer] = value instead\n",
      "\n",
      "See the caveats in the documentation: https://pandas.pydata.org/pandas-docs/stable/user_guide/indexing.html#returning-a-view-versus-a-copy\n",
      "  test[\"preds\"] = heuristic(test)\n"
     ]
    }
   ],
   "source": [
    "# multi trails\n",
    "mse, mae, rms = multiple_trails_PRCP(df)\n",
    "print (f'mse = {mse}, mae = {mae}, rms = {rms}')"
   ]
  },
  {
   "cell_type": "code",
   "execution_count": 27,
   "metadata": {},
   "outputs": [
    {
     "name": "stdout",
     "output_type": "stream",
     "text": [
      "mse = 0.07, mae = 0.1, rms = 0.26\n"
     ]
    }
   ],
   "source": [
    "# compute the mean - calc the avg \n",
    "mse = round(sum(mse)/5,2)\n",
    "mae = round(sum(mae)/5,2)\n",
    "rms = round(sum(rms)/5,2)\n",
    "\n",
    "print (f'mse = {mse}, mae = {mae}, rms = {rms}')"
   ]
  },
  {
   "cell_type": "code",
   "execution_count": null,
   "metadata": {},
   "outputs": [],
   "source": []
  }
 ],
 "metadata": {
  "kernelspec": {
   "display_name": "Python 3",
   "language": "python",
   "name": "python3"
  },
  "language_info": {
   "codemirror_mode": {
    "name": "ipython",
    "version": 3
   },
   "file_extension": ".py",
   "mimetype": "text/x-python",
   "name": "python",
   "nbconvert_exporter": "python",
   "pygments_lexer": "ipython3",
   "version": "3.8.8"
  }
 },
 "nbformat": 4,
 "nbformat_minor": 4
}
