{
 "cells": [
  {
   "cell_type": "markdown",
   "id": "119b3803",
   "metadata": {
    "id": "YLfGTdQiJqvt"
   },
   "source": [
    "## CART (Classification and Regression Trees) Models\n",
    "\n",
    "### Assignment\n",
    "#### Requirements:\n",
    "- Download the following datasets and perform the necessary preprocessing depending on the task assigned to the dataset.\n",
    "    - Bank Marketing Dataset (Classification, target = \"bank term deposit\")\n",
    "    - U.S. Pollution Dataset (Regression, target = \"CO AQI\")\n",
    "- Perform EDA on both datasets\n",
    "- Build a Random Forest model for each\n",
    "- Report appropriate evaluation metrics for each\n",
    "- Compare the results of your test data to your train and baseline model\n"
   ]
  },
  {
   "cell_type": "code",
   "execution_count": 1,
   "id": "d485d4c4",
   "metadata": {},
   "outputs": [],
   "source": [
    "import pandas as pd\n",
    "import matplotlib.pyplot as plt\n",
    "import seaborn as sns\n",
    "import numpy as np\n",
    "\n",
    "from sklearn.preprocessing import StandardScaler\n",
    "from sklearn.linear_model import LogisticRegression\n",
    "from sklearn.linear_model import LinearRegression\n",
    "from sklearn.metrics import r2_score\n",
    "from sklearn.metrics import mean_squared_error, mean_absolute_error, precision_score\n",
    "from sklearn.metrics import accuracy_score, precision_score, recall_score\n",
    "from sklearn.model_selection import train_test_split\n",
    "from sklearn.datasets import load_boston\n",
    "\n",
    "from sklearn import tree\n",
    "\n",
    "# This is for regression\n",
    "from sklearn.tree import DecisionTreeRegressor \n",
    "from sklearn.ensemble import RandomForestRegressor\n",
    "\n",
    "# This is for classification\n",
    "from sklearn.tree import DecisionTreeClassifier\n",
    "from sklearn.ensemble import RandomForestClassifier\n",
    "\n",
    "from sklearn.model_selection import GridSearchCV\n",
    "from sklearn.pipeline import make_pipeline\n",
    "\n",
    "\n",
    "\n",
    "\n",
    "from sklearn.metrics import plot_confusion_matrix\n",
    "from sklearn import tree\n",
    "\n",
    "# Feature Engineering\n",
    "from sklearn.preprocessing import OneHotEncoder\n",
    "from sklearn.preprocessing import OrdinalEncoder\n",
    "\n",
    "\n",
    "#plt.style.use(\"seaborn\")"
   ]
  },
  {
   "cell_type": "markdown",
   "id": "4b79fb49",
   "metadata": {},
   "source": [
    "## Bank dataset"
   ]
  },
  {
   "cell_type": "markdown",
   "id": "a9e7eba8",
   "metadata": {},
   "source": [
    "### loding and data Information "
   ]
  },
  {
   "cell_type": "code",
   "execution_count": 2,
   "id": "0fff9f67",
   "metadata": {},
   "outputs": [
    {
     "name": "stdout",
     "output_type": "stream",
     "text": [
      "(45211, 17)\n"
     ]
    }
   ],
   "source": [
    "#Loading data\n",
    "df =  pd.read_csv('bank-full.csv')\n",
    "print(df.shape)"
   ]
  },
  {
   "cell_type": "code",
   "execution_count": 3,
   "id": "9ba168b2",
   "metadata": {},
   "outputs": [
    {
     "data": {
      "text/html": [
       "<div>\n",
       "<style scoped>\n",
       "    .dataframe tbody tr th:only-of-type {\n",
       "        vertical-align: middle;\n",
       "    }\n",
       "\n",
       "    .dataframe tbody tr th {\n",
       "        vertical-align: top;\n",
       "    }\n",
       "\n",
       "    .dataframe thead th {\n",
       "        text-align: right;\n",
       "    }\n",
       "</style>\n",
       "<table border=\"1\" class=\"dataframe\">\n",
       "  <thead>\n",
       "    <tr style=\"text-align: right;\">\n",
       "      <th></th>\n",
       "      <th>age</th>\n",
       "      <th>job</th>\n",
       "      <th>marital</th>\n",
       "      <th>education</th>\n",
       "      <th>default</th>\n",
       "      <th>balance</th>\n",
       "      <th>housing</th>\n",
       "      <th>loan</th>\n",
       "      <th>contact</th>\n",
       "      <th>day</th>\n",
       "      <th>month</th>\n",
       "      <th>duration</th>\n",
       "      <th>campaign</th>\n",
       "      <th>pdays</th>\n",
       "      <th>previous</th>\n",
       "      <th>poutcome</th>\n",
       "      <th>y</th>\n",
       "    </tr>\n",
       "  </thead>\n",
       "  <tbody>\n",
       "    <tr>\n",
       "      <th>0</th>\n",
       "      <td>58</td>\n",
       "      <td>management</td>\n",
       "      <td>married</td>\n",
       "      <td>tertiary</td>\n",
       "      <td>no</td>\n",
       "      <td>2143</td>\n",
       "      <td>yes</td>\n",
       "      <td>no</td>\n",
       "      <td>unknown</td>\n",
       "      <td>5</td>\n",
       "      <td>may</td>\n",
       "      <td>261</td>\n",
       "      <td>1</td>\n",
       "      <td>-1</td>\n",
       "      <td>0</td>\n",
       "      <td>unknown</td>\n",
       "      <td>no</td>\n",
       "    </tr>\n",
       "    <tr>\n",
       "      <th>1</th>\n",
       "      <td>44</td>\n",
       "      <td>technician</td>\n",
       "      <td>single</td>\n",
       "      <td>secondary</td>\n",
       "      <td>no</td>\n",
       "      <td>29</td>\n",
       "      <td>yes</td>\n",
       "      <td>no</td>\n",
       "      <td>unknown</td>\n",
       "      <td>5</td>\n",
       "      <td>may</td>\n",
       "      <td>151</td>\n",
       "      <td>1</td>\n",
       "      <td>-1</td>\n",
       "      <td>0</td>\n",
       "      <td>unknown</td>\n",
       "      <td>no</td>\n",
       "    </tr>\n",
       "    <tr>\n",
       "      <th>2</th>\n",
       "      <td>33</td>\n",
       "      <td>entrepreneur</td>\n",
       "      <td>married</td>\n",
       "      <td>secondary</td>\n",
       "      <td>no</td>\n",
       "      <td>2</td>\n",
       "      <td>yes</td>\n",
       "      <td>yes</td>\n",
       "      <td>unknown</td>\n",
       "      <td>5</td>\n",
       "      <td>may</td>\n",
       "      <td>76</td>\n",
       "      <td>1</td>\n",
       "      <td>-1</td>\n",
       "      <td>0</td>\n",
       "      <td>unknown</td>\n",
       "      <td>no</td>\n",
       "    </tr>\n",
       "    <tr>\n",
       "      <th>3</th>\n",
       "      <td>47</td>\n",
       "      <td>blue-collar</td>\n",
       "      <td>married</td>\n",
       "      <td>unknown</td>\n",
       "      <td>no</td>\n",
       "      <td>1506</td>\n",
       "      <td>yes</td>\n",
       "      <td>no</td>\n",
       "      <td>unknown</td>\n",
       "      <td>5</td>\n",
       "      <td>may</td>\n",
       "      <td>92</td>\n",
       "      <td>1</td>\n",
       "      <td>-1</td>\n",
       "      <td>0</td>\n",
       "      <td>unknown</td>\n",
       "      <td>no</td>\n",
       "    </tr>\n",
       "    <tr>\n",
       "      <th>4</th>\n",
       "      <td>33</td>\n",
       "      <td>unknown</td>\n",
       "      <td>single</td>\n",
       "      <td>unknown</td>\n",
       "      <td>no</td>\n",
       "      <td>1</td>\n",
       "      <td>no</td>\n",
       "      <td>no</td>\n",
       "      <td>unknown</td>\n",
       "      <td>5</td>\n",
       "      <td>may</td>\n",
       "      <td>198</td>\n",
       "      <td>1</td>\n",
       "      <td>-1</td>\n",
       "      <td>0</td>\n",
       "      <td>unknown</td>\n",
       "      <td>no</td>\n",
       "    </tr>\n",
       "  </tbody>\n",
       "</table>\n",
       "</div>"
      ],
      "text/plain": [
       "   age           job  marital  education default  balance housing loan  \\\n",
       "0   58    management  married   tertiary      no     2143     yes   no   \n",
       "1   44    technician   single  secondary      no       29     yes   no   \n",
       "2   33  entrepreneur  married  secondary      no        2     yes  yes   \n",
       "3   47   blue-collar  married    unknown      no     1506     yes   no   \n",
       "4   33       unknown   single    unknown      no        1      no   no   \n",
       "\n",
       "   contact  day month  duration  campaign  pdays  previous poutcome   y  \n",
       "0  unknown    5   may       261         1     -1         0  unknown  no  \n",
       "1  unknown    5   may       151         1     -1         0  unknown  no  \n",
       "2  unknown    5   may        76         1     -1         0  unknown  no  \n",
       "3  unknown    5   may        92         1     -1         0  unknown  no  \n",
       "4  unknown    5   may       198         1     -1         0  unknown  no  "
      ]
     },
     "execution_count": 3,
     "metadata": {},
     "output_type": "execute_result"
    }
   ],
   "source": [
    "df.head()"
   ]
  },
  {
   "cell_type": "code",
   "execution_count": 4,
   "id": "2ec48b60",
   "metadata": {},
   "outputs": [
    {
     "name": "stdout",
     "output_type": "stream",
     "text": [
      "<class 'pandas.core.frame.DataFrame'>\n",
      "RangeIndex: 45211 entries, 0 to 45210\n",
      "Data columns (total 17 columns):\n",
      " #   Column     Non-Null Count  Dtype \n",
      "---  ------     --------------  ----- \n",
      " 0   age        45211 non-null  int64 \n",
      " 1   job        45211 non-null  object\n",
      " 2   marital    45211 non-null  object\n",
      " 3   education  45211 non-null  object\n",
      " 4   default    45211 non-null  object\n",
      " 5   balance    45211 non-null  int64 \n",
      " 6   housing    45211 non-null  object\n",
      " 7   loan       45211 non-null  object\n",
      " 8   contact    45211 non-null  object\n",
      " 9   day        45211 non-null  int64 \n",
      " 10  month      45211 non-null  object\n",
      " 11  duration   45211 non-null  int64 \n",
      " 12  campaign   45211 non-null  int64 \n",
      " 13  pdays      45211 non-null  int64 \n",
      " 14  previous   45211 non-null  int64 \n",
      " 15  poutcome   45211 non-null  object\n",
      " 16  y          45211 non-null  object\n",
      "dtypes: int64(7), object(10)\n",
      "memory usage: 5.9+ MB\n"
     ]
    }
   ],
   "source": [
    "df.info()"
   ]
  },
  {
   "cell_type": "code",
   "execution_count": 5,
   "id": "afecf1fd",
   "metadata": {},
   "outputs": [
    {
     "data": {
      "text/html": [
       "<div>\n",
       "<style scoped>\n",
       "    .dataframe tbody tr th:only-of-type {\n",
       "        vertical-align: middle;\n",
       "    }\n",
       "\n",
       "    .dataframe tbody tr th {\n",
       "        vertical-align: top;\n",
       "    }\n",
       "\n",
       "    .dataframe thead th {\n",
       "        text-align: right;\n",
       "    }\n",
       "</style>\n",
       "<table border=\"1\" class=\"dataframe\">\n",
       "  <thead>\n",
       "    <tr style=\"text-align: right;\">\n",
       "      <th></th>\n",
       "      <th>age</th>\n",
       "      <th>balance</th>\n",
       "      <th>day</th>\n",
       "      <th>duration</th>\n",
       "      <th>campaign</th>\n",
       "      <th>pdays</th>\n",
       "      <th>previous</th>\n",
       "    </tr>\n",
       "  </thead>\n",
       "  <tbody>\n",
       "    <tr>\n",
       "      <th>count</th>\n",
       "      <td>45211.000000</td>\n",
       "      <td>45211.000000</td>\n",
       "      <td>45211.000000</td>\n",
       "      <td>45211.000000</td>\n",
       "      <td>45211.000000</td>\n",
       "      <td>45211.000000</td>\n",
       "      <td>45211.000000</td>\n",
       "    </tr>\n",
       "    <tr>\n",
       "      <th>mean</th>\n",
       "      <td>40.936210</td>\n",
       "      <td>1362.272058</td>\n",
       "      <td>15.806419</td>\n",
       "      <td>258.163080</td>\n",
       "      <td>2.763841</td>\n",
       "      <td>40.197828</td>\n",
       "      <td>0.580323</td>\n",
       "    </tr>\n",
       "    <tr>\n",
       "      <th>std</th>\n",
       "      <td>10.618762</td>\n",
       "      <td>3044.765829</td>\n",
       "      <td>8.322476</td>\n",
       "      <td>257.527812</td>\n",
       "      <td>3.098021</td>\n",
       "      <td>100.128746</td>\n",
       "      <td>2.303441</td>\n",
       "    </tr>\n",
       "    <tr>\n",
       "      <th>min</th>\n",
       "      <td>18.000000</td>\n",
       "      <td>-8019.000000</td>\n",
       "      <td>1.000000</td>\n",
       "      <td>0.000000</td>\n",
       "      <td>1.000000</td>\n",
       "      <td>-1.000000</td>\n",
       "      <td>0.000000</td>\n",
       "    </tr>\n",
       "    <tr>\n",
       "      <th>25%</th>\n",
       "      <td>33.000000</td>\n",
       "      <td>72.000000</td>\n",
       "      <td>8.000000</td>\n",
       "      <td>103.000000</td>\n",
       "      <td>1.000000</td>\n",
       "      <td>-1.000000</td>\n",
       "      <td>0.000000</td>\n",
       "    </tr>\n",
       "    <tr>\n",
       "      <th>50%</th>\n",
       "      <td>39.000000</td>\n",
       "      <td>448.000000</td>\n",
       "      <td>16.000000</td>\n",
       "      <td>180.000000</td>\n",
       "      <td>2.000000</td>\n",
       "      <td>-1.000000</td>\n",
       "      <td>0.000000</td>\n",
       "    </tr>\n",
       "    <tr>\n",
       "      <th>75%</th>\n",
       "      <td>48.000000</td>\n",
       "      <td>1428.000000</td>\n",
       "      <td>21.000000</td>\n",
       "      <td>319.000000</td>\n",
       "      <td>3.000000</td>\n",
       "      <td>-1.000000</td>\n",
       "      <td>0.000000</td>\n",
       "    </tr>\n",
       "    <tr>\n",
       "      <th>max</th>\n",
       "      <td>95.000000</td>\n",
       "      <td>102127.000000</td>\n",
       "      <td>31.000000</td>\n",
       "      <td>4918.000000</td>\n",
       "      <td>63.000000</td>\n",
       "      <td>871.000000</td>\n",
       "      <td>275.000000</td>\n",
       "    </tr>\n",
       "  </tbody>\n",
       "</table>\n",
       "</div>"
      ],
      "text/plain": [
       "                age        balance           day      duration      campaign  \\\n",
       "count  45211.000000   45211.000000  45211.000000  45211.000000  45211.000000   \n",
       "mean      40.936210    1362.272058     15.806419    258.163080      2.763841   \n",
       "std       10.618762    3044.765829      8.322476    257.527812      3.098021   \n",
       "min       18.000000   -8019.000000      1.000000      0.000000      1.000000   \n",
       "25%       33.000000      72.000000      8.000000    103.000000      1.000000   \n",
       "50%       39.000000     448.000000     16.000000    180.000000      2.000000   \n",
       "75%       48.000000    1428.000000     21.000000    319.000000      3.000000   \n",
       "max       95.000000  102127.000000     31.000000   4918.000000     63.000000   \n",
       "\n",
       "              pdays      previous  \n",
       "count  45211.000000  45211.000000  \n",
       "mean      40.197828      0.580323  \n",
       "std      100.128746      2.303441  \n",
       "min       -1.000000      0.000000  \n",
       "25%       -1.000000      0.000000  \n",
       "50%       -1.000000      0.000000  \n",
       "75%       -1.000000      0.000000  \n",
       "max      871.000000    275.000000  "
      ]
     },
     "execution_count": 5,
     "metadata": {},
     "output_type": "execute_result"
    }
   ],
   "source": [
    "df.describe()"
   ]
  },
  {
   "cell_type": "code",
   "execution_count": 6,
   "id": "77ecbc76",
   "metadata": {},
   "outputs": [
    {
     "data": {
      "text/html": [
       "<div>\n",
       "<style scoped>\n",
       "    .dataframe tbody tr th:only-of-type {\n",
       "        vertical-align: middle;\n",
       "    }\n",
       "\n",
       "    .dataframe tbody tr th {\n",
       "        vertical-align: top;\n",
       "    }\n",
       "\n",
       "    .dataframe thead th {\n",
       "        text-align: right;\n",
       "    }\n",
       "</style>\n",
       "<table border=\"1\" class=\"dataframe\">\n",
       "  <thead>\n",
       "    <tr style=\"text-align: right;\">\n",
       "      <th></th>\n",
       "      <th>job</th>\n",
       "      <th>marital</th>\n",
       "      <th>education</th>\n",
       "      <th>default</th>\n",
       "      <th>housing</th>\n",
       "      <th>loan</th>\n",
       "      <th>contact</th>\n",
       "      <th>month</th>\n",
       "      <th>poutcome</th>\n",
       "      <th>y</th>\n",
       "    </tr>\n",
       "  </thead>\n",
       "  <tbody>\n",
       "    <tr>\n",
       "      <th>count</th>\n",
       "      <td>45211</td>\n",
       "      <td>45211</td>\n",
       "      <td>45211</td>\n",
       "      <td>45211</td>\n",
       "      <td>45211</td>\n",
       "      <td>45211</td>\n",
       "      <td>45211</td>\n",
       "      <td>45211</td>\n",
       "      <td>45211</td>\n",
       "      <td>45211</td>\n",
       "    </tr>\n",
       "    <tr>\n",
       "      <th>unique</th>\n",
       "      <td>12</td>\n",
       "      <td>3</td>\n",
       "      <td>4</td>\n",
       "      <td>2</td>\n",
       "      <td>2</td>\n",
       "      <td>2</td>\n",
       "      <td>3</td>\n",
       "      <td>12</td>\n",
       "      <td>4</td>\n",
       "      <td>2</td>\n",
       "    </tr>\n",
       "    <tr>\n",
       "      <th>top</th>\n",
       "      <td>blue-collar</td>\n",
       "      <td>married</td>\n",
       "      <td>secondary</td>\n",
       "      <td>no</td>\n",
       "      <td>yes</td>\n",
       "      <td>no</td>\n",
       "      <td>cellular</td>\n",
       "      <td>may</td>\n",
       "      <td>unknown</td>\n",
       "      <td>no</td>\n",
       "    </tr>\n",
       "    <tr>\n",
       "      <th>freq</th>\n",
       "      <td>9732</td>\n",
       "      <td>27214</td>\n",
       "      <td>23202</td>\n",
       "      <td>44396</td>\n",
       "      <td>25130</td>\n",
       "      <td>37967</td>\n",
       "      <td>29285</td>\n",
       "      <td>13766</td>\n",
       "      <td>36959</td>\n",
       "      <td>39922</td>\n",
       "    </tr>\n",
       "  </tbody>\n",
       "</table>\n",
       "</div>"
      ],
      "text/plain": [
       "                job  marital  education default housing   loan   contact  \\\n",
       "count         45211    45211      45211   45211   45211  45211     45211   \n",
       "unique           12        3          4       2       2      2         3   \n",
       "top     blue-collar  married  secondary      no     yes     no  cellular   \n",
       "freq           9732    27214      23202   44396   25130  37967     29285   \n",
       "\n",
       "        month poutcome      y  \n",
       "count   45211    45211  45211  \n",
       "unique     12        4      2  \n",
       "top       may  unknown     no  \n",
       "freq    13766    36959  39922  "
      ]
     },
     "execution_count": 6,
     "metadata": {},
     "output_type": "execute_result"
    }
   ],
   "source": [
    "#Describe all categorical features\n",
    "\n",
    "df.describe(exclude=\"number\")"
   ]
  },
  {
   "cell_type": "markdown",
   "id": "0808946d",
   "metadata": {},
   "source": [
    "### data cleaning\n"
   ]
  },
  {
   "cell_type": "code",
   "execution_count": 7,
   "id": "f27db25b",
   "metadata": {},
   "outputs": [],
   "source": [
    "df[\"y\"] = df[\"y\"].replace('yes',1) \n",
    "df[\"y\"] = df[\"y\"].replace('no',0) \n"
   ]
  },
  {
   "cell_type": "code",
   "execution_count": 8,
   "id": "9ab2eabb",
   "metadata": {},
   "outputs": [],
   "source": [
    "df[\"marital\"] = df[\"marital\"].replace('married',1) \n",
    "df[\"marital\"] = df[\"marital\"].replace('single',2) \n",
    "df[\"marital\"] = df[\"marital\"].replace('divorced',3) \n"
   ]
  },
  {
   "cell_type": "code",
   "execution_count": 9,
   "id": "0fdad003",
   "metadata": {},
   "outputs": [],
   "source": [
    "df[\"education\"] = df[\"education\"].replace('secondary',1) \n",
    "df[\"education\"] = df[\"education\"].replace('tertiary',2) \n",
    "df[\"education\"] = df[\"education\"].replace('primary',3) \n",
    "df[\"education\"] = df[\"education\"].replace('unknown',4) \n"
   ]
  },
  {
   "cell_type": "code",
   "execution_count": 10,
   "id": "90be4efa",
   "metadata": {},
   "outputs": [],
   "source": [
    "df[\"default\"] = df[\"default\"].replace('yes',1) \n",
    "df[\"default\"] = df[\"default\"].replace('no',0) \n"
   ]
  },
  {
   "cell_type": "code",
   "execution_count": 11,
   "id": "4f3b9901",
   "metadata": {},
   "outputs": [],
   "source": [
    "df[\"housing\"] = df[\"housing\"].replace('yes',1) \n",
    "df[\"housing\"] = df[\"housing\"].replace('no',0) \n"
   ]
  },
  {
   "cell_type": "code",
   "execution_count": 12,
   "id": "a40de076",
   "metadata": {},
   "outputs": [],
   "source": [
    "df[\"loan\"] = df[\"loan\"].replace('yes',1) \n",
    "df[\"loan\"] = df[\"loan\"].replace('no',1) \n"
   ]
  },
  {
   "cell_type": "code",
   "execution_count": 13,
   "id": "36f30454",
   "metadata": {},
   "outputs": [],
   "source": [
    "df[\"month\"] = df[\"month\"].replace('jan',1) \n",
    "df[\"month\"] = df[\"month\"].replace('feb',2) \n",
    "df[\"month\"] = df[\"month\"].replace('mar',3) \n",
    "df[\"month\"] = df[\"month\"].replace('apr',4) \n",
    "df[\"month\"] = df[\"month\"].replace('may',5) \n",
    "df[\"month\"] = df[\"month\"].replace('jun',6) \n",
    "df[\"month\"] = df[\"month\"].replace('jul',7) \n",
    "df[\"month\"] = df[\"month\"].replace('aug',8) \n",
    "df[\"month\"] = df[\"month\"].replace('sep',9) \n",
    "df[\"month\"] = df[\"month\"].replace('oct',10) \n",
    "df[\"month\"] = df[\"month\"].replace('nov',11) \n",
    "df[\"month\"] = df[\"month\"].replace('dec',12) \n"
   ]
  },
  {
   "cell_type": "code",
   "execution_count": 14,
   "id": "ebe01525",
   "metadata": {},
   "outputs": [
    {
     "data": {
      "text/html": [
       "<div>\n",
       "<style scoped>\n",
       "    .dataframe tbody tr th:only-of-type {\n",
       "        vertical-align: middle;\n",
       "    }\n",
       "\n",
       "    .dataframe tbody tr th {\n",
       "        vertical-align: top;\n",
       "    }\n",
       "\n",
       "    .dataframe thead th {\n",
       "        text-align: right;\n",
       "    }\n",
       "</style>\n",
       "<table border=\"1\" class=\"dataframe\">\n",
       "  <thead>\n",
       "    <tr style=\"text-align: right;\">\n",
       "      <th></th>\n",
       "      <th>age</th>\n",
       "      <th>marital</th>\n",
       "      <th>education</th>\n",
       "      <th>default</th>\n",
       "      <th>balance</th>\n",
       "      <th>housing</th>\n",
       "      <th>loan</th>\n",
       "      <th>day</th>\n",
       "      <th>month</th>\n",
       "      <th>duration</th>\n",
       "      <th>campaign</th>\n",
       "      <th>pdays</th>\n",
       "      <th>previous</th>\n",
       "      <th>y</th>\n",
       "    </tr>\n",
       "  </thead>\n",
       "  <tbody>\n",
       "    <tr>\n",
       "      <th>count</th>\n",
       "      <td>45211.000000</td>\n",
       "      <td>45211.000000</td>\n",
       "      <td>45211.000000</td>\n",
       "      <td>45211.000000</td>\n",
       "      <td>45211.000000</td>\n",
       "      <td>45211.000000</td>\n",
       "      <td>45211.0</td>\n",
       "      <td>45211.000000</td>\n",
       "      <td>45211.000000</td>\n",
       "      <td>45211.000000</td>\n",
       "      <td>45211.000000</td>\n",
       "      <td>45211.000000</td>\n",
       "      <td>45211.000000</td>\n",
       "      <td>45211.000000</td>\n",
       "    </tr>\n",
       "    <tr>\n",
       "      <th>mean</th>\n",
       "      <td>40.936210</td>\n",
       "      <td>1.513238</td>\n",
       "      <td>1.720488</td>\n",
       "      <td>0.018027</td>\n",
       "      <td>1362.272058</td>\n",
       "      <td>0.555838</td>\n",
       "      <td>1.0</td>\n",
       "      <td>15.806419</td>\n",
       "      <td>6.144655</td>\n",
       "      <td>258.163080</td>\n",
       "      <td>2.763841</td>\n",
       "      <td>40.197828</td>\n",
       "      <td>0.580323</td>\n",
       "      <td>0.116985</td>\n",
       "    </tr>\n",
       "    <tr>\n",
       "      <th>std</th>\n",
       "      <td>10.618762</td>\n",
       "      <td>0.692948</td>\n",
       "      <td>0.866553</td>\n",
       "      <td>0.133049</td>\n",
       "      <td>3044.765829</td>\n",
       "      <td>0.496878</td>\n",
       "      <td>0.0</td>\n",
       "      <td>8.322476</td>\n",
       "      <td>2.408034</td>\n",
       "      <td>257.527812</td>\n",
       "      <td>3.098021</td>\n",
       "      <td>100.128746</td>\n",
       "      <td>2.303441</td>\n",
       "      <td>0.321406</td>\n",
       "    </tr>\n",
       "    <tr>\n",
       "      <th>min</th>\n",
       "      <td>18.000000</td>\n",
       "      <td>1.000000</td>\n",
       "      <td>1.000000</td>\n",
       "      <td>0.000000</td>\n",
       "      <td>-8019.000000</td>\n",
       "      <td>0.000000</td>\n",
       "      <td>1.0</td>\n",
       "      <td>1.000000</td>\n",
       "      <td>1.000000</td>\n",
       "      <td>0.000000</td>\n",
       "      <td>1.000000</td>\n",
       "      <td>-1.000000</td>\n",
       "      <td>0.000000</td>\n",
       "      <td>0.000000</td>\n",
       "    </tr>\n",
       "    <tr>\n",
       "      <th>25%</th>\n",
       "      <td>33.000000</td>\n",
       "      <td>1.000000</td>\n",
       "      <td>1.000000</td>\n",
       "      <td>0.000000</td>\n",
       "      <td>72.000000</td>\n",
       "      <td>0.000000</td>\n",
       "      <td>1.0</td>\n",
       "      <td>8.000000</td>\n",
       "      <td>5.000000</td>\n",
       "      <td>103.000000</td>\n",
       "      <td>1.000000</td>\n",
       "      <td>-1.000000</td>\n",
       "      <td>0.000000</td>\n",
       "      <td>0.000000</td>\n",
       "    </tr>\n",
       "    <tr>\n",
       "      <th>50%</th>\n",
       "      <td>39.000000</td>\n",
       "      <td>1.000000</td>\n",
       "      <td>1.000000</td>\n",
       "      <td>0.000000</td>\n",
       "      <td>448.000000</td>\n",
       "      <td>1.000000</td>\n",
       "      <td>1.0</td>\n",
       "      <td>16.000000</td>\n",
       "      <td>6.000000</td>\n",
       "      <td>180.000000</td>\n",
       "      <td>2.000000</td>\n",
       "      <td>-1.000000</td>\n",
       "      <td>0.000000</td>\n",
       "      <td>0.000000</td>\n",
       "    </tr>\n",
       "    <tr>\n",
       "      <th>75%</th>\n",
       "      <td>48.000000</td>\n",
       "      <td>2.000000</td>\n",
       "      <td>2.000000</td>\n",
       "      <td>0.000000</td>\n",
       "      <td>1428.000000</td>\n",
       "      <td>1.000000</td>\n",
       "      <td>1.0</td>\n",
       "      <td>21.000000</td>\n",
       "      <td>8.000000</td>\n",
       "      <td>319.000000</td>\n",
       "      <td>3.000000</td>\n",
       "      <td>-1.000000</td>\n",
       "      <td>0.000000</td>\n",
       "      <td>0.000000</td>\n",
       "    </tr>\n",
       "    <tr>\n",
       "      <th>max</th>\n",
       "      <td>95.000000</td>\n",
       "      <td>3.000000</td>\n",
       "      <td>4.000000</td>\n",
       "      <td>1.000000</td>\n",
       "      <td>102127.000000</td>\n",
       "      <td>1.000000</td>\n",
       "      <td>1.0</td>\n",
       "      <td>31.000000</td>\n",
       "      <td>12.000000</td>\n",
       "      <td>4918.000000</td>\n",
       "      <td>63.000000</td>\n",
       "      <td>871.000000</td>\n",
       "      <td>275.000000</td>\n",
       "      <td>1.000000</td>\n",
       "    </tr>\n",
       "  </tbody>\n",
       "</table>\n",
       "</div>"
      ],
      "text/plain": [
       "                age       marital     education       default        balance  \\\n",
       "count  45211.000000  45211.000000  45211.000000  45211.000000   45211.000000   \n",
       "mean      40.936210      1.513238      1.720488      0.018027    1362.272058   \n",
       "std       10.618762      0.692948      0.866553      0.133049    3044.765829   \n",
       "min       18.000000      1.000000      1.000000      0.000000   -8019.000000   \n",
       "25%       33.000000      1.000000      1.000000      0.000000      72.000000   \n",
       "50%       39.000000      1.000000      1.000000      0.000000     448.000000   \n",
       "75%       48.000000      2.000000      2.000000      0.000000    1428.000000   \n",
       "max       95.000000      3.000000      4.000000      1.000000  102127.000000   \n",
       "\n",
       "            housing     loan           day         month      duration  \\\n",
       "count  45211.000000  45211.0  45211.000000  45211.000000  45211.000000   \n",
       "mean       0.555838      1.0     15.806419      6.144655    258.163080   \n",
       "std        0.496878      0.0      8.322476      2.408034    257.527812   \n",
       "min        0.000000      1.0      1.000000      1.000000      0.000000   \n",
       "25%        0.000000      1.0      8.000000      5.000000    103.000000   \n",
       "50%        1.000000      1.0     16.000000      6.000000    180.000000   \n",
       "75%        1.000000      1.0     21.000000      8.000000    319.000000   \n",
       "max        1.000000      1.0     31.000000     12.000000   4918.000000   \n",
       "\n",
       "           campaign         pdays      previous             y  \n",
       "count  45211.000000  45211.000000  45211.000000  45211.000000  \n",
       "mean       2.763841     40.197828      0.580323      0.116985  \n",
       "std        3.098021    100.128746      2.303441      0.321406  \n",
       "min        1.000000     -1.000000      0.000000      0.000000  \n",
       "25%        1.000000     -1.000000      0.000000      0.000000  \n",
       "50%        2.000000     -1.000000      0.000000      0.000000  \n",
       "75%        3.000000     -1.000000      0.000000      0.000000  \n",
       "max       63.000000    871.000000    275.000000      1.000000  "
      ]
     },
     "execution_count": 14,
     "metadata": {},
     "output_type": "execute_result"
    }
   ],
   "source": [
    "df.describe()"
   ]
  },
  {
   "cell_type": "markdown",
   "id": "fb856768",
   "metadata": {},
   "source": [
    "### Data after cleaning"
   ]
  },
  {
   "cell_type": "code",
   "execution_count": 15,
   "id": "d57ccdae",
   "metadata": {},
   "outputs": [
    {
     "data": {
      "text/html": [
       "<div>\n",
       "<style scoped>\n",
       "    .dataframe tbody tr th:only-of-type {\n",
       "        vertical-align: middle;\n",
       "    }\n",
       "\n",
       "    .dataframe tbody tr th {\n",
       "        vertical-align: top;\n",
       "    }\n",
       "\n",
       "    .dataframe thead th {\n",
       "        text-align: right;\n",
       "    }\n",
       "</style>\n",
       "<table border=\"1\" class=\"dataframe\">\n",
       "  <thead>\n",
       "    <tr style=\"text-align: right;\">\n",
       "      <th></th>\n",
       "      <th>age</th>\n",
       "      <th>balance</th>\n",
       "      <th>day</th>\n",
       "      <th>duration</th>\n",
       "      <th>campaign</th>\n",
       "      <th>pdays</th>\n",
       "      <th>previous</th>\n",
       "      <th>marital</th>\n",
       "      <th>education</th>\n",
       "      <th>default</th>\n",
       "      <th>housing</th>\n",
       "      <th>loan</th>\n",
       "      <th>month</th>\n",
       "      <th>y</th>\n",
       "    </tr>\n",
       "  </thead>\n",
       "  <tbody>\n",
       "    <tr>\n",
       "      <th>0</th>\n",
       "      <td>58</td>\n",
       "      <td>2143</td>\n",
       "      <td>5</td>\n",
       "      <td>261</td>\n",
       "      <td>1</td>\n",
       "      <td>-1</td>\n",
       "      <td>0</td>\n",
       "      <td>1</td>\n",
       "      <td>2</td>\n",
       "      <td>0</td>\n",
       "      <td>1</td>\n",
       "      <td>1</td>\n",
       "      <td>5</td>\n",
       "      <td>0</td>\n",
       "    </tr>\n",
       "    <tr>\n",
       "      <th>1</th>\n",
       "      <td>44</td>\n",
       "      <td>29</td>\n",
       "      <td>5</td>\n",
       "      <td>151</td>\n",
       "      <td>1</td>\n",
       "      <td>-1</td>\n",
       "      <td>0</td>\n",
       "      <td>2</td>\n",
       "      <td>1</td>\n",
       "      <td>0</td>\n",
       "      <td>1</td>\n",
       "      <td>1</td>\n",
       "      <td>5</td>\n",
       "      <td>0</td>\n",
       "    </tr>\n",
       "    <tr>\n",
       "      <th>2</th>\n",
       "      <td>33</td>\n",
       "      <td>2</td>\n",
       "      <td>5</td>\n",
       "      <td>76</td>\n",
       "      <td>1</td>\n",
       "      <td>-1</td>\n",
       "      <td>0</td>\n",
       "      <td>1</td>\n",
       "      <td>1</td>\n",
       "      <td>0</td>\n",
       "      <td>1</td>\n",
       "      <td>1</td>\n",
       "      <td>5</td>\n",
       "      <td>0</td>\n",
       "    </tr>\n",
       "    <tr>\n",
       "      <th>3</th>\n",
       "      <td>47</td>\n",
       "      <td>1506</td>\n",
       "      <td>5</td>\n",
       "      <td>92</td>\n",
       "      <td>1</td>\n",
       "      <td>-1</td>\n",
       "      <td>0</td>\n",
       "      <td>1</td>\n",
       "      <td>4</td>\n",
       "      <td>0</td>\n",
       "      <td>1</td>\n",
       "      <td>1</td>\n",
       "      <td>5</td>\n",
       "      <td>0</td>\n",
       "    </tr>\n",
       "    <tr>\n",
       "      <th>4</th>\n",
       "      <td>33</td>\n",
       "      <td>1</td>\n",
       "      <td>5</td>\n",
       "      <td>198</td>\n",
       "      <td>1</td>\n",
       "      <td>-1</td>\n",
       "      <td>0</td>\n",
       "      <td>2</td>\n",
       "      <td>4</td>\n",
       "      <td>0</td>\n",
       "      <td>0</td>\n",
       "      <td>1</td>\n",
       "      <td>5</td>\n",
       "      <td>0</td>\n",
       "    </tr>\n",
       "  </tbody>\n",
       "</table>\n",
       "</div>"
      ],
      "text/plain": [
       "   age  balance  day  duration  campaign  pdays  previous  marital  education  \\\n",
       "0   58     2143    5       261         1     -1         0        1          2   \n",
       "1   44       29    5       151         1     -1         0        2          1   \n",
       "2   33        2    5        76         1     -1         0        1          1   \n",
       "3   47     1506    5        92         1     -1         0        1          4   \n",
       "4   33        1    5       198         1     -1         0        2          4   \n",
       "\n",
       "   default  housing  loan  month  y  \n",
       "0        0        1     1      5  0  \n",
       "1        0        1     1      5  0  \n",
       "2        0        1     1      5  0  \n",
       "3        0        1     1      5  0  \n",
       "4        0        0     1      5  0  "
      ]
     },
     "execution_count": 15,
     "metadata": {},
     "output_type": "execute_result"
    }
   ],
   "source": [
    "df = pd.DataFrame (df, columns = ['age','balance','day','duration','campaign','pdays','previous','marital','education','default','housing','loan','month','y'])\n",
    "df.head()"
   ]
  },
  {
   "cell_type": "markdown",
   "id": "2ae997ad",
   "metadata": {},
   "source": [
    "### Split the data"
   ]
  },
  {
   "cell_type": "code",
   "execution_count": 16,
   "id": "aaef9fca",
   "metadata": {},
   "outputs": [],
   "source": [
    "# Save X data\n",
    "x = df.iloc[:, 0:-1]\n",
    "y = df.iloc[:, -1]"
   ]
  },
  {
   "cell_type": "code",
   "execution_count": 17,
   "id": "395afd4f",
   "metadata": {},
   "outputs": [],
   "source": [
    "x_train, x_test, y_train, y_test = train_test_split(x, y, test_size = 0.25, random_state = 0)\n"
   ]
  },
  {
   "cell_type": "markdown",
   "id": "ac03b687",
   "metadata": {},
   "source": [
    "### Feature Scaling"
   ]
  },
  {
   "cell_type": "code",
   "execution_count": 18,
   "id": "8517a2fc",
   "metadata": {},
   "outputs": [],
   "source": [
    "sc = StandardScaler()\n",
    "\n",
    "# The scaling will be between 3 and -3 \n",
    "\n",
    "x_train = sc.fit_transform(x_train)\n",
    "x_test = sc.transform(x_test)"
   ]
  },
  {
   "cell_type": "markdown",
   "id": "149a2418",
   "metadata": {},
   "source": [
    "### Logistic Regression"
   ]
  },
  {
   "cell_type": "code",
   "execution_count": 19,
   "id": "08bc0c91",
   "metadata": {},
   "outputs": [],
   "source": [
    "# Apply LR\n",
    "lr = LogisticRegression(random_state = 0)\n",
    "lr.fit(x_train, y_train)\n",
    "\n",
    "# score \n",
    "lr.score(x_test, y_test)\n",
    "\n",
    "# prediction \n",
    "y_pred = lr.predict(x_test)"
   ]
  },
  {
   "cell_type": "code",
   "execution_count": 20,
   "id": "565c18d0",
   "metadata": {
    "scrolled": true
   },
   "outputs": [
    {
     "data": {
      "text/plain": [
       "array([[-0.02104214,  0.09045367, -0.02558495,  1.00299203, -0.42777233,\n",
       "         0.29830698,  0.17857837,  0.14208631, -0.00158994, -0.08177026,\n",
       "        -0.62571628,  0.        ,  0.03003774]])"
      ]
     },
     "execution_count": 20,
     "metadata": {},
     "output_type": "execute_result"
    }
   ],
   "source": [
    "# The coef for the x variables \n",
    "lr.coef_"
   ]
  },
  {
   "cell_type": "code",
   "execution_count": 21,
   "id": "d1892154",
   "metadata": {},
   "outputs": [
    {
     "data": {
      "text/plain": [
       "array([-2.56121057])"
      ]
     },
     "execution_count": 21,
     "metadata": {},
     "output_type": "execute_result"
    }
   ],
   "source": [
    "# the intercept\n",
    "lr.intercept_\n"
   ]
  },
  {
   "cell_type": "markdown",
   "id": "c0736815",
   "metadata": {},
   "source": [
    "### Confusion Matrix"
   ]
  },
  {
   "cell_type": "code",
   "execution_count": 22,
   "id": "0e137fe6",
   "metadata": {
    "scrolled": true
   },
   "outputs": [
    {
     "name": "stdout",
     "output_type": "stream",
     "text": [
      "Baseline\n",
      "Accuracy_Score: 0.8830954347056742\n",
      "Precision_Score: 0.0\n",
      "Recall_Score: 0.0\n",
      "\n",
      "Train logestic Regression\n",
      "Accuracy_Score: 0.8904978176241595\n",
      "Precision_Score: 0.5937266616878267\n",
      "Recall_Score: 0.2005549949545913\n",
      "\n",
      "Test logestic Regression\n",
      "Accuracy_Score: 0.888436698221711\n",
      "Precision_Score: 0.5692640692640693\n",
      "Recall_Score: 0.19849056603773585\n"
     ]
    },
    {
     "name": "stderr",
     "output_type": "stream",
     "text": [
      "/Applications/anaconda3/lib/python3.8/site-packages/sklearn/metrics/_classification.py:1245: UndefinedMetricWarning: Precision is ill-defined and being set to 0.0 due to no predicted samples. Use `zero_division` parameter to control this behavior.\n",
      "  _warn_prf(average, modifier, msg_start, len(result))\n"
     ]
    }
   ],
   "source": [
    "def calc_cost(y_true, y_predict):\n",
    "\n",
    "    result_dict = {}\n",
    "    \n",
    "    accuracy = accuracy_score(y_true, y_predict)\n",
    "    precision = precision_score(y_true, y_predict)\n",
    "    recall    = recall_score(y_true, y_predict)\n",
    "\n",
    "\n",
    "    ls = [accuracy, precision, recall] # Appropriate for classification\n",
    "    ls2 = [\"Accuracy_Score\", \"Precision_Score\", \"Recall_Score\"] # Appropriate for classification\n",
    "\n",
    "    for x in range(len(ls)):\n",
    "        print(f\"{ls2[x]}: {ls[x]}\")\n",
    "        result_dict[ls2[x]] = ls[x]\n",
    "        \n",
    "    return result_dict\n",
    "\n",
    "# save results to object and print results\n",
    "\n",
    "print(\"Baseline\")\n",
    "# baseline model (Majority Class) was 0\n",
    "b_preds = [0 for x in range(len(y_train))]\n",
    "res0 = calc_cost(y_train, b_preds)\n",
    "\n",
    "print(\"\\nTrain logestic Regression\")\n",
    "res1 = calc_cost(y_train, lr.predict(x_train))\n",
    "\n",
    "print(\"\\nTest logestic Regression\")\n",
    "res1_t = calc_cost(y_test, lr.predict(x_test))\n"
   ]
  },
  {
   "cell_type": "markdown",
   "id": "3845bf75",
   "metadata": {},
   "source": [
    "### Random Forest"
   ]
  },
  {
   "cell_type": "code",
   "execution_count": 23,
   "id": "c10c3ac5",
   "metadata": {},
   "outputs": [],
   "source": [
    "class_forest = RandomForestClassifier(n_estimators = 10, criterion = 'entropy', random_state = 0)"
   ]
  },
  {
   "cell_type": "code",
   "execution_count": 24,
   "id": "1bbb1e9a",
   "metadata": {},
   "outputs": [],
   "source": [
    "class_forest.fit(x_train, y_train)\n",
    "preds_class = class_forest.predict(x_test)"
   ]
  },
  {
   "cell_type": "code",
   "execution_count": 25,
   "id": "df9ff03a",
   "metadata": {},
   "outputs": [
    {
     "name": "stdout",
     "output_type": "stream",
     "text": [
      "Training Accuracy: 0.99\n",
      "Test Set Accuracy: 0.89\n"
     ]
    }
   ],
   "source": [
    "train_acc = round(class_forest.score(x_train, y_train),2)\n",
    "test_acc = round(class_forest.score(x_test, y_test),2)\n",
    "\n",
    "print(f'Training Accuracy: {train_acc}')\n",
    "print(f'Test Set Accuracy: {test_acc}')"
   ]
  },
  {
   "cell_type": "code",
   "execution_count": 26,
   "id": "826c55cb",
   "metadata": {},
   "outputs": [
    {
     "data": {
      "image/png": "[encoded data removed]",
      "text/plain": [
       "<Figure size 432x288 with 2 Axes>"
      ]
     },
     "metadata": {
      "needs_background": "light"
     },
     "output_type": "display_data"
    }
   ],
   "source": [
    "# We can also make a simple confusion matrix\n",
    "plot_confusion_matrix(class_forest, x_test, y_test);"
   ]
  },
  {
   "cell_type": "markdown",
   "id": "684c6097",
   "metadata": {},
   "source": [
    "- From above results we found that the best acurancy score was by using Logistic regression with Random forest "
   ]
  },
  {
   "cell_type": "markdown",
   "id": "35a41a88",
   "metadata": {},
   "source": [
    "## US pollution Dataset"
   ]
  },
  {
   "cell_type": "markdown",
   "id": "e4cc106d",
   "metadata": {},
   "source": [
    "### load in the Data"
   ]
  },
  {
   "cell_type": "code",
   "execution_count": 27,
   "id": "dd2cab78",
   "metadata": {},
   "outputs": [
    {
     "name": "stdout",
     "output_type": "stream",
     "text": [
      "(1746661, 29)\n"
     ]
    }
   ],
   "source": [
    "#Loading data\n",
    "df1 = pd.read_csv(\"pollution_us_2000_2016.csv\") \n",
    "print(df1.shape)"
   ]
  },
  {
   "cell_type": "code",
   "execution_count": 28,
   "id": "77cbf898",
   "metadata": {},
   "outputs": [
    {
     "data": {
      "text/html": [
       "<div>\n",
       "<style scoped>\n",
       "    .dataframe tbody tr th:only-of-type {\n",
       "        vertical-align: middle;\n",
       "    }\n",
       "\n",
       "    .dataframe tbody tr th {\n",
       "        vertical-align: top;\n",
       "    }\n",
       "\n",
       "    .dataframe thead th {\n",
       "        text-align: right;\n",
       "    }\n",
       "</style>\n",
       "<table border=\"1\" class=\"dataframe\">\n",
       "  <thead>\n",
       "    <tr style=\"text-align: right;\">\n",
       "      <th></th>\n",
       "      <th>NO2 Mean</th>\n",
       "      <th>NO2 1st Max Value</th>\n",
       "      <th>NO2 AQI</th>\n",
       "      <th>O3 Mean</th>\n",
       "      <th>O3 1st Max Value</th>\n",
       "      <th>O3 AQI</th>\n",
       "      <th>SO2 Mean</th>\n",
       "      <th>SO2 1st Max Value</th>\n",
       "      <th>SO2 AQI</th>\n",
       "      <th>CO Mean</th>\n",
       "      <th>CO 1st Max Value</th>\n",
       "      <th>CO AQI</th>\n",
       "    </tr>\n",
       "  </thead>\n",
       "  <tbody>\n",
       "    <tr>\n",
       "      <th>0</th>\n",
       "      <td>19.041667</td>\n",
       "      <td>49.0</td>\n",
       "      <td>46</td>\n",
       "      <td>0.022500</td>\n",
       "      <td>0.040</td>\n",
       "      <td>34</td>\n",
       "      <td>3.000000</td>\n",
       "      <td>9.0</td>\n",
       "      <td>13.0</td>\n",
       "      <td>1.145833</td>\n",
       "      <td>4.2</td>\n",
       "      <td>NaN</td>\n",
       "    </tr>\n",
       "    <tr>\n",
       "      <th>1</th>\n",
       "      <td>19.041667</td>\n",
       "      <td>49.0</td>\n",
       "      <td>46</td>\n",
       "      <td>0.022500</td>\n",
       "      <td>0.040</td>\n",
       "      <td>34</td>\n",
       "      <td>3.000000</td>\n",
       "      <td>9.0</td>\n",
       "      <td>13.0</td>\n",
       "      <td>0.878947</td>\n",
       "      <td>2.2</td>\n",
       "      <td>25.0</td>\n",
       "    </tr>\n",
       "    <tr>\n",
       "      <th>2</th>\n",
       "      <td>19.041667</td>\n",
       "      <td>49.0</td>\n",
       "      <td>46</td>\n",
       "      <td>0.022500</td>\n",
       "      <td>0.040</td>\n",
       "      <td>34</td>\n",
       "      <td>2.975000</td>\n",
       "      <td>6.6</td>\n",
       "      <td>NaN</td>\n",
       "      <td>1.145833</td>\n",
       "      <td>4.2</td>\n",
       "      <td>NaN</td>\n",
       "    </tr>\n",
       "    <tr>\n",
       "      <th>3</th>\n",
       "      <td>19.041667</td>\n",
       "      <td>49.0</td>\n",
       "      <td>46</td>\n",
       "      <td>0.022500</td>\n",
       "      <td>0.040</td>\n",
       "      <td>34</td>\n",
       "      <td>2.975000</td>\n",
       "      <td>6.6</td>\n",
       "      <td>NaN</td>\n",
       "      <td>0.878947</td>\n",
       "      <td>2.2</td>\n",
       "      <td>25.0</td>\n",
       "    </tr>\n",
       "    <tr>\n",
       "      <th>4</th>\n",
       "      <td>22.958333</td>\n",
       "      <td>36.0</td>\n",
       "      <td>34</td>\n",
       "      <td>0.013375</td>\n",
       "      <td>0.032</td>\n",
       "      <td>27</td>\n",
       "      <td>1.958333</td>\n",
       "      <td>3.0</td>\n",
       "      <td>4.0</td>\n",
       "      <td>0.850000</td>\n",
       "      <td>1.6</td>\n",
       "      <td>NaN</td>\n",
       "    </tr>\n",
       "  </tbody>\n",
       "</table>\n",
       "</div>"
      ],
      "text/plain": [
       "    NO2 Mean  NO2 1st Max Value  NO2 AQI   O3 Mean  O3 1st Max Value  O3 AQI  \\\n",
       "0  19.041667               49.0       46  0.022500             0.040      34   \n",
       "1  19.041667               49.0       46  0.022500             0.040      34   \n",
       "2  19.041667               49.0       46  0.022500             0.040      34   \n",
       "3  19.041667               49.0       46  0.022500             0.040      34   \n",
       "4  22.958333               36.0       34  0.013375             0.032      27   \n",
       "\n",
       "   SO2 Mean  SO2 1st Max Value  SO2 AQI   CO Mean  CO 1st Max Value  CO AQI  \n",
       "0  3.000000                9.0     13.0  1.145833               4.2     NaN  \n",
       "1  3.000000                9.0     13.0  0.878947               2.2    25.0  \n",
       "2  2.975000                6.6      NaN  1.145833               4.2     NaN  \n",
       "3  2.975000                6.6      NaN  0.878947               2.2    25.0  \n",
       "4  1.958333                3.0      4.0  0.850000               1.6     NaN  "
      ]
     },
     "execution_count": 28,
     "metadata": {},
     "output_type": "execute_result"
    }
   ],
   "source": [
    "df1 = pd.DataFrame (df1, columns = ['NO2 Mean','NO2 1st Max Value','NO2 AQI','O3 Mean','O3 1st Max Value',\n",
    "                                 'O3 AQI', 'SO2 Mean','SO2 1st Max Value', 'SO2 AQI','CO Mean','CO 1st Max Value','CO AQI' ])\n",
    "df1.head()"
   ]
  },
  {
   "cell_type": "code",
   "execution_count": 29,
   "id": "45bddd93",
   "metadata": {},
   "outputs": [
    {
     "name": "stdout",
     "output_type": "stream",
     "text": [
      "<class 'pandas.core.frame.DataFrame'>\n",
      "RangeIndex: 1746661 entries, 0 to 1746660\n",
      "Data columns (total 12 columns):\n",
      " #   Column             Dtype  \n",
      "---  ------             -----  \n",
      " 0   NO2 Mean           float64\n",
      " 1   NO2 1st Max Value  float64\n",
      " 2   NO2 AQI            int64  \n",
      " 3   O3 Mean            float64\n",
      " 4   O3 1st Max Value   float64\n",
      " 5   O3 AQI             int64  \n",
      " 6   SO2 Mean           float64\n",
      " 7   SO2 1st Max Value  float64\n",
      " 8   SO2 AQI            float64\n",
      " 9   CO Mean            float64\n",
      " 10  CO 1st Max Value   float64\n",
      " 11  CO AQI             float64\n",
      "dtypes: float64(10), int64(2)\n",
      "memory usage: 159.9 MB\n"
     ]
    }
   ],
   "source": [
    "df1.info()"
   ]
  },
  {
   "cell_type": "code",
   "execution_count": 30,
   "id": "e731567f",
   "metadata": {
    "scrolled": true
   },
   "outputs": [
    {
     "data": {
      "text/html": [
       "<div>\n",
       "<style scoped>\n",
       "    .dataframe tbody tr th:only-of-type {\n",
       "        vertical-align: middle;\n",
       "    }\n",
       "\n",
       "    .dataframe tbody tr th {\n",
       "        vertical-align: top;\n",
       "    }\n",
       "\n",
       "    .dataframe thead th {\n",
       "        text-align: right;\n",
       "    }\n",
       "</style>\n",
       "<table border=\"1\" class=\"dataframe\">\n",
       "  <thead>\n",
       "    <tr style=\"text-align: right;\">\n",
       "      <th></th>\n",
       "      <th>NO2 Mean</th>\n",
       "      <th>NO2 1st Max Value</th>\n",
       "      <th>NO2 AQI</th>\n",
       "      <th>O3 Mean</th>\n",
       "      <th>O3 1st Max Value</th>\n",
       "      <th>O3 AQI</th>\n",
       "      <th>SO2 Mean</th>\n",
       "      <th>SO2 1st Max Value</th>\n",
       "      <th>SO2 AQI</th>\n",
       "      <th>CO Mean</th>\n",
       "      <th>CO 1st Max Value</th>\n",
       "      <th>CO AQI</th>\n",
       "    </tr>\n",
       "  </thead>\n",
       "  <tbody>\n",
       "    <tr>\n",
       "      <th>count</th>\n",
       "      <td>1.746661e+06</td>\n",
       "      <td>1.746661e+06</td>\n",
       "      <td>1.746661e+06</td>\n",
       "      <td>1.746661e+06</td>\n",
       "      <td>1.746661e+06</td>\n",
       "      <td>1.746661e+06</td>\n",
       "      <td>1.746661e+06</td>\n",
       "      <td>1.746661e+06</td>\n",
       "      <td>873754.000000</td>\n",
       "      <td>1.746661e+06</td>\n",
       "      <td>1.746661e+06</td>\n",
       "      <td>873338.000000</td>\n",
       "    </tr>\n",
       "    <tr>\n",
       "      <th>mean</th>\n",
       "      <td>1.282193e+01</td>\n",
       "      <td>2.541485e+01</td>\n",
       "      <td>2.389822e+01</td>\n",
       "      <td>2.612485e-02</td>\n",
       "      <td>3.920331e-02</td>\n",
       "      <td>3.605012e+01</td>\n",
       "      <td>1.870364e+00</td>\n",
       "      <td>4.492185e+00</td>\n",
       "      <td>7.115945</td>\n",
       "      <td>3.682177e-01</td>\n",
       "      <td>6.201067e-01</td>\n",
       "      <td>5.996595</td>\n",
       "    </tr>\n",
       "    <tr>\n",
       "      <th>std</th>\n",
       "      <td>9.504814e+00</td>\n",
       "      <td>1.599963e+01</td>\n",
       "      <td>1.516280e+01</td>\n",
       "      <td>1.136974e-02</td>\n",
       "      <td>1.534362e-02</td>\n",
       "      <td>1.978042e+01</td>\n",
       "      <td>2.760435e+00</td>\n",
       "      <td>7.679866e+00</td>\n",
       "      <td>11.937473</td>\n",
       "      <td>3.140231e-01</td>\n",
       "      <td>6.439361e-01</td>\n",
       "      <td>5.851836</td>\n",
       "    </tr>\n",
       "    <tr>\n",
       "      <th>min</th>\n",
       "      <td>-2.000000e+00</td>\n",
       "      <td>-2.000000e+00</td>\n",
       "      <td>0.000000e+00</td>\n",
       "      <td>0.000000e+00</td>\n",
       "      <td>0.000000e+00</td>\n",
       "      <td>0.000000e+00</td>\n",
       "      <td>-2.000000e+00</td>\n",
       "      <td>-2.000000e+00</td>\n",
       "      <td>0.000000</td>\n",
       "      <td>-4.375000e-01</td>\n",
       "      <td>-4.000000e-01</td>\n",
       "      <td>0.000000</td>\n",
       "    </tr>\n",
       "    <tr>\n",
       "      <th>25%</th>\n",
       "      <td>5.750000e+00</td>\n",
       "      <td>1.300000e+01</td>\n",
       "      <td>1.200000e+01</td>\n",
       "      <td>1.787500e-02</td>\n",
       "      <td>2.900000e-02</td>\n",
       "      <td>2.500000e+01</td>\n",
       "      <td>2.565220e-01</td>\n",
       "      <td>8.000000e-01</td>\n",
       "      <td>1.000000</td>\n",
       "      <td>1.834580e-01</td>\n",
       "      <td>2.920000e-01</td>\n",
       "      <td>2.000000</td>\n",
       "    </tr>\n",
       "    <tr>\n",
       "      <th>50%</th>\n",
       "      <td>1.073913e+01</td>\n",
       "      <td>2.400000e+01</td>\n",
       "      <td>2.300000e+01</td>\n",
       "      <td>2.587500e-02</td>\n",
       "      <td>3.800000e-02</td>\n",
       "      <td>3.300000e+01</td>\n",
       "      <td>9.875000e-01</td>\n",
       "      <td>2.000000e+00</td>\n",
       "      <td>3.000000</td>\n",
       "      <td>2.926250e-01</td>\n",
       "      <td>4.000000e-01</td>\n",
       "      <td>5.000000</td>\n",
       "    </tr>\n",
       "    <tr>\n",
       "      <th>75%</th>\n",
       "      <td>1.771364e+01</td>\n",
       "      <td>3.570000e+01</td>\n",
       "      <td>3.300000e+01</td>\n",
       "      <td>3.391700e-02</td>\n",
       "      <td>4.800000e-02</td>\n",
       "      <td>4.200000e+01</td>\n",
       "      <td>2.325000e+00</td>\n",
       "      <td>5.000000e+00</td>\n",
       "      <td>9.000000</td>\n",
       "      <td>4.666670e-01</td>\n",
       "      <td>8.000000e-01</td>\n",
       "      <td>8.000000</td>\n",
       "    </tr>\n",
       "    <tr>\n",
       "      <th>max</th>\n",
       "      <td>1.395417e+02</td>\n",
       "      <td>2.670000e+02</td>\n",
       "      <td>1.320000e+02</td>\n",
       "      <td>9.508300e-02</td>\n",
       "      <td>1.410000e-01</td>\n",
       "      <td>2.180000e+02</td>\n",
       "      <td>3.216250e+02</td>\n",
       "      <td>3.510000e+02</td>\n",
       "      <td>200.000000</td>\n",
       "      <td>7.508333e+00</td>\n",
       "      <td>1.990000e+01</td>\n",
       "      <td>201.000000</td>\n",
       "    </tr>\n",
       "  </tbody>\n",
       "</table>\n",
       "</div>"
      ],
      "text/plain": [
       "           NO2 Mean  NO2 1st Max Value       NO2 AQI       O3 Mean  \\\n",
       "count  1.746661e+06       1.746661e+06  1.746661e+06  1.746661e+06   \n",
       "mean   1.282193e+01       2.541485e+01  2.389822e+01  2.612485e-02   \n",
       "std    9.504814e+00       1.599963e+01  1.516280e+01  1.136974e-02   \n",
       "min   -2.000000e+00      -2.000000e+00  0.000000e+00  0.000000e+00   \n",
       "25%    5.750000e+00       1.300000e+01  1.200000e+01  1.787500e-02   \n",
       "50%    1.073913e+01       2.400000e+01  2.300000e+01  2.587500e-02   \n",
       "75%    1.771364e+01       3.570000e+01  3.300000e+01  3.391700e-02   \n",
       "max    1.395417e+02       2.670000e+02  1.320000e+02  9.508300e-02   \n",
       "\n",
       "       O3 1st Max Value        O3 AQI      SO2 Mean  SO2 1st Max Value  \\\n",
       "count      1.746661e+06  1.746661e+06  1.746661e+06       1.746661e+06   \n",
       "mean       3.920331e-02  3.605012e+01  1.870364e+00       4.492185e+00   \n",
       "std        1.534362e-02  1.978042e+01  2.760435e+00       7.679866e+00   \n",
       "min        0.000000e+00  0.000000e+00 -2.000000e+00      -2.000000e+00   \n",
       "25%        2.900000e-02  2.500000e+01  2.565220e-01       8.000000e-01   \n",
       "50%        3.800000e-02  3.300000e+01  9.875000e-01       2.000000e+00   \n",
       "75%        4.800000e-02  4.200000e+01  2.325000e+00       5.000000e+00   \n",
       "max        1.410000e-01  2.180000e+02  3.216250e+02       3.510000e+02   \n",
       "\n",
       "             SO2 AQI       CO Mean  CO 1st Max Value         CO AQI  \n",
       "count  873754.000000  1.746661e+06      1.746661e+06  873338.000000  \n",
       "mean        7.115945  3.682177e-01      6.201067e-01       5.996595  \n",
       "std        11.937473  3.140231e-01      6.439361e-01       5.851836  \n",
       "min         0.000000 -4.375000e-01     -4.000000e-01       0.000000  \n",
       "25%         1.000000  1.834580e-01      2.920000e-01       2.000000  \n",
       "50%         3.000000  2.926250e-01      4.000000e-01       5.000000  \n",
       "75%         9.000000  4.666670e-01      8.000000e-01       8.000000  \n",
       "max       200.000000  7.508333e+00      1.990000e+01     201.000000  "
      ]
     },
     "execution_count": 30,
     "metadata": {},
     "output_type": "execute_result"
    }
   ],
   "source": [
    "df1.describe()"
   ]
  },
  {
   "cell_type": "code",
   "execution_count": 31,
   "id": "671144c6",
   "metadata": {},
   "outputs": [
    {
     "data": {
      "text/plain": [
       "NO2 Mean                  0\n",
       "NO2 1st Max Value         0\n",
       "NO2 AQI                   0\n",
       "O3 Mean                   0\n",
       "O3 1st Max Value          0\n",
       "O3 AQI                    0\n",
       "SO2 Mean                  0\n",
       "SO2 1st Max Value         0\n",
       "SO2 AQI              872907\n",
       "CO Mean                   0\n",
       "CO 1st Max Value          0\n",
       "CO AQI               873323\n",
       "dtype: int64"
      ]
     },
     "execution_count": 31,
     "metadata": {},
     "output_type": "execute_result"
    }
   ],
   "source": [
    "df1.isnull().sum()"
   ]
  },
  {
   "cell_type": "markdown",
   "id": "830dd0ea",
   "metadata": {},
   "source": [
    "### Cleaning The data "
   ]
  },
  {
   "cell_type": "code",
   "execution_count": 32,
   "id": "c36df7e2",
   "metadata": {},
   "outputs": [],
   "source": [
    "# Backwards filling\n",
    "\n",
    "df1.ffill(axis = 0, inplace = True)\n",
    "\n",
    "df1.bfill(axis = 0, inplace = True)\n"
   ]
  },
  {
   "cell_type": "markdown",
   "id": "09939b01",
   "metadata": {},
   "source": [
    "### Spliting the data"
   ]
  },
  {
   "cell_type": "code",
   "execution_count": 33,
   "id": "61bd9763",
   "metadata": {},
   "outputs": [],
   "source": [
    "# Save X data\n",
    "x = df1.iloc[:, 0:-1]\n",
    "y = df1.iloc[:, -1]"
   ]
  },
  {
   "cell_type": "code",
   "execution_count": 34,
   "id": "fadfe732",
   "metadata": {},
   "outputs": [],
   "source": [
    "x_train, x_test, y_train, y_test = train_test_split(x, y, train_size=0.75, random_state=2)"
   ]
  },
  {
   "cell_type": "code",
   "execution_count": 35,
   "id": "1189460c",
   "metadata": {},
   "outputs": [],
   "source": [
    "# Make a simple linear regression model\n",
    "simp_lr = LinearRegression(fit_intercept=True, normalize=False)\n",
    "simp_lr.fit(pd.DataFrame(x_train), y_train)\n",
    "predictions = simp_lr.predict(pd.DataFrame(x_test))"
   ]
  },
  {
   "cell_type": "code",
   "execution_count": 36,
   "id": "cb46cdd4",
   "metadata": {},
   "outputs": [
    {
     "data": {
      "text/plain": [
       "0.019766814342292882"
      ]
     },
     "execution_count": 36,
     "metadata": {},
     "output_type": "execute_result"
    }
   ],
   "source": [
    "simp_lr.intercept_"
   ]
  },
  {
   "cell_type": "code",
   "execution_count": 37,
   "id": "48603d66",
   "metadata": {},
   "outputs": [
    {
     "data": {
      "text/plain": [
       "array([ 3.04382727e-03, -2.72371930e-03,  2.97662039e-02,  5.23529202e+00,\n",
       "       -1.07210052e+01, -9.18570909e-04, -1.87210140e-02, -1.02803800e-02,\n",
       "        5.81666051e-03,  9.73130299e+00,  3.33702453e+00])"
      ]
     },
     "execution_count": 37,
     "metadata": {},
     "output_type": "execute_result"
    }
   ],
   "source": [
    "simp_lr.coef_"
   ]
  },
  {
   "cell_type": "code",
   "execution_count": 38,
   "id": "e4e915fc",
   "metadata": {},
   "outputs": [
    {
     "data": {
      "text/plain": [
       "0.8238411347862014"
      ]
     },
     "execution_count": 38,
     "metadata": {},
     "output_type": "execute_result"
    }
   ],
   "source": [
    "r2_score(y_true=y_test, y_pred=predictions)"
   ]
  },
  {
   "cell_type": "code",
   "execution_count": 39,
   "id": "161d658c",
   "metadata": {},
   "outputs": [
    {
     "name": "stdout",
     "output_type": "stream",
     "text": [
      "Baseline\n",
      "MSE: 70.29830037519227\n",
      "MAE: 5.998844270397979\n",
      "RMSE: 8.384408170836643\n",
      "\n",
      "Train Linear Regression\n",
      "MSE: 6.028710737978882\n",
      "MAE: 1.246193222431209\n",
      "RMSE: 2.455343303487087\n",
      "\n",
      "Test Linear Regression\n",
      "MSE: 5.988188431724511\n",
      "MAE: 1.246610792738187\n",
      "RMSE: 2.4470775287523097\n"
     ]
    }
   ],
   "source": [
    "def calc_pol(y_true, y_predict):\n",
    "\n",
    "    result_dict = {}\n",
    "\n",
    "    mse = mean_squared_error(y_true, y_predict) \n",
    "    mae = mean_absolute_error(y_true, y_predict)\n",
    "    rmse = mean_squared_error(y_true, y_predict, squared=False)\n",
    "    \n",
    "    ls = [mse, mae, rmse] \n",
    "    ls2 = [\"MSE\", \"MAE\", \"RMSE\"]\n",
    "    for x in range(len(ls)):\n",
    "        print(f\"{ls2[x]}: {ls[x]}\")\n",
    "        result_dict[ls2[x]] = ls[x]\n",
    "        \n",
    "    return result_dict\n",
    "\n",
    "# save results to object and print results\n",
    "\n",
    "print(\"Baseline\")\n",
    "# baseline model (Majority Class) was 0\n",
    "b_preds = [0 for x in range(len(y_train))]\n",
    "res0 = calc_pol(y_train, b_preds)\n",
    "\n",
    "print(\"\\nTrain Linear Regression\")\n",
    "res1 = calc_pol(y_train, simp_lr.predict(x_train))\n",
    "\n",
    "print(\"\\nTest Linear Regression\")\n",
    "res1 = calc_pol(y_test, simp_lr.predict(x_test))"
   ]
  },
  {
   "cell_type": "markdown",
   "id": "9038755f",
   "metadata": {},
   "source": [
    "### Random Forest"
   ]
  },
  {
   "cell_type": "code",
   "execution_count": 40,
   "id": "b6087a60",
   "metadata": {},
   "outputs": [
    {
     "data": {
      "text/plain": [
       "1.246610792738187"
      ]
     },
     "execution_count": 40,
     "metadata": {},
     "output_type": "execute_result"
    }
   ],
   "source": [
    "reg_forest = RandomForestRegressor(n_estimators = 10, random_state = 0, criterion = 'mse')\n",
    "reg_forest.fit(x_train, y_train)\n",
    "\n",
    "preds_forest = simp_lr.predict(x_test)\n",
    "mean_absolute_error(y_true=y_test, y_pred=preds_forest)"
   ]
  },
  {
   "cell_type": "code",
   "execution_count": 41,
   "id": "880c720c",
   "metadata": {
    "scrolled": true
   },
   "outputs": [
    {
     "data": {
      "text/plain": [
       "2.4470775287523097"
      ]
     },
     "execution_count": 41,
     "metadata": {},
     "output_type": "execute_result"
    }
   ],
   "source": [
    "#MSE\n",
    "mean_squared_error(y_true=y_test, y_pred=preds_forest, squared=False)"
   ]
  },
  {
   "cell_type": "code",
   "execution_count": 42,
   "id": "c0457ef8",
   "metadata": {},
   "outputs": [
    {
     "data": {
      "text/plain": [
       "5.988188431724511"
      ]
     },
     "execution_count": 42,
     "metadata": {},
     "output_type": "execute_result"
    }
   ],
   "source": [
    "#RMSE\n",
    "mean_squared_error(y_true=y_test, y_pred=preds_forest)"
   ]
  },
  {
   "cell_type": "code",
   "execution_count": 43,
   "id": "7fdb8d87",
   "metadata": {},
   "outputs": [
    {
     "data": {
      "text/plain": [
       "array([0.02247745, 0.01076388, 0.00737587, 0.0209302 , 0.00971351,\n",
       "       0.00879874, 0.02663596, 0.01751706, 0.00773651, 0.23348147,\n",
       "       0.63456935])"
      ]
     },
     "execution_count": 43,
     "metadata": {},
     "output_type": "execute_result"
    }
   ],
   "source": [
    "reg_forest.feature_importances_"
   ]
  },
  {
   "cell_type": "code",
   "execution_count": 44,
   "id": "a7fcb413",
   "metadata": {},
   "outputs": [
    {
     "data": {
      "image/png": "[encoded data removed]",
      "text/plain": [
       "<Figure size 432x288 with 1 Axes>"
      ]
     },
     "metadata": {
      "needs_background": "light"
     },
     "output_type": "display_data"
    }
   ],
   "source": [
    "# Plot Feature Importances to Visualize better\n",
    "\n",
    "pd.DataFrame(dict(zip(x_train.columns, reg_forest.feature_importances_)), index = [1])\\\n",
    ".T\\\n",
    ".sort_values(1, ascending=True)\\\n",
    ".plot(kind=\"barh\", title=\"Feature Importances (%)\");"
   ]
  },
  {
   "cell_type": "markdown",
   "id": "abf5f1d9",
   "metadata": {},
   "source": [
    "- From above redult we found that the minimum mse was by using Random Forest Model."
   ]
  }
 ],
 "metadata": {
  "kernelspec": {
   "display_name": "Python 3",
   "language": "python",
   "name": "python3"
  },
  "language_info": {
   "codemirror_mode": {
    "name": "ipython",
    "version": 3
   },
   "file_extension": ".py",
   "mimetype": "text/x-python",
   "name": "python",
   "nbconvert_exporter": "python",
   "pygments_lexer": "ipython3",
   "version": "3.8.8"
  }
 },
 "nbformat": 4,
 "nbformat_minor": 5
}
