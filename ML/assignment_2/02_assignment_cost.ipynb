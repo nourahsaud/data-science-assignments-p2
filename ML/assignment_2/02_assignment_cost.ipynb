{
 "cells": [
  {
   "cell_type": "markdown",
   "metadata": {
    "id": "view-in-github"
   },
   "source": [
    "<a href=\"https://colab.research.google.com/github/gumdropsteve/intro_to_machine_learning/blob/main/day_02/02_assignment_cost.ipynb\" target=\"_parent\"><img src=\"https://colab.research.google.com/assets/colab-badge.svg\" alt=\"Open In Colab\"/></a>"
   ]
  },
  {
   "cell_type": "code",
   "execution_count": 1,
   "metadata": {
    "executionInfo": {
     "elapsed": 6768,
     "status": "ok",
     "timestamp": 1623504766030,
     "user": {
      "displayName": "Mikio Harman",
      "photoUrl": "",
      "userId": "02010985210266587860"
     },
     "user_tz": 420
    },
    "id": "0DBsWMnDfWJN"
   },
   "outputs": [],
   "source": [
    "%%capture\n",
    "# STARTER CODE - RUN THIS CELL - DO NOT CHANGE\n",
    "!pip install category_encoders\n",
    "import seaborn as sns\n",
    "import pandas as pd\n",
    "import numpy as np\n",
    "import matplotlib.pyplot as plt\n",
    "import category_encoders as ce\n",
    "from sklearn.linear_model import LinearRegression, LogisticRegression\n",
    "from sklearn.preprocessing import StandardScaler\n",
    "from sklearn.model_selection import train_test_split\n",
    "from sklearn.pipeline import make_pipeline\n",
    "from sklearn.metrics import mean_squared_error, mean_absolute_error, accuracy_score, accuracy_score, recall_score, precision_score\n",
    "df_r = sns.load_dataset(\"tips\").dropna()\n",
    "df_c = sns.load_dataset(\"titanic\").dropna()\n",
    "model_r = LinearRegression()\n",
    "model_c = LogisticRegression()\n",
    "x_train_r, x_test_r, y_train_r, y_test_r = train_test_split(df_r.drop(\"total_bill\", axis=1), df_r[\"total_bill\"])\n",
    "x_train_c, x_test_c, y_train_c, y_test_c = train_test_split(df_c.drop([\"survived\", \"alive\", \"adult_male\"], axis=1), df_c[\"survived\"])\n",
    "pipe_r = make_pipeline(ce.OrdinalEncoder(), StandardScaler(), LinearRegression()).fit(x_train_r, y_train_r)\n",
    "pipe_c = make_pipeline(ce.OrdinalEncoder(), StandardScaler(), LogisticRegression()).fit(x_train_c, y_train_c)\n",
    "y_pred_r = pipe_r.predict(x_test_r)\n",
    "y_pred_c = pipe_c.predict(x_test_c)"
   ]
  },
  {
   "cell_type": "markdown",
   "metadata": {
    "id": "JA6ub2bZemNP"
   },
   "source": [
    "# Cost Functions\n",
    "\n",
    "- Without importing any libraries please write a cost function for each of the following listed below.\n",
    "- Do not refrence ANY online resources other than whats provided\n",
    "\n",
    "You can only use these resources, `pandas` and `numpy` to make your functions:\n",
    "- [Mean Squared Error](https://en.wikipedia.org/wiki/Mean_squared_error)\n",
    "- [Mean Absolute Error](https://en.wikipedia.org/wiki/Mean_absolute_error)\n",
    "- [Root Mean Squared Error](https://en.wikipedia.org/wiki/Root-mean-square_deviation)\n",
    "- [Residual Sum of Squares](https://en.wikipedia.org/wiki/Residual_sum_of_squares)\n",
    "- [Precision, Recall, Accuracy](https://en.wikipedia.org/wiki/Confusion_matrix)\n",
    "- [Scikit-Learn](https://scikit-learn.org/stable/index.html)"
   ]
  },
  {
   "cell_type": "markdown",
   "metadata": {
    "id": "39_TltPpf60I"
   },
   "source": [
    "#### Regression Cost Functions\n",
    "\n",
    "- Use `y_test_r` as your true labels\n",
    "- Use `y_pred_r` as your predicted labels"
   ]
  },
  {
   "cell_type": "code",
   "execution_count": 2,
   "metadata": {
    "executionInfo": {
     "elapsed": 170,
     "status": "ok",
     "timestamp": 1623504771625,
     "user": {
      "displayName": "Mikio Harman",
      "photoUrl": "",
      "userId": "02010985210266587860"
     },
     "user_tz": 420
    },
    "id": "LgU4Ke0Cd3gw"
   },
   "outputs": [
    {
     "data": {
      "text/plain": [
       "38.75920862991942"
      ]
     },
     "execution_count": 2,
     "metadata": {},
     "output_type": "execute_result"
    }
   ],
   "source": [
    "# Create a Mean Squared Error Function\n",
    "def mse(y_true, y_pred):\n",
    "    return np.mean((y_true-y_pred)**2)\n",
    "\n",
    "mse(y_test_r, y_pred_r)"
   ]
  },
  {
   "cell_type": "code",
   "execution_count": 3,
   "metadata": {
    "colab": {
     "base_uri": "https://localhost:8080/"
    },
    "executionInfo": {
     "elapsed": 198,
     "status": "ok",
     "timestamp": 1623504773442,
     "user": {
      "displayName": "Mikio Harman",
      "photoUrl": "",
      "userId": "02010985210266587860"
     },
     "user_tz": 420
    },
    "id": "Eyp3WVY_tuBz",
    "outputId": "5eb033f9-9b26-499c-bc66-6b6a154f30ea"
   },
   "outputs": [
    {
     "data": {
      "text/plain": [
       "38.75920862991943"
      ]
     },
     "execution_count": 3,
     "metadata": {},
     "output_type": "execute_result"
    }
   ],
   "source": [
    "# Your Mean Squared Error function should equal this value\n",
    "mean_squared_error(y_test_r, y_pred_r)"
   ]
  },
  {
   "cell_type": "code",
   "execution_count": 4,
   "metadata": {
    "executionInfo": {
     "elapsed": 6,
     "status": "ok",
     "timestamp": 1623504774163,
     "user": {
      "displayName": "Mikio Harman",
      "photoUrl": "",
      "userId": "02010985210266587860"
     },
     "user_tz": 420
    },
    "id": "n-B-pkxtfAtI"
   },
   "outputs": [
    {
     "data": {
      "text/plain": [
       "4.564611845420195"
      ]
     },
     "execution_count": 4,
     "metadata": {},
     "output_type": "execute_result"
    }
   ],
   "source": [
    "# Create a Mean Absolute Error Function\n",
    "def mae(y_true, y_pred):\n",
    "    return np.mean(abs(y_true - y_pred))\n",
    "\n",
    "mae(y_test_r, y_pred_r)"
   ]
  },
  {
   "cell_type": "code",
   "execution_count": 5,
   "metadata": {
    "colab": {
     "base_uri": "https://localhost:8080/"
    },
    "executionInfo": {
     "elapsed": 5,
     "status": "ok",
     "timestamp": 1623504774164,
     "user": {
      "displayName": "Mikio Harman",
      "photoUrl": "",
      "userId": "02010985210266587860"
     },
     "user_tz": 420
    },
    "id": "8ZzkyvrSuCkc",
    "outputId": "292eafaf-94b0-4631-9256-9bf234551f05"
   },
   "outputs": [
    {
     "data": {
      "text/plain": [
       "4.564611845420197"
      ]
     },
     "execution_count": 5,
     "metadata": {},
     "output_type": "execute_result"
    }
   ],
   "source": [
    "# Your Mean Absolute Error function should equal this value\n",
    "mean_absolute_error(y_test_r, y_pred_r)"
   ]
  },
  {
   "cell_type": "code",
   "execution_count": 6,
   "metadata": {
    "executionInfo": {
     "elapsed": 142,
     "status": "ok",
     "timestamp": 1623504802727,
     "user": {
      "displayName": "Mikio Harman",
      "photoUrl": "",
      "userId": "02010985210266587860"
     },
     "user_tz": 420
    },
    "id": "w4nobsDJfk4L"
   },
   "outputs": [
    {
     "data": {
      "text/plain": [
       "6.225689410010704"
      ]
     },
     "execution_count": 6,
     "metadata": {},
     "output_type": "execute_result"
    }
   ],
   "source": [
    "# Create a Root Mean Squared Error Function\n",
    "def rmse(y_true, y_pred):\n",
    "    return np.sqrt(np.mean((y_true-y_pred)**2))\n",
    "\n",
    "rmse(y_test_r, y_pred_r)"
   ]
  },
  {
   "cell_type": "code",
   "execution_count": 7,
   "metadata": {
    "colab": {
     "base_uri": "https://localhost:8080/"
    },
    "executionInfo": {
     "elapsed": 5,
     "status": "ok",
     "timestamp": 1623504776181,
     "user": {
      "displayName": "Mikio Harman",
      "photoUrl": "",
      "userId": "02010985210266587860"
     },
     "user_tz": 420
    },
    "id": "WswkpQCruRyb",
    "outputId": "a51e69fd-43d4-4bfd-abec-d4ffd9d85a74"
   },
   "outputs": [
    {
     "data": {
      "text/plain": [
       "6.225689410010704"
      ]
     },
     "execution_count": 7,
     "metadata": {},
     "output_type": "execute_result"
    }
   ],
   "source": [
    "# Your Root Mean Squared Error function should equal this value\n",
    "mean_squared_error(y_test_r, y_pred_r, squared=False)"
   ]
  },
  {
   "cell_type": "code",
   "execution_count": 8,
   "metadata": {
    "executionInfo": {
     "elapsed": 154,
     "status": "ok",
     "timestamp": 1623504793193,
     "user": {
      "displayName": "Mikio Harman",
      "photoUrl": "",
      "userId": "02010985210266587860"
     },
     "user_tz": 420
    },
    "id": "RcuwEx9qd_hq"
   },
   "outputs": [
    {
     "data": {
      "text/plain": [
       "2364.311726425085"
      ]
     },
     "execution_count": 8,
     "metadata": {},
     "output_type": "execute_result"
    }
   ],
   "source": [
    "# Create a Sum of Squared Error Function\n",
    "def rss(y_true, y_pred):\n",
    "    return np.sum((y_true-y_pred)**2)\n",
    "\n",
    "rss(y_test_r, y_pred_r)"
   ]
  },
  {
   "cell_type": "markdown",
   "metadata": {
    "id": "fYpJ2jdYf-Et"
   },
   "source": [
    "#### Classification Cost Functions\n",
    "\n",
    "- Use `y_test_c` as your true labels\n",
    "- Use `y_pred_c` as your predicted labels"
   ]
  },
  {
   "cell_type": "code",
   "execution_count": 9,
   "metadata": {
    "executionInfo": {
     "elapsed": 3,
     "status": "ok",
     "timestamp": 1623504778418,
     "user": {
      "displayName": "Mikio Harman",
      "photoUrl": "",
      "userId": "02010985210266587860"
     },
     "user_tz": 420
    },
    "id": "aipG_B_7h3yI"
   },
   "outputs": [],
   "source": [
    "# Replace None with the correct value value\n",
    "true_positive = []\n",
    "true_negative = []\n",
    "false_positive = []\n",
    "false_negative = []\n",
    "\n",
    "# Here is some starter code but you can solve this problem any way you want\n",
    "# Write a loop to identify true positives, false negatives, false positives, and true negatives\n",
    "for x in range(len(y_test_c)):\n",
    "    if y_test_c.iloc[x] == y_pred_c[x]:\n",
    "        if y_pred_c[x] == 1:\n",
    "            true_positive.append(1) # add 1 to the true_positive, true_negative, false_positive or false_negative count (do this for each pass, each of the 4 should be represented once)\n",
    "        if y_pred_c[x] == 0:\n",
    "            true_negative.append(1)\n",
    "    if y_test_c.iloc[x] != y_pred_c[x]:\n",
    "        if y_pred_c[x] == 1:\n",
    "            false_positive.append(1)\n",
    "        if y_pred_c[x] == 0:\n",
    "            false_negative.append(1)\n",
    "\n",
    "# Uncomment below when your loop works to see totals of each\n",
    "# print(f\"True Positives: {true_positive}\\nTrue Negatives: {true_negative}\\nFalse Positives: {false_positive}\\nFalse Negatives: {false_negative}\")"
   ]
  },
  {
   "cell_type": "code",
   "execution_count": 18,
   "metadata": {
    "executionInfo": {
     "elapsed": 3,
     "status": "ok",
     "timestamp": 1623504779660,
     "user": {
      "displayName": "Mikio Harman",
      "photoUrl": "",
      "userId": "02010985210266587860"
     },
     "user_tz": 420
    },
    "id": "Q3Ctlw2heCig"
   },
   "outputs": [
    {
     "data": {
      "text/plain": [
       "0.8275862068965517"
      ]
     },
     "execution_count": 18,
     "metadata": {},
     "output_type": "execute_result"
    }
   ],
   "source": [
    "# Create A Function to Calculate Precision\n",
    "def precision(TP, FP):\n",
    "    return (sum (TP) / (sum(TP) + sum(FP)))\n",
    "\n",
    "precision(true_positive, false_positive)"
   ]
  },
  {
   "cell_type": "code",
   "execution_count": 11,
   "metadata": {
    "colab": {
     "base_uri": "https://localhost:8080/"
    },
    "executionInfo": {
     "elapsed": 4,
     "status": "ok",
     "timestamp": 1623504780407,
     "user": {
      "displayName": "Mikio Harman",
      "photoUrl": "",
      "userId": "02010985210266587860"
     },
     "user_tz": 420
    },
    "id": "UpzJxKZJqz9S",
    "outputId": "53c67fc4-347e-41d6-ed62-8f3eeff1fec3"
   },
   "outputs": [
    {
     "data": {
      "text/plain": [
       "0.8275862068965517"
      ]
     },
     "execution_count": 11,
     "metadata": {},
     "output_type": "execute_result"
    }
   ],
   "source": [
    "# Your precision function should equal this value\n",
    "precision_score(y_test_c, y_pred_c)"
   ]
  },
  {
   "cell_type": "code",
   "execution_count": 19,
   "metadata": {
    "executionInfo": {
     "elapsed": 144,
     "status": "ok",
     "timestamp": 1623504781181,
     "user": {
      "displayName": "Mikio Harman",
      "photoUrl": "",
      "userId": "02010985210266587860"
     },
     "user_tz": 420
    },
    "id": "rAX5khvCedHC"
   },
   "outputs": [
    {
     "data": {
      "text/plain": [
       "0.7272727272727273"
      ]
     },
     "execution_count": 19,
     "metadata": {},
     "output_type": "execute_result"
    }
   ],
   "source": [
    "# Create A Function to Calculate Recall\n",
    "def recall(TP, FN):\n",
    "    return (sum (TP) / (sum(TP) + sum(FN)))\n",
    "\n",
    "recall(true_positive, false_negative)"
   ]
  },
  {
   "cell_type": "code",
   "execution_count": 13,
   "metadata": {
    "colab": {
     "base_uri": "https://localhost:8080/"
    },
    "executionInfo": {
     "elapsed": 140,
     "status": "ok",
     "timestamp": 1623504781945,
     "user": {
      "displayName": "Mikio Harman",
      "photoUrl": "",
      "userId": "02010985210266587860"
     },
     "user_tz": 420
    },
    "id": "sPin2Q9Zqk-X",
    "outputId": "28ecab85-fb28-4cda-ea18-29a1104a1a84"
   },
   "outputs": [
    {
     "data": {
      "text/plain": [
       "0.7272727272727273"
      ]
     },
     "execution_count": 13,
     "metadata": {},
     "output_type": "execute_result"
    }
   ],
   "source": [
    "# Your recall function should equal this value\n",
    "recall_score(y_test_c, y_pred_c)"
   ]
  },
  {
   "cell_type": "code",
   "execution_count": 21,
   "metadata": {
    "executionInfo": {
     "elapsed": 3,
     "status": "ok",
     "timestamp": 1623504782502,
     "user": {
      "displayName": "Mikio Harman",
      "photoUrl": "",
      "userId": "02010985210266587860"
     },
     "user_tz": 420
    },
    "id": "RQ8YleBTegvn"
   },
   "outputs": [
    {
     "data": {
      "text/plain": [
       "0.6956521739130435"
      ]
     },
     "execution_count": 21,
     "metadata": {},
     "output_type": "execute_result"
    }
   ],
   "source": [
    "# Create a Function to Calculate Accuracy\n",
    "def accuracy(TP, FP, TN, FN):\n",
    "    return ((sum(TP) + sum(TN)) / (sum(TP) + sum(TN) + sum(FP) + sum(FN)))\n",
    "\n",
    "accuracy(true_positive, false_positive, true_negative, false_negative)"
   ]
  },
  {
   "cell_type": "code",
   "execution_count": 15,
   "metadata": {
    "colab": {
     "base_uri": "https://localhost:8080/"
    },
    "executionInfo": {
     "elapsed": 3,
     "status": "ok",
     "timestamp": 1623504783356,
     "user": {
      "displayName": "Mikio Harman",
      "photoUrl": "",
      "userId": "02010985210266587860"
     },
     "user_tz": 420
    },
    "id": "tzNMG0PmqSkn",
    "outputId": "29c60b21-f644-4ba1-d93e-ff036e7d9ae2"
   },
   "outputs": [
    {
     "data": {
      "text/plain": [
       "0.6956521739130435"
      ]
     },
     "execution_count": 15,
     "metadata": {},
     "output_type": "execute_result"
    }
   ],
   "source": [
    "# Your accuracy score function should equal this value\n",
    "accuracy_score(y_test_c, y_pred_c)"
   ]
  },
  {
   "cell_type": "code",
   "execution_count": null,
   "metadata": {
    "executionInfo": {
     "elapsed": 2,
     "status": "ok",
     "timestamp": 1623504783913,
     "user": {
      "displayName": "Mikio Harman",
      "photoUrl": "",
      "userId": "02010985210266587860"
     },
     "user_tz": 420
    },
    "id": "pVhTypA3bQZ8"
   },
   "outputs": [],
   "source": []
  }
 ],
 "metadata": {
  "colab": {
   "collapsed_sections": [],
   "name": "02_assignment_cost.ipynb",
   "provenance": []
  },
  "kernelspec": {
   "display_name": "Python 3",
   "language": "python",
   "name": "python3"
  },
  "language_info": {
   "codemirror_mode": {
    "name": "ipython",
    "version": 3
   },
   "file_extension": ".py",
   "mimetype": "text/x-python",
   "name": "python",
   "nbconvert_exporter": "python",
   "pygments_lexer": "ipython3",
   "version": "3.8.8"
  }
 },
 "nbformat": 4,
 "nbformat_minor": 1
}
