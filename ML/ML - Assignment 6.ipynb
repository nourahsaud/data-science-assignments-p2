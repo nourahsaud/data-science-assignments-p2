{
 "cells": [
  {
   "cell_type": "markdown",
   "metadata": {},
   "source": [
    "#  Feature Scaling & Feature Engineering\n",
    "\n",
    "### Assignment (Day 1)\n",
    "\n",
    "Repeat the steps for the test data and report your results at the bottom of this notebook.\n",
    "\n",
    "**Requirements:**\n",
    "- Show the results (MSE, MAE, RMSE) for all models finished during the lecture using the test data.\n",
    "- Make sure to follow the steps and all additional preprocessing code\n",
    "- Your results should be displayed at the bottom of this notebook in a single code cell output or markdown cell\n",
    "- Only progress as far as we progressed in class"
   ]
  },
  {
   "cell_type": "code",
   "execution_count": 1,
   "metadata": {},
   "outputs": [],
   "source": [
    "import pandas as pd\n",
    "import numpy as np\n",
    "import matplotlib.pyplot as plt\n",
    "import seaborn as sns\n",
    "\n",
    "from sklearn.model_selection import train_test_split\n",
    "from sklearn.linear_model import LinearRegression\n",
    "\n",
    "# Cost Functions\n",
    "from sklearn.metrics import mean_squared_error\n",
    "from sklearn.metrics import mean_absolute_error\n",
    "\n",
    "# Scalers\n",
    "from sklearn.preprocessing import StandardScaler\n",
    "from sklearn.preprocessing import RobustScaler\n",
    "from sklearn.preprocessing import MinMaxScaler\n",
    "\n",
    "# Feature Engineering\n",
    "from sklearn.preprocessing import OneHotEncoder\n",
    "from sklearn.preprocessing import OrdinalEncoder\n",
    "\n",
    "# Plot style\n",
    "plt.style.use(\"seaborn-whitegrid\")"
   ]
  },
  {
   "cell_type": "code",
   "execution_count": 8,
   "metadata": {},
   "outputs": [],
   "source": [
    "# Load Data\n",
    "df = sns.load_dataset(\"diamonds\")\n",
    "\n",
    "# original dataset (100 records 80%20%) --> init_train (80 records) and test (20 records)\n",
    "# init_train (80 records 80%20%) --> train_actual (64 records) and vali (16 records)\n",
    "\n",
    "\n",
    "# Split Data\n",
    "train, test = train_test_split(\n",
    "    df, \n",
    "    train_size = .80,\n",
    "    test_size =.20,\n",
    "    random_state=42\n",
    ")\n",
    "\n",
    "test, val = train_test_split(\n",
    "    test,\n",
    "    train_size = .80,\n",
    "    test_size = .20,\n",
    "    random_state=42\n",
    ")"
   ]
  },
  {
   "cell_type": "code",
   "execution_count": 9,
   "metadata": {
    "scrolled": false
   },
   "outputs": [
    {
     "data": {
      "text/html": [
       "<div>\n",
       "<style scoped>\n",
       "    .dataframe tbody tr th:only-of-type {\n",
       "        vertical-align: middle;\n",
       "    }\n",
       "\n",
       "    .dataframe tbody tr th {\n",
       "        vertical-align: top;\n",
       "    }\n",
       "\n",
       "    .dataframe thead th {\n",
       "        text-align: right;\n",
       "    }\n",
       "</style>\n",
       "<table border=\"1\" class=\"dataframe\">\n",
       "  <thead>\n",
       "    <tr style=\"text-align: right;\">\n",
       "      <th></th>\n",
       "      <th>carat</th>\n",
       "      <th>cut</th>\n",
       "      <th>color</th>\n",
       "      <th>clarity</th>\n",
       "      <th>depth</th>\n",
       "      <th>table</th>\n",
       "      <th>price</th>\n",
       "      <th>x</th>\n",
       "      <th>y</th>\n",
       "      <th>z</th>\n",
       "    </tr>\n",
       "  </thead>\n",
       "  <tbody>\n",
       "    <tr>\n",
       "      <th>23029</th>\n",
       "      <td>0.33</td>\n",
       "      <td>Ideal</td>\n",
       "      <td>G</td>\n",
       "      <td>SI1</td>\n",
       "      <td>61.3</td>\n",
       "      <td>56.0</td>\n",
       "      <td>631</td>\n",
       "      <td>4.51</td>\n",
       "      <td>4.46</td>\n",
       "      <td>2.75</td>\n",
       "    </tr>\n",
       "    <tr>\n",
       "      <th>37821</th>\n",
       "      <td>0.31</td>\n",
       "      <td>Ideal</td>\n",
       "      <td>E</td>\n",
       "      <td>IF</td>\n",
       "      <td>61.3</td>\n",
       "      <td>58.0</td>\n",
       "      <td>1002</td>\n",
       "      <td>4.37</td>\n",
       "      <td>4.40</td>\n",
       "      <td>2.69</td>\n",
       "    </tr>\n",
       "    <tr>\n",
       "      <th>43886</th>\n",
       "      <td>0.54</td>\n",
       "      <td>Ideal</td>\n",
       "      <td>I</td>\n",
       "      <td>VS1</td>\n",
       "      <td>63.1</td>\n",
       "      <td>55.0</td>\n",
       "      <td>1453</td>\n",
       "      <td>5.18</td>\n",
       "      <td>5.22</td>\n",
       "      <td>3.27</td>\n",
       "    </tr>\n",
       "    <tr>\n",
       "      <th>27287</th>\n",
       "      <td>2.00</td>\n",
       "      <td>Premium</td>\n",
       "      <td>E</td>\n",
       "      <td>SI2</td>\n",
       "      <td>62.2</td>\n",
       "      <td>56.0</td>\n",
       "      <td>17760</td>\n",
       "      <td>8.14</td>\n",
       "      <td>8.06</td>\n",
       "      <td>5.04</td>\n",
       "    </tr>\n",
       "    <tr>\n",
       "      <th>10163</th>\n",
       "      <td>1.05</td>\n",
       "      <td>Good</td>\n",
       "      <td>F</td>\n",
       "      <td>SI1</td>\n",
       "      <td>57.9</td>\n",
       "      <td>62.0</td>\n",
       "      <td>4729</td>\n",
       "      <td>6.68</td>\n",
       "      <td>6.73</td>\n",
       "      <td>3.88</td>\n",
       "    </tr>\n",
       "  </tbody>\n",
       "</table>\n",
       "</div>"
      ],
      "text/plain": [
       "       carat      cut color clarity  depth  table  price     x     y     z\n",
       "23029   0.33    Ideal     G     SI1   61.3   56.0    631  4.51  4.46  2.75\n",
       "37821   0.31    Ideal     E      IF   61.3   58.0   1002  4.37  4.40  2.69\n",
       "43886   0.54    Ideal     I     VS1   63.1   55.0   1453  5.18  5.22  3.27\n",
       "27287   2.00  Premium     E     SI2   62.2   56.0  17760  8.14  8.06  5.04\n",
       "10163   1.05     Good     F     SI1   57.9   62.0   4729  6.68  6.73  3.88"
      ]
     },
     "execution_count": 9,
     "metadata": {},
     "output_type": "execute_result"
    }
   ],
   "source": [
    "test.head()"
   ]
  },
  {
   "cell_type": "code",
   "execution_count": 10,
   "metadata": {},
   "outputs": [
    {
     "name": "stdout",
     "output_type": "stream",
     "text": [
      "<class 'pandas.core.frame.DataFrame'>\n",
      "Int64Index: 8630 entries, 23029 to 3831\n",
      "Data columns (total 10 columns):\n",
      " #   Column   Non-Null Count  Dtype   \n",
      "---  ------   --------------  -----   \n",
      " 0   carat    8630 non-null   float64 \n",
      " 1   cut      8630 non-null   category\n",
      " 2   color    8630 non-null   category\n",
      " 3   clarity  8630 non-null   category\n",
      " 4   depth    8630 non-null   float64 \n",
      " 5   table    8630 non-null   float64 \n",
      " 6   price    8630 non-null   int64   \n",
      " 7   x        8630 non-null   float64 \n",
      " 8   y        8630 non-null   float64 \n",
      " 9   z        8630 non-null   float64 \n",
      "dtypes: category(3), float64(6), int64(1)\n",
      "memory usage: 565.6 KB\n"
     ]
    }
   ],
   "source": [
    "test.info()"
   ]
  },
  {
   "cell_type": "code",
   "execution_count": 11,
   "metadata": {},
   "outputs": [
    {
     "data": {
      "text/plain": [
       "carat       float64\n",
       "cut        category\n",
       "color      category\n",
       "clarity    category\n",
       "depth       float64\n",
       "table       float64\n",
       "price         int64\n",
       "x           float64\n",
       "y           float64\n",
       "z           float64\n",
       "dtype: object"
      ]
     },
     "execution_count": 11,
     "metadata": {},
     "output_type": "execute_result"
    }
   ],
   "source": [
    "# Model with only numeric features\n",
    "test.dtypes"
   ]
  },
  {
   "cell_type": "code",
   "execution_count": 12,
   "metadata": {},
   "outputs": [
    {
     "data": {
      "text/plain": [
       "array([ True, False, False, False,  True,  True,  True,  True,  True,\n",
       "        True])"
      ]
     },
     "execution_count": 12,
     "metadata": {},
     "output_type": "execute_result"
    }
   ],
   "source": [
    "(df.dtypes != \"category\").values & (df.dtypes != \"object\").values "
   ]
  },
  {
   "cell_type": "code",
   "execution_count": 13,
   "metadata": {},
   "outputs": [],
   "source": [
    "def cleaner(df):\n",
    "    \n",
    "    \"Return Only Numeric Features\"\n",
    "    \n",
    "    # Create boolean array with only columns that are float64\n",
    "    columns_bool = (df.dtypes != \"category\").values & (df.dtypes != \"object\").values \n",
    "\n",
    "    # Return only numeric columns\n",
    "    df = df.iloc[:, columns_bool].dropna()\n",
    "\n",
    "    return df\n",
    "\n",
    "test_numeric = cleaner(test)\n",
    "val_numeric = cleaner(val)"
   ]
  },
  {
   "cell_type": "code",
   "execution_count": 14,
   "metadata": {},
   "outputs": [],
   "source": [
    "# Create X, y train and validation sets\n",
    "\n",
    "target = \"price\"\n",
    "\n",
    "# feature set --> everything except for price --> X_test\n",
    "# target set/column --> price --> y_test\n",
    "\n",
    "X_test = test_numeric.drop(target, axis=1)\n",
    "y_test = test_numeric[target]\n",
    "\n",
    "X_val = val_numeric.drop(target, axis=1)\n",
    "y_val = val_numeric[target]"
   ]
  },
  {
   "cell_type": "code",
   "execution_count": 15,
   "metadata": {},
   "outputs": [
    {
     "data": {
      "text/plain": [
       "0.8636458320968441"
      ]
     },
     "execution_count": 15,
     "metadata": {},
     "output_type": "execute_result"
    }
   ],
   "source": [
    "lr = LinearRegression()\n",
    "lr.fit(X_test, y_test)\n",
    "lr.score(X_val, y_val)"
   ]
  },
  {
   "cell_type": "code",
   "execution_count": 16,
   "metadata": {},
   "outputs": [
    {
     "data": {
      "text/plain": [
       "array([10153.3667843 ,   -69.55809394,   -88.32769275, -3680.77388857,\n",
       "        3830.24795161, -1897.14106976])"
      ]
     },
     "execution_count": 16,
     "metadata": {},
     "output_type": "execute_result"
    }
   ],
   "source": [
    "lr.coef_"
   ]
  },
  {
   "cell_type": "code",
   "execution_count": 17,
   "metadata": {},
   "outputs": [
    {
     "data": {
      "text/plain": [
       "11033.33399720539"
      ]
     },
     "execution_count": 17,
     "metadata": {},
     "output_type": "execute_result"
    }
   ],
   "source": [
    "lr.intercept_"
   ]
  },
  {
   "cell_type": "code",
   "execution_count": 18,
   "metadata": {
    "scrolled": true
   },
   "outputs": [
    {
     "data": {
      "text/html": [
       "<div>\n",
       "<style scoped>\n",
       "    .dataframe tbody tr th:only-of-type {\n",
       "        vertical-align: middle;\n",
       "    }\n",
       "\n",
       "    .dataframe tbody tr th {\n",
       "        vertical-align: top;\n",
       "    }\n",
       "\n",
       "    .dataframe thead th {\n",
       "        text-align: right;\n",
       "    }\n",
       "</style>\n",
       "<table border=\"1\" class=\"dataframe\">\n",
       "  <thead>\n",
       "    <tr style=\"text-align: right;\">\n",
       "      <th></th>\n",
       "      <th>carat</th>\n",
       "      <th>depth</th>\n",
       "      <th>table</th>\n",
       "      <th>x</th>\n",
       "      <th>y</th>\n",
       "      <th>z</th>\n",
       "      <th>price</th>\n",
       "    </tr>\n",
       "  </thead>\n",
       "  <tbody>\n",
       "    <tr>\n",
       "      <th>23029</th>\n",
       "      <td>0.33</td>\n",
       "      <td>61.3</td>\n",
       "      <td>56.0</td>\n",
       "      <td>4.51</td>\n",
       "      <td>4.46</td>\n",
       "      <td>2.75</td>\n",
       "      <td>631</td>\n",
       "    </tr>\n",
       "    <tr>\n",
       "      <th>37821</th>\n",
       "      <td>0.31</td>\n",
       "      <td>61.3</td>\n",
       "      <td>58.0</td>\n",
       "      <td>4.37</td>\n",
       "      <td>4.40</td>\n",
       "      <td>2.69</td>\n",
       "      <td>1002</td>\n",
       "    </tr>\n",
       "    <tr>\n",
       "      <th>43886</th>\n",
       "      <td>0.54</td>\n",
       "      <td>63.1</td>\n",
       "      <td>55.0</td>\n",
       "      <td>5.18</td>\n",
       "      <td>5.22</td>\n",
       "      <td>3.27</td>\n",
       "      <td>1453</td>\n",
       "    </tr>\n",
       "    <tr>\n",
       "      <th>27287</th>\n",
       "      <td>2.00</td>\n",
       "      <td>62.2</td>\n",
       "      <td>56.0</td>\n",
       "      <td>8.14</td>\n",
       "      <td>8.06</td>\n",
       "      <td>5.04</td>\n",
       "      <td>17760</td>\n",
       "    </tr>\n",
       "    <tr>\n",
       "      <th>10163</th>\n",
       "      <td>1.05</td>\n",
       "      <td>57.9</td>\n",
       "      <td>62.0</td>\n",
       "      <td>6.68</td>\n",
       "      <td>6.73</td>\n",
       "      <td>3.88</td>\n",
       "      <td>4729</td>\n",
       "    </tr>\n",
       "    <tr>\n",
       "      <th>...</th>\n",
       "      <td>...</td>\n",
       "      <td>...</td>\n",
       "      <td>...</td>\n",
       "      <td>...</td>\n",
       "      <td>...</td>\n",
       "      <td>...</td>\n",
       "      <td>...</td>\n",
       "    </tr>\n",
       "    <tr>\n",
       "      <th>8188</th>\n",
       "      <td>1.04</td>\n",
       "      <td>61.8</td>\n",
       "      <td>55.0</td>\n",
       "      <td>6.54</td>\n",
       "      <td>6.50</td>\n",
       "      <td>4.03</td>\n",
       "      <td>4368</td>\n",
       "    </tr>\n",
       "    <tr>\n",
       "      <th>15724</th>\n",
       "      <td>1.04</td>\n",
       "      <td>62.6</td>\n",
       "      <td>56.0</td>\n",
       "      <td>6.44</td>\n",
       "      <td>6.41</td>\n",
       "      <td>4.02</td>\n",
       "      <td>6290</td>\n",
       "    </tr>\n",
       "    <tr>\n",
       "      <th>2791</th>\n",
       "      <td>0.78</td>\n",
       "      <td>62.5</td>\n",
       "      <td>58.0</td>\n",
       "      <td>5.86</td>\n",
       "      <td>5.89</td>\n",
       "      <td>3.67</td>\n",
       "      <td>3258</td>\n",
       "    </tr>\n",
       "    <tr>\n",
       "      <th>33036</th>\n",
       "      <td>0.32</td>\n",
       "      <td>61.6</td>\n",
       "      <td>55.0</td>\n",
       "      <td>4.43</td>\n",
       "      <td>4.47</td>\n",
       "      <td>2.74</td>\n",
       "      <td>814</td>\n",
       "    </tr>\n",
       "    <tr>\n",
       "      <th>3831</th>\n",
       "      <td>1.00</td>\n",
       "      <td>58.5</td>\n",
       "      <td>55.0</td>\n",
       "      <td>6.47</td>\n",
       "      <td>6.42</td>\n",
       "      <td>3.77</td>\n",
       "      <td>3472</td>\n",
       "    </tr>\n",
       "  </tbody>\n",
       "</table>\n",
       "<p>8630 rows × 7 columns</p>\n",
       "</div>"
      ],
      "text/plain": [
       "       carat  depth  table     x     y     z  price\n",
       "23029   0.33   61.3   56.0  4.51  4.46  2.75    631\n",
       "37821   0.31   61.3   58.0  4.37  4.40  2.69   1002\n",
       "43886   0.54   63.1   55.0  5.18  5.22  3.27   1453\n",
       "27287   2.00   62.2   56.0  8.14  8.06  5.04  17760\n",
       "10163   1.05   57.9   62.0  6.68  6.73  3.88   4729\n",
       "...      ...    ...    ...   ...   ...   ...    ...\n",
       "8188    1.04   61.8   55.0  6.54  6.50  4.03   4368\n",
       "15724   1.04   62.6   56.0  6.44  6.41  4.02   6290\n",
       "2791    0.78   62.5   58.0  5.86  5.89  3.67   3258\n",
       "33036   0.32   61.6   55.0  4.43  4.47  2.74    814\n",
       "3831    1.00   58.5   55.0  6.47  6.42  3.77   3472\n",
       "\n",
       "[8630 rows x 7 columns]"
      ]
     },
     "execution_count": 18,
     "metadata": {},
     "output_type": "execute_result"
    }
   ],
   "source": [
    "pd.concat([X_test, y_test], axis = 1)"
   ]
  },
  {
   "cell_type": "markdown",
   "metadata": {},
   "source": [
    " # Using Model for one record prediction\n",
    " \n",
    " ## y = (a x1) + (b x2) + (c x3) + (d x4) + (e x5) + (f x6) + (g x7) + intercept\n",
    " \n",
    " ### where [a,b,c,d,e,f,g] are the coeffecients from lr.coef_"
   ]
  },
  {
   "cell_type": "markdown",
   "metadata": {},
   "source": [
    "# predicting resutls from the model\n",
    "\n",
    "np.round(lr.predict([[1.16, 60.8, 65, 6.78,6.75,4.11]]))"
   ]
  },
  {
   "cell_type": "code",
   "execution_count": 20,
   "metadata": {},
   "outputs": [
    {
     "name": "stdout",
     "output_type": "stream",
     "text": [
      "Baseline\n",
      "MSE: 15836530.251180982\n",
      "MAE: 3022.1326738894877\n",
      "RMSE: 3979.5138209561455\n",
      "\n",
      "Linear Regression\n",
      "MSE: 2209694.8528981754\n",
      "MAE: 902.1318082324196\n",
      "RMSE: 1486.5042391120771\n"
     ]
    }
   ],
   "source": [
    "def calc_cost(y_true, y_predict):\n",
    "    \n",
    "    \"Calculate Cost Functions and print output\"\n",
    "    \n",
    "    result_dict = {}\n",
    "    \n",
    "    mse = mean_squared_error(y_true, y_predict)\n",
    "    mae = mean_absolute_error(y_true, y_predict)\n",
    "    rmse = mean_squared_error(y_true, y_predict, squared=False)\n",
    "    \n",
    "    ls = [mse, mae, rmse]\n",
    "    ls2 = [\"MSE\", \"MAE\", \"RMSE\"]\n",
    "    \n",
    "    for x in range(len(ls)):\n",
    "        print(f\"{ls2[x]}: {ls[x]}\")\n",
    "        result_dict[ls2[x]] = ls[x]\n",
    "    \n",
    "    return result_dict\n",
    "\n",
    "# Save results to object and print results\n",
    "print(\"Baseline\")\n",
    "b_preds = [y_test.mean() for x in range(len(y_test))]\n",
    "res0 = calc_cost(y_test, b_preds)\n",
    "print(\"\\nLinear Regression\")\n",
    "res1 = calc_cost(y_test, lr.predict(X_test))"
   ]
  },
  {
   "cell_type": "code",
   "execution_count": 21,
   "metadata": {},
   "outputs": [
    {
     "data": {
      "text/html": [
       "<div>\n",
       "<style scoped>\n",
       "    .dataframe tbody tr th:only-of-type {\n",
       "        vertical-align: middle;\n",
       "    }\n",
       "\n",
       "    .dataframe tbody tr th {\n",
       "        vertical-align: top;\n",
       "    }\n",
       "\n",
       "    .dataframe thead th {\n",
       "        text-align: right;\n",
       "    }\n",
       "</style>\n",
       "<table border=\"1\" class=\"dataframe\">\n",
       "  <thead>\n",
       "    <tr style=\"text-align: right;\">\n",
       "      <th></th>\n",
       "      <th>carat</th>\n",
       "      <th>depth</th>\n",
       "      <th>table</th>\n",
       "      <th>price</th>\n",
       "      <th>x</th>\n",
       "      <th>y</th>\n",
       "      <th>z</th>\n",
       "    </tr>\n",
       "  </thead>\n",
       "  <tbody>\n",
       "    <tr>\n",
       "      <th>count</th>\n",
       "      <td>53940.000000</td>\n",
       "      <td>53940.000000</td>\n",
       "      <td>53940.000000</td>\n",
       "      <td>53940.000000</td>\n",
       "      <td>53940.000000</td>\n",
       "      <td>53940.000000</td>\n",
       "      <td>53940.000000</td>\n",
       "    </tr>\n",
       "    <tr>\n",
       "      <th>mean</th>\n",
       "      <td>0.797940</td>\n",
       "      <td>61.749405</td>\n",
       "      <td>57.457184</td>\n",
       "      <td>3932.799722</td>\n",
       "      <td>5.731157</td>\n",
       "      <td>5.734526</td>\n",
       "      <td>3.538734</td>\n",
       "    </tr>\n",
       "    <tr>\n",
       "      <th>std</th>\n",
       "      <td>0.474011</td>\n",
       "      <td>1.432621</td>\n",
       "      <td>2.234491</td>\n",
       "      <td>3989.439738</td>\n",
       "      <td>1.121761</td>\n",
       "      <td>1.142135</td>\n",
       "      <td>0.705699</td>\n",
       "    </tr>\n",
       "    <tr>\n",
       "      <th>min</th>\n",
       "      <td>0.200000</td>\n",
       "      <td>43.000000</td>\n",
       "      <td>43.000000</td>\n",
       "      <td>326.000000</td>\n",
       "      <td>0.000000</td>\n",
       "      <td>0.000000</td>\n",
       "      <td>0.000000</td>\n",
       "    </tr>\n",
       "    <tr>\n",
       "      <th>25%</th>\n",
       "      <td>0.400000</td>\n",
       "      <td>61.000000</td>\n",
       "      <td>56.000000</td>\n",
       "      <td>950.000000</td>\n",
       "      <td>4.710000</td>\n",
       "      <td>4.720000</td>\n",
       "      <td>2.910000</td>\n",
       "    </tr>\n",
       "    <tr>\n",
       "      <th>50%</th>\n",
       "      <td>0.700000</td>\n",
       "      <td>61.800000</td>\n",
       "      <td>57.000000</td>\n",
       "      <td>2401.000000</td>\n",
       "      <td>5.700000</td>\n",
       "      <td>5.710000</td>\n",
       "      <td>3.530000</td>\n",
       "    </tr>\n",
       "    <tr>\n",
       "      <th>75%</th>\n",
       "      <td>1.040000</td>\n",
       "      <td>62.500000</td>\n",
       "      <td>59.000000</td>\n",
       "      <td>5324.250000</td>\n",
       "      <td>6.540000</td>\n",
       "      <td>6.540000</td>\n",
       "      <td>4.040000</td>\n",
       "    </tr>\n",
       "    <tr>\n",
       "      <th>max</th>\n",
       "      <td>5.010000</td>\n",
       "      <td>79.000000</td>\n",
       "      <td>95.000000</td>\n",
       "      <td>18823.000000</td>\n",
       "      <td>10.740000</td>\n",
       "      <td>58.900000</td>\n",
       "      <td>31.800000</td>\n",
       "    </tr>\n",
       "  </tbody>\n",
       "</table>\n",
       "</div>"
      ],
      "text/plain": [
       "              carat         depth         table         price             x  \\\n",
       "count  53940.000000  53940.000000  53940.000000  53940.000000  53940.000000   \n",
       "mean       0.797940     61.749405     57.457184   3932.799722      5.731157   \n",
       "std        0.474011      1.432621      2.234491   3989.439738      1.121761   \n",
       "min        0.200000     43.000000     43.000000    326.000000      0.000000   \n",
       "25%        0.400000     61.000000     56.000000    950.000000      4.710000   \n",
       "50%        0.700000     61.800000     57.000000   2401.000000      5.700000   \n",
       "75%        1.040000     62.500000     59.000000   5324.250000      6.540000   \n",
       "max        5.010000     79.000000     95.000000  18823.000000     10.740000   \n",
       "\n",
       "                  y             z  \n",
       "count  53940.000000  53940.000000  \n",
       "mean       5.734526      3.538734  \n",
       "std        1.142135      0.705699  \n",
       "min        0.000000      0.000000  \n",
       "25%        4.720000      2.910000  \n",
       "50%        5.710000      3.530000  \n",
       "75%        6.540000      4.040000  \n",
       "max       58.900000     31.800000  "
      ]
     },
     "execution_count": 21,
     "metadata": {},
     "output_type": "execute_result"
    }
   ],
   "source": [
    "df.describe()"
   ]
  },
  {
   "cell_type": "markdown",
   "metadata": {},
   "source": [
    "## Feature Scaling"
   ]
  },
  {
   "cell_type": "code",
   "execution_count": 22,
   "metadata": {},
   "outputs": [
    {
     "data": {
      "text/plain": [
       "array([[-0.98193623, -0.33198061, -0.64108975, -1.08385949, -1.13679765,\n",
       "        -1.13504747],\n",
       "       [-1.02371282, -0.33198061,  0.25147457, -1.20788012, -1.19029251,\n",
       "        -1.22106688],\n",
       "       [-0.54328204,  0.9210534 , -1.08737191, -0.49033215, -0.45919618,\n",
       "        -0.38954597],\n",
       "       [ 2.506409  ,  0.2945364 , -0.64108975,  2.13181848,  2.07289353,\n",
       "         2.14802647],\n",
       "       [ 0.522021  , -2.69882262,  2.0366032 ,  0.8384604 ,  0.88709095,\n",
       "         0.48498465]])"
      ]
     },
     "execution_count": 22,
     "metadata": {},
     "output_type": "execute_result"
    }
   ],
   "source": [
    "# Instantiate Scaler Object\n",
    "scaler = StandardScaler()\n",
    "\n",
    "# Apply to X data\n",
    "X_test_scaled = scaler.fit_transform(X_test)\n",
    "X_val_scaled = scaler.transform(X_val)\n",
    "\n",
    "# Look at the transformed data\n",
    "X_test_scaled[:5]"
   ]
  },
  {
   "cell_type": "code",
   "execution_count": 23,
   "metadata": {},
   "outputs": [
    {
     "data": {
      "text/plain": [
       "0.8636458320968441"
      ]
     },
     "execution_count": 23,
     "metadata": {},
     "output_type": "execute_result"
    }
   ],
   "source": [
    "# Train the model\n",
    "lr2 = LinearRegression()\n",
    "lr2.fit(X_test_scaled, y_test)\n",
    "lr2.score(X_val_scaled, y_val)"
   ]
  },
  {
   "cell_type": "code",
   "execution_count": 24,
   "metadata": {},
   "outputs": [
    {
     "name": "stdout",
     "output_type": "stream",
     "text": [
      "MSE: 2198863.4227053868\n",
      "MAE: 890.2528368132934\n",
      "RMSE: 1482.8565077934502\n"
     ]
    }
   ],
   "source": [
    "res2 = calc_cost(y_val, lr2.predict(X_val_scaled))"
   ]
  },
  {
   "cell_type": "code",
   "execution_count": 25,
   "metadata": {},
   "outputs": [
    {
     "data": {
      "text/plain": [
       "{'MSE': 2209694.8528981754,\n",
       " 'MAE': 902.1318082324196,\n",
       " 'RMSE': 1486.5042391120771}"
      ]
     },
     "execution_count": 25,
     "metadata": {},
     "output_type": "execute_result"
    }
   ],
   "source": [
    "res1"
   ]
  },
  {
   "cell_type": "code",
   "execution_count": 26,
   "metadata": {},
   "outputs": [
    {
     "data": {
      "text/plain": [
       "array([ 4860.7925599 ,   -99.92112621,  -197.91894232, -4155.02092066,\n",
       "        4296.01847363, -1323.28821348])"
      ]
     },
     "execution_count": 26,
     "metadata": {},
     "output_type": "execute_result"
    }
   ],
   "source": [
    "lr2.coef_"
   ]
  },
  {
   "cell_type": "code",
   "execution_count": 27,
   "metadata": {},
   "outputs": [
    {
     "data": {
      "text/html": [
       "<div>\n",
       "<style scoped>\n",
       "    .dataframe tbody tr th:only-of-type {\n",
       "        vertical-align: middle;\n",
       "    }\n",
       "\n",
       "    .dataframe tbody tr th {\n",
       "        vertical-align: top;\n",
       "    }\n",
       "\n",
       "    .dataframe thead th {\n",
       "        text-align: right;\n",
       "    }\n",
       "</style>\n",
       "<table border=\"1\" class=\"dataframe\">\n",
       "  <thead>\n",
       "    <tr style=\"text-align: right;\">\n",
       "      <th></th>\n",
       "      <th>0</th>\n",
       "      <th>1</th>\n",
       "      <th>2</th>\n",
       "      <th>3</th>\n",
       "      <th>4</th>\n",
       "      <th>5</th>\n",
       "    </tr>\n",
       "  </thead>\n",
       "  <tbody>\n",
       "    <tr>\n",
       "      <th>count</th>\n",
       "      <td>8.630000e+03</td>\n",
       "      <td>8.630000e+03</td>\n",
       "      <td>8.630000e+03</td>\n",
       "      <td>8.630000e+03</td>\n",
       "      <td>8.630000e+03</td>\n",
       "      <td>8.630000e+03</td>\n",
       "    </tr>\n",
       "    <tr>\n",
       "      <th>mean</th>\n",
       "      <td>-4.711694e-17</td>\n",
       "      <td>2.902635e-15</td>\n",
       "      <td>-4.456330e-16</td>\n",
       "      <td>-1.106093e-15</td>\n",
       "      <td>-2.267016e-16</td>\n",
       "      <td>2.093150e-16</td>\n",
       "    </tr>\n",
       "    <tr>\n",
       "      <th>std</th>\n",
       "      <td>1.000058e+00</td>\n",
       "      <td>1.000058e+00</td>\n",
       "      <td>1.000058e+00</td>\n",
       "      <td>1.000058e+00</td>\n",
       "      <td>1.000058e+00</td>\n",
       "      <td>1.000058e+00</td>\n",
       "    </tr>\n",
       "    <tr>\n",
       "      <th>min</th>\n",
       "      <td>-1.253484e+00</td>\n",
       "      <td>-7.641346e+00</td>\n",
       "      <td>-2.872501e+00</td>\n",
       "      <td>-5.079096e+00</td>\n",
       "      <td>-5.113248e+00</td>\n",
       "      <td>-5.077604e+00</td>\n",
       "    </tr>\n",
       "    <tr>\n",
       "      <th>25%</th>\n",
       "      <td>-8.357182e-01</td>\n",
       "      <td>-4.712066e-01</td>\n",
       "      <td>-6.410898e-01</td>\n",
       "      <td>-9.066871e-01</td>\n",
       "      <td>-9.139024e-01</td>\n",
       "      <td>-9.199990e-01</td>\n",
       "    </tr>\n",
       "    <tr>\n",
       "      <th>50%</th>\n",
       "      <td>-2.090693e-01</td>\n",
       "      <td>8.569739e-02</td>\n",
       "      <td>-1.948076e-01</td>\n",
       "      <td>-2.968407e-02</td>\n",
       "      <td>-2.232155e-02</td>\n",
       "      <td>-3.113178e-02</td>\n",
       "    </tr>\n",
       "    <tr>\n",
       "      <th>75%</th>\n",
       "      <td>5.011327e-01</td>\n",
       "      <td>5.729884e-01</td>\n",
       "      <td>6.977567e-01</td>\n",
       "      <td>7.144398e-01</td>\n",
       "      <td>7.176906e-01</td>\n",
       "      <td>7.143697e-01</td>\n",
       "    </tr>\n",
       "    <tr>\n",
       "      <th>max</th>\n",
       "      <td>6.704956e+00</td>\n",
       "      <td>1.198952e+01</td>\n",
       "      <td>6.945707e+00</td>\n",
       "      <td>3.903542e+00</td>\n",
       "      <td>3.891719e+00</td>\n",
       "      <td>3.968771e+00</td>\n",
       "    </tr>\n",
       "  </tbody>\n",
       "</table>\n",
       "</div>"
      ],
      "text/plain": [
       "                  0             1             2             3             4  \\\n",
       "count  8.630000e+03  8.630000e+03  8.630000e+03  8.630000e+03  8.630000e+03   \n",
       "mean  -4.711694e-17  2.902635e-15 -4.456330e-16 -1.106093e-15 -2.267016e-16   \n",
       "std    1.000058e+00  1.000058e+00  1.000058e+00  1.000058e+00  1.000058e+00   \n",
       "min   -1.253484e+00 -7.641346e+00 -2.872501e+00 -5.079096e+00 -5.113248e+00   \n",
       "25%   -8.357182e-01 -4.712066e-01 -6.410898e-01 -9.066871e-01 -9.139024e-01   \n",
       "50%   -2.090693e-01  8.569739e-02 -1.948076e-01 -2.968407e-02 -2.232155e-02   \n",
       "75%    5.011327e-01  5.729884e-01  6.977567e-01  7.144398e-01  7.176906e-01   \n",
       "max    6.704956e+00  1.198952e+01  6.945707e+00  3.903542e+00  3.891719e+00   \n",
       "\n",
       "                  5  \n",
       "count  8.630000e+03  \n",
       "mean   2.093150e-16  \n",
       "std    1.000058e+00  \n",
       "min   -5.077604e+00  \n",
       "25%   -9.199990e-01  \n",
       "50%   -3.113178e-02  \n",
       "75%    7.143697e-01  \n",
       "max    3.968771e+00  "
      ]
     },
     "execution_count": 27,
     "metadata": {},
     "output_type": "execute_result"
    }
   ],
   "source": [
    "pd.DataFrame(X_test_scaled).describe()"
   ]
  },
  {
   "cell_type": "markdown",
   "metadata": {},
   "source": [
    "#### Looking at the Parameters of the Model (Weights)\n",
    "\n",
    "We can look at calculated parameters of the model side by side and notice the scales have changed. Looking at the parameters of the model can help us understand which features or more important. "
   ]
  },
  {
   "cell_type": "code",
   "execution_count": 28,
   "metadata": {},
   "outputs": [
    {
     "data": {
      "image/png": "[encoded data removed]",
      "text/plain": [
       "<Figure size 432x288 with 2 Axes>"
      ]
     },
     "metadata": {},
     "output_type": "display_data"
    }
   ],
   "source": [
    "fig, ax = plt.subplots(1,2)\n",
    "\n",
    "pd.Series(lr.coef_).plot(kind=\"bar\", title=\"Coefficients Lr1\", ax=ax[0])\n",
    "pd.Series(lr2.coef_).plot(kind=\"bar\", title=\"Coefficients Lr2\", ax=ax[1]);"
   ]
  },
  {
   "cell_type": "markdown",
   "metadata": {},
   "source": [
    "#### Robust Scaler\n",
    "\n",
    "Scale features using statistics that are robust to outliers.\n"
   ]
  },
  {
   "cell_type": "code",
   "execution_count": 29,
   "metadata": {},
   "outputs": [
    {
     "data": {
      "text/plain": [
       "array([[-0.578125  , -0.4       , -0.33333333, -0.65027322, -0.68306011,\n",
       "        -0.6754386 ],\n",
       "       [-0.609375  , -0.4       ,  0.33333333, -0.72677596, -0.71584699,\n",
       "        -0.72807018],\n",
       "       [-0.25      ,  0.8       , -0.66666667, -0.28415301, -0.26775956,\n",
       "        -0.21929825],\n",
       "       [ 2.03125   ,  0.2       , -0.33333333,  1.33333333,  1.28415301,\n",
       "         1.33333333],\n",
       "       [ 0.546875  , -2.66666667,  1.66666667,  0.53551913,  0.55737705,\n",
       "         0.31578947]])"
      ]
     },
     "execution_count": 29,
     "metadata": {},
     "output_type": "execute_result"
    }
   ],
   "source": [
    "# Instantiate Scaler Object\n",
    "scaler2 = RobustScaler()\n",
    "\n",
    "# Apply to X data\n",
    "X_test_robust = scaler2.fit_transform(X_test)\n",
    "X_val_robust = scaler2.transform(X_val)\n",
    "\n",
    "# Look at the transformed data\n",
    "X_test_robust[:5]"
   ]
  },
  {
   "cell_type": "code",
   "execution_count": 30,
   "metadata": {},
   "outputs": [
    {
     "data": {
      "text/plain": [
       "0.8636458320968442"
      ]
     },
     "execution_count": 30,
     "metadata": {},
     "output_type": "execute_result"
    }
   ],
   "source": [
    "# Train the model\n",
    "lr3 = LinearRegression()\n",
    "lr3.fit(X_test_robust, y_test)\n",
    "lr3.score(X_val_robust, y_val)"
   ]
  },
  {
   "cell_type": "code",
   "execution_count": 31,
   "metadata": {},
   "outputs": [
    {
     "name": "stdout",
     "output_type": "stream",
     "text": [
      "MSE: 2198863.422705386\n",
      "MAE: 890.252836813293\n",
      "RMSE: 1482.85650779345\n"
     ]
    }
   ],
   "source": [
    "res3 = calc_cost(y_val, lr3.predict(X_val_robust))"
   ]
  },
  {
   "cell_type": "code",
   "execution_count": 32,
   "metadata": {},
   "outputs": [
    {
     "data": {
      "text/plain": [
       "array([ 4860.7925599 ,   -99.92112621,  -197.91894232, -4155.02092066,\n",
       "        4296.01847363, -1323.28821348])"
      ]
     },
     "execution_count": 32,
     "metadata": {},
     "output_type": "execute_result"
    }
   ],
   "source": [
    "lr2.coef_"
   ]
  },
  {
   "cell_type": "code",
   "execution_count": 33,
   "metadata": {},
   "outputs": [
    {
     "data": {
      "image/png": "[encoded data removed]",
      "text/plain": [
       "<Figure size 720x360 with 3 Axes>"
      ]
     },
     "metadata": {},
     "output_type": "display_data"
    }
   ],
   "source": [
    "fig, ax = plt.subplots(1,3)\n",
    "\n",
    "pd.Series(lr.coef_).plot(kind=\"bar\", title=\"Coefficients Lr\", ax=ax[0])\n",
    "pd.Series(lr2.coef_).plot(kind=\"bar\", title=\"Coefficients Lr2\", ax=ax[1])\n",
    "pd.Series(lr3.coef_).plot(kind=\"bar\", title=\"Coefficients Lr3\", ax=ax[2], figsize=(10,5))\n",
    "plt.tight_layout();"
   ]
  },
  {
   "cell_type": "markdown",
   "metadata": {},
   "source": [
    "#### Min Max Scaler\n",
    "\n",
    "Transform features by scaling each feature to a given range.\n"
   ]
  },
  {
   "cell_type": "code",
   "execution_count": 34,
   "metadata": {},
   "outputs": [
    {
     "data": {
      "text/plain": [
       "array([[0.03412073, 0.37234043, 0.22727273, 0.44477318, 0.44158416,\n",
       "        0.43581616],\n",
       "       [0.02887139, 0.37234043, 0.31818182, 0.43096647, 0.43564356,\n",
       "        0.42630745],\n",
       "       [0.08923885, 0.43617021, 0.18181818, 0.51084813, 0.51683168,\n",
       "        0.51822504],\n",
       "       [0.47244094, 0.40425532, 0.22727273, 0.80276134, 0.7980198 ,\n",
       "        0.79873217],\n",
       "       [0.22309711, 0.25177305, 0.5       , 0.65877712, 0.66633663,\n",
       "        0.61489699]])"
      ]
     },
     "execution_count": 34,
     "metadata": {},
     "output_type": "execute_result"
    }
   ],
   "source": [
    "# Instantiate Scaler Object\n",
    "scaler3 = MinMaxScaler()\n",
    "\n",
    "# Apply to X data\n",
    "X_test_mm = scaler3.fit_transform(X_test)\n",
    "X_val_mm = scaler3.transform(X_val)\n",
    "\n",
    "# Look at the transformed data\n",
    "X_test_mm[:5]"
   ]
  },
  {
   "cell_type": "code",
   "execution_count": 35,
   "metadata": {},
   "outputs": [
    {
     "data": {
      "text/plain": [
       "0.8636458320968442"
      ]
     },
     "execution_count": 35,
     "metadata": {},
     "output_type": "execute_result"
    }
   ],
   "source": [
    "# Train the model\n",
    "lr4 = LinearRegression()\n",
    "lr4.fit(X_test_mm, y_test)\n",
    "lr4.score(X_val_mm, y_val)"
   ]
  },
  {
   "cell_type": "code",
   "execution_count": 36,
   "metadata": {},
   "outputs": [
    {
     "name": "stdout",
     "output_type": "stream",
     "text": [
      "MSE: 2198863.422705386\n",
      "MAE: 890.252836813294\n",
      "RMSE: 1482.85650779345\n"
     ]
    }
   ],
   "source": [
    "res4 = calc_cost(y_val, lr4.predict(X_val_mm))"
   ]
  },
  {
   "cell_type": "code",
   "execution_count": 37,
   "metadata": {},
   "outputs": [
    {
     "data": {
      "text/plain": [
       "array([ 38684.32744819,  -1961.53824911,  -1943.20924054, -37323.04723011,\n",
       "        38685.50431127, -11970.96015017])"
      ]
     },
     "execution_count": 37,
     "metadata": {},
     "output_type": "execute_result"
    }
   ],
   "source": [
    "lr4.coef_"
   ]
  },
  {
   "cell_type": "code",
   "execution_count": 38,
   "metadata": {},
   "outputs": [
    {
     "data": {
      "image/png": "[encoded data removed]",
      "text/plain": [
       "<Figure size 720x360 with 4 Axes>"
      ]
     },
     "metadata": {},
     "output_type": "display_data"
    }
   ],
   "source": [
    "fig, ax = plt.subplots(2,2)\n",
    "\n",
    "pd.Series(lr.coef_).plot(kind=\"bar\", title=\"Coefficients Lr1, No Scaler\", ax=ax[0,0])\n",
    "pd.Series(lr2.coef_).plot(kind=\"bar\", title=\"Coefficients Lr2, Standard Scaler\", ax=ax[0,1])\n",
    "pd.Series(lr3.coef_).plot(kind=\"bar\", title=\"Coefficients Lr3, Robust Scaler\", ax=ax[1,0])\n",
    "pd.Series(lr4.coef_).plot(kind=\"bar\", title=\"Coefficients Lr4, Min Max Scaler\", ax=ax[1,1], figsize=(10,5))\n",
    "\n",
    "plt.tight_layout();"
   ]
  },
  {
   "cell_type": "markdown",
   "metadata": {},
   "source": [
    "## Feature Engineering\n"
   ]
  },
  {
   "cell_type": "code",
   "execution_count": 39,
   "metadata": {},
   "outputs": [
    {
     "data": {
      "text/html": [
       "<div>\n",
       "<style scoped>\n",
       "    .dataframe tbody tr th:only-of-type {\n",
       "        vertical-align: middle;\n",
       "    }\n",
       "\n",
       "    .dataframe tbody tr th {\n",
       "        vertical-align: top;\n",
       "    }\n",
       "\n",
       "    .dataframe thead th {\n",
       "        text-align: right;\n",
       "    }\n",
       "</style>\n",
       "<table border=\"1\" class=\"dataframe\">\n",
       "  <thead>\n",
       "    <tr style=\"text-align: right;\">\n",
       "      <th></th>\n",
       "      <th>cut</th>\n",
       "      <th>color</th>\n",
       "      <th>clarity</th>\n",
       "    </tr>\n",
       "  </thead>\n",
       "  <tbody>\n",
       "    <tr>\n",
       "      <th>count</th>\n",
       "      <td>8630</td>\n",
       "      <td>8630</td>\n",
       "      <td>8630</td>\n",
       "    </tr>\n",
       "    <tr>\n",
       "      <th>unique</th>\n",
       "      <td>5</td>\n",
       "      <td>7</td>\n",
       "      <td>8</td>\n",
       "    </tr>\n",
       "    <tr>\n",
       "      <th>top</th>\n",
       "      <td>Ideal</td>\n",
       "      <td>G</td>\n",
       "      <td>SI1</td>\n",
       "    </tr>\n",
       "    <tr>\n",
       "      <th>freq</th>\n",
       "      <td>3449</td>\n",
       "      <td>1819</td>\n",
       "      <td>2035</td>\n",
       "    </tr>\n",
       "  </tbody>\n",
       "</table>\n",
       "</div>"
      ],
      "text/plain": [
       "          cut color clarity\n",
       "count    8630  8630    8630\n",
       "unique      5     7       8\n",
       "top     Ideal     G     SI1\n",
       "freq     3449  1819    2035"
      ]
     },
     "execution_count": 39,
     "metadata": {},
     "output_type": "execute_result"
    }
   ],
   "source": [
    "test.describe(exclude=\"number\")"
   ]
  },
  {
   "cell_type": "code",
   "execution_count": 40,
   "metadata": {},
   "outputs": [],
   "source": [
    "# Create our One Hot Encoder object\n",
    "one_hot = OneHotEncoder()\n",
    "\n",
    "col_names = [\"color\", \"clarity\"]\n",
    "\n",
    "# One Hot encode the column\n",
    "one_hot_df = one_hot.fit_transform(test[col_names]).toarray()\n",
    "one_hot_df_val = one_hot.transform(val[col_names]).toarray()"
   ]
  },
  {
   "cell_type": "code",
   "execution_count": 41,
   "metadata": {},
   "outputs": [
    {
     "data": {
      "text/plain": [
       "[array(['D', 'E', 'F', 'G', 'H', 'I', 'J'], dtype=object),\n",
       " array(['I1', 'IF', 'SI1', 'SI2', 'VS1', 'VS2', 'VVS1', 'VVS2'],\n",
       "       dtype=object)]"
      ]
     },
     "execution_count": 41,
     "metadata": {},
     "output_type": "execute_result"
    }
   ],
   "source": [
    "# Look at the categories\n",
    "one_hot.categories_"
   ]
  },
  {
   "cell_type": "code",
   "execution_count": 42,
   "metadata": {},
   "outputs": [
    {
     "data": {
      "text/plain": [
       "['color_D',\n",
       " 'color_E',\n",
       " 'color_F',\n",
       " 'color_G',\n",
       " 'color_H',\n",
       " 'color_I',\n",
       " 'color_J',\n",
       " 'clarity_I1',\n",
       " 'clarity_IF',\n",
       " 'clarity_SI1',\n",
       " 'clarity_SI2',\n",
       " 'clarity_VS1',\n",
       " 'clarity_VS2',\n",
       " 'clarity_VVS1',\n",
       " 'clarity_VVS2']"
      ]
     },
     "execution_count": 42,
     "metadata": {},
     "output_type": "execute_result"
    }
   ],
   "source": [
    "# Create column names list for one hot encoded features\n",
    "column_names = []\n",
    "\n",
    "for y in range(len(one_hot.categories_)):\n",
    "    for z in range(len(one_hot.categories_[y])):\n",
    "        # print(one_hot.categories_[y][z])\n",
    "        column_names.append(col_names[y]+\"_\"+one_hot.categories_[y][z])\n",
    "\n",
    "\n",
    "column_names"
   ]
  },
  {
   "cell_type": "code",
   "execution_count": 43,
   "metadata": {},
   "outputs": [],
   "source": [
    "def col_names(one_hot_model):\n",
    "    \n",
    "    \"Create columns names list for one hot encoded feature\"\n",
    "    \n",
    "    column_names = []\n",
    "    \n",
    "    col_names = [\"color\", \"clarity\"]\n",
    "\n",
    "    for y in range(len(one_hot_model.categories_)):\n",
    "        for z in range(len(one_hot_model.categories_[y])):\n",
    "            # print(one_hot.categories_[y][z])\n",
    "            column_names.append(col_names[y]+\"_\"+one_hot_model.categories_[y][z])\n",
    "            \n",
    "    return column_names\n",
    "\n",
    "column_names = col_names(one_hot)"
   ]
  },
  {
   "cell_type": "code",
   "execution_count": 44,
   "metadata": {},
   "outputs": [
    {
     "data": {
      "text/plain": [
       "array([[0., 0., 0., ..., 0., 0., 0.],\n",
       "       [0., 1., 0., ..., 0., 0., 0.],\n",
       "       [0., 0., 0., ..., 0., 0., 0.],\n",
       "       ...,\n",
       "       [1., 0., 0., ..., 0., 0., 0.],\n",
       "       [0., 0., 0., ..., 0., 1., 0.],\n",
       "       [0., 0., 0., ..., 0., 0., 0.]])"
      ]
     },
     "execution_count": 44,
     "metadata": {},
     "output_type": "execute_result"
    }
   ],
   "source": [
    "# Values for each row\n",
    "one_hot_df"
   ]
  },
  {
   "cell_type": "code",
   "execution_count": 45,
   "metadata": {},
   "outputs": [
    {
     "name": "stdout",
     "output_type": "stream",
     "text": [
      "(8630, 15)\n",
      "(2158, 15)\n"
     ]
    }
   ],
   "source": [
    "# Cast One Hot Encoded values into a dataframe\n",
    "\n",
    "oh_df = pd.DataFrame(\n",
    "    one_hot_df,\n",
    "    index=test.index,\n",
    "    columns = column_names\n",
    ")\n",
    "\n",
    "oh_df_val = pd.DataFrame(\n",
    "    one_hot_df_val,\n",
    "    index=val.index,\n",
    "    columns = column_names\n",
    ")\n",
    "\n",
    "print(oh_df.shape)\n",
    "print(oh_df_val.shape)"
   ]
  },
  {
   "cell_type": "code",
   "execution_count": 46,
   "metadata": {},
   "outputs": [
    {
     "name": "stdout",
     "output_type": "stream",
     "text": [
      "(8630, 23)\n",
      "(2158, 23)\n"
     ]
    }
   ],
   "source": [
    "# Create train_new df by merging train and one hot encoded df together and drop color and clarity cols\n",
    "test_new = test.merge(oh_df, on=test.index).set_index(\"key_0\").drop([\"color\", \"clarity\"], axis=1)\n",
    "val_new = val.merge(oh_df_val, on=val.index).set_index(\"key_0\").drop([\"color\", \"clarity\"], axis=1)\n",
    "\n",
    "print(test_new.shape)\n",
    "print(val_new.shape)"
   ]
  },
  {
   "cell_type": "markdown",
   "metadata": {},
   "source": [
    "#### Ordinal Encoder \n"
   ]
  },
  {
   "cell_type": "code",
   "execution_count": 47,
   "metadata": {},
   "outputs": [],
   "source": [
    "ordinal = OrdinalEncoder()\n",
    "\n",
    "col_names = [\"cut\"]\n",
    "\n",
    "# Ordinal encode the column\n",
    "ordinal_ls = ordinal.fit_transform(test[col_names])\n",
    "ordinal_ls_val = ordinal.transform(val[col_names])"
   ]
  },
  {
   "cell_type": "code",
   "execution_count": 48,
   "metadata": {},
   "outputs": [
    {
     "data": {
      "text/plain": [
       "[array(['Fair', 'Good', 'Ideal', 'Premium', 'Very Good'], dtype=object)]"
      ]
     },
     "execution_count": 48,
     "metadata": {},
     "output_type": "execute_result"
    }
   ],
   "source": [
    "# Look at categories\n",
    "ordinal.categories_"
   ]
  },
  {
   "cell_type": "code",
   "execution_count": 49,
   "metadata": {},
   "outputs": [
    {
     "data": {
      "text/html": [
       "<div>\n",
       "<style scoped>\n",
       "    .dataframe tbody tr th:only-of-type {\n",
       "        vertical-align: middle;\n",
       "    }\n",
       "\n",
       "    .dataframe tbody tr th {\n",
       "        vertical-align: top;\n",
       "    }\n",
       "\n",
       "    .dataframe thead th {\n",
       "        text-align: right;\n",
       "    }\n",
       "</style>\n",
       "<table border=\"1\" class=\"dataframe\">\n",
       "  <thead>\n",
       "    <tr style=\"text-align: right;\">\n",
       "      <th></th>\n",
       "      <th>carat</th>\n",
       "      <th>cut</th>\n",
       "      <th>depth</th>\n",
       "      <th>table</th>\n",
       "      <th>price</th>\n",
       "      <th>x</th>\n",
       "      <th>y</th>\n",
       "      <th>z</th>\n",
       "      <th>color_D</th>\n",
       "      <th>color_E</th>\n",
       "      <th>...</th>\n",
       "      <th>color_I</th>\n",
       "      <th>color_J</th>\n",
       "      <th>clarity_I1</th>\n",
       "      <th>clarity_IF</th>\n",
       "      <th>clarity_SI1</th>\n",
       "      <th>clarity_SI2</th>\n",
       "      <th>clarity_VS1</th>\n",
       "      <th>clarity_VS2</th>\n",
       "      <th>clarity_VVS1</th>\n",
       "      <th>clarity_VVS2</th>\n",
       "    </tr>\n",
       "    <tr>\n",
       "      <th>key_0</th>\n",
       "      <th></th>\n",
       "      <th></th>\n",
       "      <th></th>\n",
       "      <th></th>\n",
       "      <th></th>\n",
       "      <th></th>\n",
       "      <th></th>\n",
       "      <th></th>\n",
       "      <th></th>\n",
       "      <th></th>\n",
       "      <th></th>\n",
       "      <th></th>\n",
       "      <th></th>\n",
       "      <th></th>\n",
       "      <th></th>\n",
       "      <th></th>\n",
       "      <th></th>\n",
       "      <th></th>\n",
       "      <th></th>\n",
       "      <th></th>\n",
       "      <th></th>\n",
       "    </tr>\n",
       "  </thead>\n",
       "  <tbody>\n",
       "    <tr>\n",
       "      <th>45354</th>\n",
       "      <td>0.56</td>\n",
       "      <td>2.0</td>\n",
       "      <td>62.0</td>\n",
       "      <td>56.0</td>\n",
       "      <td>1664</td>\n",
       "      <td>5.27</td>\n",
       "      <td>5.31</td>\n",
       "      <td>3.28</td>\n",
       "      <td>0.0</td>\n",
       "      <td>0.0</td>\n",
       "      <td>...</td>\n",
       "      <td>0.0</td>\n",
       "      <td>0.0</td>\n",
       "      <td>0.0</td>\n",
       "      <td>0.0</td>\n",
       "      <td>0.0</td>\n",
       "      <td>0.0</td>\n",
       "      <td>0.0</td>\n",
       "      <td>1.0</td>\n",
       "      <td>0.0</td>\n",
       "      <td>0.0</td>\n",
       "    </tr>\n",
       "    <tr>\n",
       "      <th>22876</th>\n",
       "      <td>1.26</td>\n",
       "      <td>2.0</td>\n",
       "      <td>62.1</td>\n",
       "      <td>57.0</td>\n",
       "      <td>10916</td>\n",
       "      <td>7.01</td>\n",
       "      <td>6.91</td>\n",
       "      <td>4.32</td>\n",
       "      <td>0.0</td>\n",
       "      <td>0.0</td>\n",
       "      <td>...</td>\n",
       "      <td>0.0</td>\n",
       "      <td>0.0</td>\n",
       "      <td>0.0</td>\n",
       "      <td>0.0</td>\n",
       "      <td>0.0</td>\n",
       "      <td>0.0</td>\n",
       "      <td>0.0</td>\n",
       "      <td>0.0</td>\n",
       "      <td>1.0</td>\n",
       "      <td>0.0</td>\n",
       "    </tr>\n",
       "    <tr>\n",
       "      <th>41253</th>\n",
       "      <td>0.30</td>\n",
       "      <td>4.0</td>\n",
       "      <td>61.7</td>\n",
       "      <td>59.0</td>\n",
       "      <td>500</td>\n",
       "      <td>4.29</td>\n",
       "      <td>4.33</td>\n",
       "      <td>2.66</td>\n",
       "      <td>0.0</td>\n",
       "      <td>0.0</td>\n",
       "      <td>...</td>\n",
       "      <td>0.0</td>\n",
       "      <td>0.0</td>\n",
       "      <td>0.0</td>\n",
       "      <td>0.0</td>\n",
       "      <td>1.0</td>\n",
       "      <td>0.0</td>\n",
       "      <td>0.0</td>\n",
       "      <td>0.0</td>\n",
       "      <td>0.0</td>\n",
       "      <td>0.0</td>\n",
       "    </tr>\n",
       "    <tr>\n",
       "      <th>40592</th>\n",
       "      <td>0.28</td>\n",
       "      <td>2.0</td>\n",
       "      <td>62.2</td>\n",
       "      <td>55.0</td>\n",
       "      <td>497</td>\n",
       "      <td>4.21</td>\n",
       "      <td>4.24</td>\n",
       "      <td>2.63</td>\n",
       "      <td>0.0</td>\n",
       "      <td>0.0</td>\n",
       "      <td>...</td>\n",
       "      <td>1.0</td>\n",
       "      <td>0.0</td>\n",
       "      <td>0.0</td>\n",
       "      <td>0.0</td>\n",
       "      <td>0.0</td>\n",
       "      <td>0.0</td>\n",
       "      <td>0.0</td>\n",
       "      <td>0.0</td>\n",
       "      <td>0.0</td>\n",
       "      <td>1.0</td>\n",
       "    </tr>\n",
       "    <tr>\n",
       "      <th>44779</th>\n",
       "      <td>0.59</td>\n",
       "      <td>2.0</td>\n",
       "      <td>62.9</td>\n",
       "      <td>56.0</td>\n",
       "      <td>1622</td>\n",
       "      <td>5.35</td>\n",
       "      <td>5.33</td>\n",
       "      <td>3.36</td>\n",
       "      <td>0.0</td>\n",
       "      <td>0.0</td>\n",
       "      <td>...</td>\n",
       "      <td>0.0</td>\n",
       "      <td>0.0</td>\n",
       "      <td>0.0</td>\n",
       "      <td>0.0</td>\n",
       "      <td>0.0</td>\n",
       "      <td>0.0</td>\n",
       "      <td>0.0</td>\n",
       "      <td>1.0</td>\n",
       "      <td>0.0</td>\n",
       "      <td>0.0</td>\n",
       "    </tr>\n",
       "  </tbody>\n",
       "</table>\n",
       "<p>5 rows × 23 columns</p>\n",
       "</div>"
      ],
      "text/plain": [
       "       carat  cut  depth  table  price     x     y     z  color_D  color_E  \\\n",
       "key_0                                                                        \n",
       "45354   0.56  2.0   62.0   56.0   1664  5.27  5.31  3.28      0.0      0.0   \n",
       "22876   1.26  2.0   62.1   57.0  10916  7.01  6.91  4.32      0.0      0.0   \n",
       "41253   0.30  4.0   61.7   59.0    500  4.29  4.33  2.66      0.0      0.0   \n",
       "40592   0.28  2.0   62.2   55.0    497  4.21  4.24  2.63      0.0      0.0   \n",
       "44779   0.59  2.0   62.9   56.0   1622  5.35  5.33  3.36      0.0      0.0   \n",
       "\n",
       "       ...  color_I  color_J  clarity_I1  clarity_IF  clarity_SI1  \\\n",
       "key_0  ...                                                          \n",
       "45354  ...      0.0      0.0         0.0         0.0          0.0   \n",
       "22876  ...      0.0      0.0         0.0         0.0          0.0   \n",
       "41253  ...      0.0      0.0         0.0         0.0          1.0   \n",
       "40592  ...      1.0      0.0         0.0         0.0          0.0   \n",
       "44779  ...      0.0      0.0         0.0         0.0          0.0   \n",
       "\n",
       "       clarity_SI2  clarity_VS1  clarity_VS2  clarity_VVS1  clarity_VVS2  \n",
       "key_0                                                                     \n",
       "45354          0.0          0.0          1.0           0.0           0.0  \n",
       "22876          0.0          0.0          0.0           1.0           0.0  \n",
       "41253          0.0          0.0          0.0           0.0           0.0  \n",
       "40592          0.0          0.0          0.0           0.0           1.0  \n",
       "44779          0.0          0.0          1.0           0.0           0.0  \n",
       "\n",
       "[5 rows x 23 columns]"
      ]
     },
     "execution_count": 49,
     "metadata": {},
     "output_type": "execute_result"
    }
   ],
   "source": [
    "# Add oridnally encoded column to the data\n",
    "test_new[\"cut\"] = ordinal_ls\n",
    "val_new[\"cut\"] = ordinal_ls_val\n",
    "\n",
    "test_new.sample(5)"
   ]
  },
  {
   "cell_type": "markdown",
   "metadata": {},
   "source": [
    "#### Model Using One Hot and Ordinally Encoded Features"
   ]
  },
  {
   "cell_type": "code",
   "execution_count": 50,
   "metadata": {},
   "outputs": [],
   "source": [
    "target = \"price\"\n",
    "\n",
    "X_test = test_new.drop(target, axis=1)\n",
    "y_test = test_new[target]\n",
    "\n",
    "X_val = val_new.drop(target, axis=1)\n",
    "y_val = val_new[target]"
   ]
  },
  {
   "cell_type": "code",
   "execution_count": 51,
   "metadata": {},
   "outputs": [
    {
     "data": {
      "text/plain": [
       "0.9203328655302125"
      ]
     },
     "execution_count": 51,
     "metadata": {},
     "output_type": "execute_result"
    }
   ],
   "source": [
    "lr5 = LinearRegression()\n",
    "\n",
    "lr5.fit(X_test, y_test)\n",
    "lr5.score(X_val, y_val)"
   ]
  },
  {
   "cell_type": "code",
   "execution_count": 52,
   "metadata": {},
   "outputs": [
    {
     "name": "stdout",
     "output_type": "stream",
     "text": [
      "MSE: 1284721.6236307858\n",
      "MAE: 746.8868988375043\n",
      "RMSE: 1133.4556116720169\n"
     ]
    }
   ],
   "source": [
    "res5 = calc_cost(y_val, lr5.predict(X_val))"
   ]
  },
  {
   "cell_type": "code",
   "execution_count": 53,
   "metadata": {},
   "outputs": [
    {
     "data": {
      "text/plain": [
       "<AxesSubplot:title={'center':'Coefficients Lr5, Features Engineered'}>"
      ]
     },
     "execution_count": 53,
     "metadata": {},
     "output_type": "execute_result"
    },
    {
     "data": {
      "image/png": "[encoded data removed]",
      "text/plain": [
       "<Figure size 720x360 with 1 Axes>"
      ]
     },
     "metadata": {},
     "output_type": "display_data"
    }
   ],
   "source": [
    "pd.Series(lr5.coef_).plot(kind=\"bar\", title=\"Coefficients Lr5, Features Engineered\",figsize=(10,5))"
   ]
  },
  {
   "cell_type": "markdown",
   "metadata": {},
   "source": [
    "## Combining Feature Scaling and Feature Engineering"
   ]
  },
  {
   "cell_type": "code",
   "execution_count": 54,
   "metadata": {},
   "outputs": [
    {
     "name": "stdout",
     "output_type": "stream",
     "text": [
      "(8630, 22)\n"
     ]
    },
    {
     "data": {
      "text/html": [
       "<div>\n",
       "<style scoped>\n",
       "    .dataframe tbody tr th:only-of-type {\n",
       "        vertical-align: middle;\n",
       "    }\n",
       "\n",
       "    .dataframe tbody tr th {\n",
       "        vertical-align: top;\n",
       "    }\n",
       "\n",
       "    .dataframe thead th {\n",
       "        text-align: right;\n",
       "    }\n",
       "</style>\n",
       "<table border=\"1\" class=\"dataframe\">\n",
       "  <thead>\n",
       "    <tr style=\"text-align: right;\">\n",
       "      <th></th>\n",
       "      <th>carat</th>\n",
       "      <th>depth</th>\n",
       "      <th>table</th>\n",
       "      <th>x</th>\n",
       "      <th>y</th>\n",
       "      <th>z</th>\n",
       "      <th>cut</th>\n",
       "      <th>color_D</th>\n",
       "      <th>color_E</th>\n",
       "      <th>color_F</th>\n",
       "      <th>...</th>\n",
       "      <th>color_I</th>\n",
       "      <th>color_J</th>\n",
       "      <th>clarity_I1</th>\n",
       "      <th>clarity_IF</th>\n",
       "      <th>clarity_SI1</th>\n",
       "      <th>clarity_SI2</th>\n",
       "      <th>clarity_VS1</th>\n",
       "      <th>clarity_VS2</th>\n",
       "      <th>clarity_VVS1</th>\n",
       "      <th>clarity_VVS2</th>\n",
       "    </tr>\n",
       "    <tr>\n",
       "      <th>key_0</th>\n",
       "      <th></th>\n",
       "      <th></th>\n",
       "      <th></th>\n",
       "      <th></th>\n",
       "      <th></th>\n",
       "      <th></th>\n",
       "      <th></th>\n",
       "      <th></th>\n",
       "      <th></th>\n",
       "      <th></th>\n",
       "      <th></th>\n",
       "      <th></th>\n",
       "      <th></th>\n",
       "      <th></th>\n",
       "      <th></th>\n",
       "      <th></th>\n",
       "      <th></th>\n",
       "      <th></th>\n",
       "      <th></th>\n",
       "      <th></th>\n",
       "      <th></th>\n",
       "    </tr>\n",
       "  </thead>\n",
       "  <tbody>\n",
       "    <tr>\n",
       "      <th>23029</th>\n",
       "      <td>-0.981936</td>\n",
       "      <td>-0.331981</td>\n",
       "      <td>-0.641090</td>\n",
       "      <td>-1.083859</td>\n",
       "      <td>-1.136798</td>\n",
       "      <td>-1.135047</td>\n",
       "      <td>2.0</td>\n",
       "      <td>0.0</td>\n",
       "      <td>0.0</td>\n",
       "      <td>0.0</td>\n",
       "      <td>...</td>\n",
       "      <td>0.0</td>\n",
       "      <td>0.0</td>\n",
       "      <td>0.0</td>\n",
       "      <td>0.0</td>\n",
       "      <td>1.0</td>\n",
       "      <td>0.0</td>\n",
       "      <td>0.0</td>\n",
       "      <td>0.0</td>\n",
       "      <td>0.0</td>\n",
       "      <td>0.0</td>\n",
       "    </tr>\n",
       "    <tr>\n",
       "      <th>37821</th>\n",
       "      <td>-1.023713</td>\n",
       "      <td>-0.331981</td>\n",
       "      <td>0.251475</td>\n",
       "      <td>-1.207880</td>\n",
       "      <td>-1.190293</td>\n",
       "      <td>-1.221067</td>\n",
       "      <td>2.0</td>\n",
       "      <td>0.0</td>\n",
       "      <td>1.0</td>\n",
       "      <td>0.0</td>\n",
       "      <td>...</td>\n",
       "      <td>0.0</td>\n",
       "      <td>0.0</td>\n",
       "      <td>0.0</td>\n",
       "      <td>1.0</td>\n",
       "      <td>0.0</td>\n",
       "      <td>0.0</td>\n",
       "      <td>0.0</td>\n",
       "      <td>0.0</td>\n",
       "      <td>0.0</td>\n",
       "      <td>0.0</td>\n",
       "    </tr>\n",
       "    <tr>\n",
       "      <th>43886</th>\n",
       "      <td>-0.543282</td>\n",
       "      <td>0.921053</td>\n",
       "      <td>-1.087372</td>\n",
       "      <td>-0.490332</td>\n",
       "      <td>-0.459196</td>\n",
       "      <td>-0.389546</td>\n",
       "      <td>2.0</td>\n",
       "      <td>0.0</td>\n",
       "      <td>0.0</td>\n",
       "      <td>0.0</td>\n",
       "      <td>...</td>\n",
       "      <td>1.0</td>\n",
       "      <td>0.0</td>\n",
       "      <td>0.0</td>\n",
       "      <td>0.0</td>\n",
       "      <td>0.0</td>\n",
       "      <td>0.0</td>\n",
       "      <td>1.0</td>\n",
       "      <td>0.0</td>\n",
       "      <td>0.0</td>\n",
       "      <td>0.0</td>\n",
       "    </tr>\n",
       "    <tr>\n",
       "      <th>27287</th>\n",
       "      <td>2.506409</td>\n",
       "      <td>0.294536</td>\n",
       "      <td>-0.641090</td>\n",
       "      <td>2.131818</td>\n",
       "      <td>2.072894</td>\n",
       "      <td>2.148026</td>\n",
       "      <td>3.0</td>\n",
       "      <td>0.0</td>\n",
       "      <td>1.0</td>\n",
       "      <td>0.0</td>\n",
       "      <td>...</td>\n",
       "      <td>0.0</td>\n",
       "      <td>0.0</td>\n",
       "      <td>0.0</td>\n",
       "      <td>0.0</td>\n",
       "      <td>0.0</td>\n",
       "      <td>1.0</td>\n",
       "      <td>0.0</td>\n",
       "      <td>0.0</td>\n",
       "      <td>0.0</td>\n",
       "      <td>0.0</td>\n",
       "    </tr>\n",
       "    <tr>\n",
       "      <th>10163</th>\n",
       "      <td>0.522021</td>\n",
       "      <td>-2.698823</td>\n",
       "      <td>2.036603</td>\n",
       "      <td>0.838460</td>\n",
       "      <td>0.887091</td>\n",
       "      <td>0.484985</td>\n",
       "      <td>1.0</td>\n",
       "      <td>0.0</td>\n",
       "      <td>0.0</td>\n",
       "      <td>1.0</td>\n",
       "      <td>...</td>\n",
       "      <td>0.0</td>\n",
       "      <td>0.0</td>\n",
       "      <td>0.0</td>\n",
       "      <td>0.0</td>\n",
       "      <td>1.0</td>\n",
       "      <td>0.0</td>\n",
       "      <td>0.0</td>\n",
       "      <td>0.0</td>\n",
       "      <td>0.0</td>\n",
       "      <td>0.0</td>\n",
       "    </tr>\n",
       "  </tbody>\n",
       "</table>\n",
       "<p>5 rows × 22 columns</p>\n",
       "</div>"
      ],
      "text/plain": [
       "          carat     depth     table         x         y         z  cut  \\\n",
       "key_0                                                                    \n",
       "23029 -0.981936 -0.331981 -0.641090 -1.083859 -1.136798 -1.135047  2.0   \n",
       "37821 -1.023713 -0.331981  0.251475 -1.207880 -1.190293 -1.221067  2.0   \n",
       "43886 -0.543282  0.921053 -1.087372 -0.490332 -0.459196 -0.389546  2.0   \n",
       "27287  2.506409  0.294536 -0.641090  2.131818  2.072894  2.148026  3.0   \n",
       "10163  0.522021 -2.698823  2.036603  0.838460  0.887091  0.484985  1.0   \n",
       "\n",
       "       color_D  color_E  color_F  ...  color_I  color_J  clarity_I1  \\\n",
       "key_0                             ...                                 \n",
       "23029      0.0      0.0      0.0  ...      0.0      0.0         0.0   \n",
       "37821      0.0      1.0      0.0  ...      0.0      0.0         0.0   \n",
       "43886      0.0      0.0      0.0  ...      1.0      0.0         0.0   \n",
       "27287      0.0      1.0      0.0  ...      0.0      0.0         0.0   \n",
       "10163      0.0      0.0      1.0  ...      0.0      0.0         0.0   \n",
       "\n",
       "       clarity_IF  clarity_SI1  clarity_SI2  clarity_VS1  clarity_VS2  \\\n",
       "key_0                                                                   \n",
       "23029         0.0          1.0          0.0          0.0          0.0   \n",
       "37821         1.0          0.0          0.0          0.0          0.0   \n",
       "43886         0.0          0.0          0.0          1.0          0.0   \n",
       "27287         0.0          0.0          1.0          0.0          0.0   \n",
       "10163         0.0          1.0          0.0          0.0          0.0   \n",
       "\n",
       "       clarity_VVS1  clarity_VVS2  \n",
       "key_0                              \n",
       "23029           0.0           0.0  \n",
       "37821           0.0           0.0  \n",
       "43886           0.0           0.0  \n",
       "27287           0.0           0.0  \n",
       "10163           0.0           0.0  \n",
       "\n",
       "[5 rows x 22 columns]"
      ]
     },
     "execution_count": 54,
     "metadata": {},
     "output_type": "execute_result"
    }
   ],
   "source": [
    "# Make a model with scaled and engineered features\n",
    "\n",
    "# Change column order to make addition of scaled features easier\n",
    "col_order_ls = ['carat','depth', 'table', 'x', 'y', 'z', 'cut', 'color_D', 'color_E',\n",
    "       'color_F', 'color_G', 'color_H', 'color_I', 'color_J', 'clarity_I1',\n",
    "       'clarity_IF', 'clarity_SI1', 'clarity_SI2', 'clarity_VS1',\n",
    "       'clarity_VS2', 'clarity_VVS1', 'clarity_VVS2']\n",
    "\n",
    "# Re order columns\n",
    "X_test = X_test[col_order_ls]\n",
    "X_val = X_val[col_order_ls]\n",
    "\n",
    "# Replace column values with values from scaled data\n",
    "X_test[['carat','depth', 'table', 'x', 'y', 'z']] = X_test_scaled\n",
    "X_val[['carat','depth', 'table', 'x', 'y', 'z']] = X_val_scaled\n",
    "\n",
    "print(X_test.shape)\n",
    "X_test.head()"
   ]
  },
  {
   "cell_type": "code",
   "execution_count": 55,
   "metadata": {},
   "outputs": [
    {
     "data": {
      "text/plain": [
       "True"
      ]
     },
     "execution_count": 55,
     "metadata": {},
     "output_type": "execute_result"
    }
   ],
   "source": [
    "# Verify that index values match in both datasets\n",
    "# We expect to see the same number of rows in X_train as the sum value\n",
    "X_test.shape[0] == sum(X_test.index == y_test.index)"
   ]
  },
  {
   "cell_type": "code",
   "execution_count": 56,
   "metadata": {},
   "outputs": [
    {
     "data": {
      "text/plain": [
       "0.9203328655302125"
      ]
     },
     "execution_count": 56,
     "metadata": {},
     "output_type": "execute_result"
    }
   ],
   "source": [
    "# Model\n",
    "lr6 = LinearRegression()\n",
    "\n",
    "lr6.fit(X_test, y_test)\n",
    "lr6.score(X_val, y_val)"
   ]
  },
  {
   "cell_type": "code",
   "execution_count": 57,
   "metadata": {},
   "outputs": [
    {
     "name": "stdout",
     "output_type": "stream",
     "text": [
      "MSE: 1284721.6236307856\n",
      "MAE: 746.886898837505\n",
      "RMSE: 1133.4556116720166\n"
     ]
    }
   ],
   "source": [
    "res6 = calc_cost(y_val, lr6.predict(X_val))"
   ]
  },
  {
   "cell_type": "markdown",
   "metadata": {},
   "source": [
    "## Percent Decrease in the Cost Function"
   ]
  },
  {
   "cell_type": "code",
   "execution_count": 58,
   "metadata": {},
   "outputs": [
    {
     "name": "stdout",
     "output_type": "stream",
     "text": [
      "MSE % decrease: 42\n",
      "MAE % decrease: 17\n",
      "RMSE % decrease: 24\n"
     ]
    }
   ],
   "source": [
    "delta_mse = ((res1['MSE']- res5['MSE'])/res1['MSE'])*100\n",
    "delta_mae = ((res1['MAE']- res5['MAE'])/res1['MAE'])*100\n",
    "delta_rmse = ((res1['RMSE']- res5['RMSE'])/res1['RMSE'])*100\n",
    "\n",
    "delta_ls = [round(delta_mse), round(delta_mae), round(delta_rmse)]\n",
    "delta_ls2 = [\"MSE % decrease\", \"MAE % decrease\", \"RMSE % decrease\"]\n",
    "    \n",
    "for x in range(len(delta_ls)):\n",
    "    print(f\"{delta_ls2[x]}: {delta_ls[x]}\")\n",
    "        \n",
    "    "
   ]
  },
  {
   "cell_type": "code",
   "execution_count": 59,
   "metadata": {},
   "outputs": [
    {
     "data": {
      "image/png": "[encoded data removed]",
      "text/plain": [
       "<Figure size 720x720 with 2 Axes>"
      ]
     },
     "metadata": {},
     "output_type": "display_data"
    }
   ],
   "source": [
    "# plot results between scaled and unscaled\n",
    "\n",
    "fig, ax = plt.subplots(2,1)\n",
    "\n",
    "pd.Series(lr5.coef_).plot(\n",
    "    kind=\"bar\",\n",
    "    title=\"Coefficients Lr5, Features Engineered\",\n",
    "    ax=ax[0]\n",
    ")\n",
    "\n",
    "\n",
    "pd.Series(lr6.coef_).plot(\n",
    "    kind=\"bar\", \n",
    "    title=\"Coefficients Lr6, Features Engineered & Features Scaled\",\n",
    "    ax=ax[1],\n",
    "    figsize=(10,10)\n",
    ")\n",
    "\n",
    "ax[0].set_xticklabels(X_test.columns)\n",
    "ax[1].set_xticklabels(X_test.columns)\n",
    "plt.tight_layout()"
   ]
  },
  {
   "cell_type": "markdown",
   "metadata": {},
   "source": [
    "## S\n",
    "\n",
    "- lr.score = 0.8636458320968441\n",
    "\n",
    "- Baseline\n",
    "MSE: 15836530.251180982\n",
    "MAE: 3022.1326738894877\n",
    "RMSE: 3979.5138209561455\n",
    "\n",
    "\n",
    "#### Using Model for one record prediction y = (a x1) + (b x2) + (c x3) + (d x4) + (e x5) + (f x6) + (g x7) + intercept\n",
    "- res 1 \n",
    "MSE: 2209694.8528981754\n",
    "MAE: 902.1318082324196\n",
    "RMSE: 1486.5042391120771\n",
    "\n",
    "#### Feature Scaling\n",
    "\n",
    "- lr2.score = 0.8636458320968441\n",
    "- res 2 \n",
    "MSE: 2198863.4227053868\n",
    "MAE: 890.2528368132934\n",
    "RMSE: 1482.8565077934502\n",
    "\n",
    "- lr3.score = 0.8636458320968442\n",
    "- res 3 (Robust Scaler)\n",
    "MSE: 2198863.422705386\n",
    "MAE: 890.252836813293\n",
    "RMSE: 1482.85650779345\n",
    "\n",
    "- lr4.score = 0.8636458320968442\n",
    "- res 4 (Min Max Scaler)\n",
    "MSE: 2198863.422705386\n",
    "MAE: 890.252836813294\n",
    "RMSE: 1482.85650779345\n",
    "\n",
    "#### Feature Engineering\n",
    "\n",
    "- lr5.score = 0.9203328655302125\n",
    "- res 5 \n",
    "MSE: 1284721.6236307858\n",
    "MAE: 746.8868988375043\n",
    "RMSE: 1133.4556116720169\n",
    "\n",
    "\n",
    "#### Combining Feature Scaling and Feature Engineering\n",
    "\n",
    "- lr6.score = 0.9203328655302125\n",
    "- res 6 \n",
    "MSE: 1284721.6236307856\n",
    "MAE: 746.886898837505\n",
    "RMSE: 1133.4556116720166\n",
    "\n",
    "### Percent Decrease in the Cost Function\n",
    "\n",
    "MSE % decrease: 42\n",
    "MAE % decrease: 17\n",
    "RMSE % decrease: 24\n"
   ]
  }
 ],
 "metadata": {
  "kernelspec": {
   "display_name": "Python 3",
   "language": "python",
   "name": "python3"
  },
  "language_info": {
   "codemirror_mode": {
    "name": "ipython",
    "version": 3
   },
   "file_extension": ".py",
   "mimetype": "text/x-python",
   "name": "python",
   "nbconvert_exporter": "python",
   "pygments_lexer": "ipython3",
   "version": "3.8.8"
  }
 },
 "nbformat": 4,
 "nbformat_minor": 4
}
