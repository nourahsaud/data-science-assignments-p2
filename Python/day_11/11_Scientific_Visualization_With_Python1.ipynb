{
 "cells": [
  {
   "cell_type": "markdown",
   "id": "8d459707",
   "metadata": {},
   "source": [
    "<h1><center><font color='#3D3C3A'> Handling missing values </font></center></h1>\n",
    "<img src=\"missing_values.png\">\n",
    "\n",
    "[Dataset](https://drive.google.com/file/d/1TjvAtdw2mz5zKDYJMBUFHqjOhey8u95q/view)\n"
   ]
  },
  {
   "cell_type": "markdown",
   "id": "643bfa8b",
   "metadata": {},
   "source": [
    "<center><font color='#3D3C3A'> A missing value is a value that is left blank or filled with another value to represent the value is missing, On this Assignment, I used some techniques to deal with the missing values in the dataset. </font></center>"
   ]
  },
  {
   "cell_type": "code",
   "execution_count": 555,
   "id": "e852f764",
   "metadata": {},
   "outputs": [],
   "source": [
    "# Imports\n",
    "import pandas as pd\n",
    "import numpy as np\n",
    "import matplotlib.pyplot as plt\n",
    "plt.style.use('seaborn')"
   ]
  },
  {
   "cell_type": "code",
   "execution_count": 556,
   "id": "47f32101",
   "metadata": {},
   "outputs": [],
   "source": [
    "# Reading dataset\n",
    "PATH = '/Users/nourahalsaadan/Desktop/Coding_Dojo/Python/day_11/burritos.csv'\n",
    "df = pd.read_csv(PATH)"
   ]
  },
  {
   "cell_type": "code",
   "execution_count": 557,
   "id": "78a39118",
   "metadata": {
    "scrolled": false
   },
   "outputs": [
    {
     "data": {
      "text/html": [
       "<div>\n",
       "<style scoped>\n",
       "    .dataframe tbody tr th:only-of-type {\n",
       "        vertical-align: middle;\n",
       "    }\n",
       "\n",
       "    .dataframe tbody tr th {\n",
       "        vertical-align: top;\n",
       "    }\n",
       "\n",
       "    .dataframe thead th {\n",
       "        text-align: right;\n",
       "    }\n",
       "</style>\n",
       "<table border=\"1\" class=\"dataframe\">\n",
       "  <thead>\n",
       "    <tr style=\"text-align: right;\">\n",
       "      <th></th>\n",
       "      <th>Location</th>\n",
       "      <th>Burrito</th>\n",
       "      <th>Date</th>\n",
       "      <th>Neighborhood</th>\n",
       "      <th>Address</th>\n",
       "      <th>URL</th>\n",
       "      <th>Yelp</th>\n",
       "      <th>Google</th>\n",
       "      <th>Chips</th>\n",
       "      <th>Cost</th>\n",
       "      <th>...</th>\n",
       "      <th>Nopales</th>\n",
       "      <th>Lobster</th>\n",
       "      <th>Queso</th>\n",
       "      <th>Egg</th>\n",
       "      <th>Mushroom</th>\n",
       "      <th>Bacon</th>\n",
       "      <th>Sushi</th>\n",
       "      <th>Avocado</th>\n",
       "      <th>Corn</th>\n",
       "      <th>Zucchini</th>\n",
       "    </tr>\n",
       "  </thead>\n",
       "  <tbody>\n",
       "    <tr>\n",
       "      <th>0</th>\n",
       "      <td>Donato's taco shop</td>\n",
       "      <td>California</td>\n",
       "      <td>1/18/2016</td>\n",
       "      <td>Miramar</td>\n",
       "      <td>6780 Miramar Rd</td>\n",
       "      <td>http://donatostacoshop.net/</td>\n",
       "      <td>3.5</td>\n",
       "      <td>4.2</td>\n",
       "      <td>NaN</td>\n",
       "      <td>6.49</td>\n",
       "      <td>...</td>\n",
       "      <td>NaN</td>\n",
       "      <td>NaN</td>\n",
       "      <td>NaN</td>\n",
       "      <td>NaN</td>\n",
       "      <td>NaN</td>\n",
       "      <td>NaN</td>\n",
       "      <td>NaN</td>\n",
       "      <td>NaN</td>\n",
       "      <td>NaN</td>\n",
       "      <td>NaN</td>\n",
       "    </tr>\n",
       "    <tr>\n",
       "      <th>1</th>\n",
       "      <td>Oscar's Mexican food</td>\n",
       "      <td>California</td>\n",
       "      <td>1/24/2016</td>\n",
       "      <td>San Marcos</td>\n",
       "      <td>225 S Rancho Santa Fe Rd</td>\n",
       "      <td>http://www.yelp.com/biz/oscars-mexican-food-sa...</td>\n",
       "      <td>3.5</td>\n",
       "      <td>3.3</td>\n",
       "      <td>NaN</td>\n",
       "      <td>5.45</td>\n",
       "      <td>...</td>\n",
       "      <td>NaN</td>\n",
       "      <td>NaN</td>\n",
       "      <td>NaN</td>\n",
       "      <td>NaN</td>\n",
       "      <td>NaN</td>\n",
       "      <td>NaN</td>\n",
       "      <td>NaN</td>\n",
       "      <td>NaN</td>\n",
       "      <td>NaN</td>\n",
       "      <td>NaN</td>\n",
       "    </tr>\n",
       "    <tr>\n",
       "      <th>2</th>\n",
       "      <td>Oscar's Mexican food</td>\n",
       "      <td>Carnitas</td>\n",
       "      <td>1/24/2016</td>\n",
       "      <td>NaN</td>\n",
       "      <td>NaN</td>\n",
       "      <td>NaN</td>\n",
       "      <td>NaN</td>\n",
       "      <td>NaN</td>\n",
       "      <td>NaN</td>\n",
       "      <td>4.85</td>\n",
       "      <td>...</td>\n",
       "      <td>NaN</td>\n",
       "      <td>NaN</td>\n",
       "      <td>NaN</td>\n",
       "      <td>NaN</td>\n",
       "      <td>NaN</td>\n",
       "      <td>NaN</td>\n",
       "      <td>NaN</td>\n",
       "      <td>NaN</td>\n",
       "      <td>NaN</td>\n",
       "      <td>NaN</td>\n",
       "    </tr>\n",
       "    <tr>\n",
       "      <th>3</th>\n",
       "      <td>Oscar's Mexican food</td>\n",
       "      <td>Carne asada</td>\n",
       "      <td>1/24/2016</td>\n",
       "      <td>NaN</td>\n",
       "      <td>NaN</td>\n",
       "      <td>NaN</td>\n",
       "      <td>NaN</td>\n",
       "      <td>NaN</td>\n",
       "      <td>NaN</td>\n",
       "      <td>5.25</td>\n",
       "      <td>...</td>\n",
       "      <td>NaN</td>\n",
       "      <td>NaN</td>\n",
       "      <td>NaN</td>\n",
       "      <td>NaN</td>\n",
       "      <td>NaN</td>\n",
       "      <td>NaN</td>\n",
       "      <td>NaN</td>\n",
       "      <td>NaN</td>\n",
       "      <td>NaN</td>\n",
       "      <td>NaN</td>\n",
       "    </tr>\n",
       "    <tr>\n",
       "      <th>4</th>\n",
       "      <td>Pollos Maria</td>\n",
       "      <td>California</td>\n",
       "      <td>1/27/2016</td>\n",
       "      <td>Carlsbad</td>\n",
       "      <td>3055 Harding St</td>\n",
       "      <td>http://pollosmaria.com/</td>\n",
       "      <td>4.0</td>\n",
       "      <td>3.8</td>\n",
       "      <td>x</td>\n",
       "      <td>6.59</td>\n",
       "      <td>...</td>\n",
       "      <td>NaN</td>\n",
       "      <td>NaN</td>\n",
       "      <td>NaN</td>\n",
       "      <td>NaN</td>\n",
       "      <td>NaN</td>\n",
       "      <td>NaN</td>\n",
       "      <td>NaN</td>\n",
       "      <td>NaN</td>\n",
       "      <td>NaN</td>\n",
       "      <td>NaN</td>\n",
       "    </tr>\n",
       "  </tbody>\n",
       "</table>\n",
       "<p>5 rows × 66 columns</p>\n",
       "</div>"
      ],
      "text/plain": [
       "               Location      Burrito       Date Neighborhood  \\\n",
       "0    Donato's taco shop  California   1/18/2016      Miramar   \n",
       "1  Oscar's Mexican food  California   1/24/2016   San Marcos   \n",
       "2  Oscar's Mexican food     Carnitas  1/24/2016          NaN   \n",
       "3  Oscar's Mexican food  Carne asada  1/24/2016          NaN   \n",
       "4          Pollos Maria   California  1/27/2016     Carlsbad   \n",
       "\n",
       "                    Address  \\\n",
       "0           6780 Miramar Rd   \n",
       "1  225 S Rancho Santa Fe Rd   \n",
       "2                       NaN   \n",
       "3                       NaN   \n",
       "4           3055 Harding St   \n",
       "\n",
       "                                                 URL  Yelp  Google Chips  \\\n",
       "0                        http://donatostacoshop.net/   3.5     4.2   NaN   \n",
       "1  http://www.yelp.com/biz/oscars-mexican-food-sa...   3.5     3.3   NaN   \n",
       "2                                                NaN   NaN     NaN   NaN   \n",
       "3                                                NaN   NaN     NaN   NaN   \n",
       "4                            http://pollosmaria.com/   4.0     3.8     x   \n",
       "\n",
       "   Cost  ...  Nopales  Lobster  Queso  Egg  Mushroom  Bacon  Sushi  Avocado  \\\n",
       "0  6.49  ...      NaN      NaN    NaN  NaN       NaN    NaN    NaN      NaN   \n",
       "1  5.45  ...      NaN      NaN    NaN  NaN       NaN    NaN    NaN      NaN   \n",
       "2  4.85  ...      NaN      NaN    NaN  NaN       NaN    NaN    NaN      NaN   \n",
       "3  5.25  ...      NaN      NaN    NaN  NaN       NaN    NaN    NaN      NaN   \n",
       "4  6.59  ...      NaN      NaN    NaN  NaN       NaN    NaN    NaN      NaN   \n",
       "\n",
       "   Corn  Zucchini  \n",
       "0   NaN       NaN  \n",
       "1   NaN       NaN  \n",
       "2   NaN       NaN  \n",
       "3   NaN       NaN  \n",
       "4   NaN       NaN  \n",
       "\n",
       "[5 rows x 66 columns]"
      ]
     },
     "execution_count": 557,
     "metadata": {},
     "output_type": "execute_result"
    }
   ],
   "source": [
    "# Visually inspec first 5 rows\n",
    "df.head()"
   ]
  },
  {
   "cell_type": "code",
   "execution_count": 558,
   "id": "db43ed27",
   "metadata": {},
   "outputs": [
    {
     "data": {
      "text/plain": [
       "(423, 66)"
      ]
     },
     "execution_count": 558,
     "metadata": {},
     "output_type": "execute_result"
    }
   ],
   "source": [
    "# Get the number of entries and columns\n",
    "df.shape"
   ]
  },
  {
   "cell_type": "code",
   "execution_count": 559,
   "id": "70422b9f",
   "metadata": {},
   "outputs": [
    {
     "name": "stdout",
     "output_type": "stream",
     "text": [
      "<class 'pandas.core.frame.DataFrame'>\n",
      "RangeIndex: 423 entries, 0 to 422\n",
      "Data columns (total 66 columns):\n",
      " #   Column          Non-Null Count  Dtype  \n",
      "---  ------          --------------  -----  \n",
      " 0   Location        423 non-null    object \n",
      " 1   Burrito         423 non-null    object \n",
      " 2   Date            423 non-null    object \n",
      " 3   Neighborhood    92 non-null     object \n",
      " 4   Address         88 non-null     object \n",
      " 5   URL             87 non-null     object \n",
      " 6   Yelp            87 non-null     float64\n",
      " 7   Google          87 non-null     float64\n",
      " 8   Chips           26 non-null     object \n",
      " 9   Cost            416 non-null    float64\n",
      " 10  Hunger          420 non-null    float64\n",
      " 11  Mass (g)        22 non-null     float64\n",
      " 12  Density (g/mL)  22 non-null     float64\n",
      " 13  Length          284 non-null    float64\n",
      " 14  Circum          282 non-null    float64\n",
      " 15  Volume          282 non-null    float64\n",
      " 16  Tortilla        423 non-null    float64\n",
      " 17  Temp            403 non-null    float64\n",
      " 18  Meat            409 non-null    float64\n",
      " 19  Fillings        420 non-null    float64\n",
      " 20  Meat:filling    414 non-null    float64\n",
      " 21  Uniformity      421 non-null    float64\n",
      " 22  Salsa           398 non-null    float64\n",
      " 23  Synergy         421 non-null    float64\n",
      " 24  Wrap            420 non-null    float64\n",
      " 25  overall         421 non-null    float64\n",
      " 26  Rec             233 non-null    object \n",
      " 27  Reviewer        422 non-null    object \n",
      " 28  Notes           146 non-null    object \n",
      " 29  Unreliable      33 non-null     object \n",
      " 30  NonSD           7 non-null      object \n",
      " 31  Beef            180 non-null    object \n",
      " 32  Pico            159 non-null    object \n",
      " 33  Guac            155 non-null    object \n",
      " 34  Cheese          160 non-null    object \n",
      " 35  Fries           128 non-null    object \n",
      " 36  Sour cream      92 non-null     object \n",
      " 37  Pork            51 non-null     object \n",
      " 38  Chicken         21 non-null     object \n",
      " 39  Shrimp          21 non-null     object \n",
      " 40  Fish            6 non-null      object \n",
      " 41  Rice            36 non-null     object \n",
      " 42  Beans           35 non-null     object \n",
      " 43  Lettuce         11 non-null     object \n",
      " 44  Tomato          7 non-null      object \n",
      " 45  Bell peper      7 non-null      object \n",
      " 46  Carrots         1 non-null      object \n",
      " 47  Cabbage         8 non-null      object \n",
      " 48  Sauce           38 non-null     object \n",
      " 49  Salsa.1         7 non-null      object \n",
      " 50  Cilantro        15 non-null     object \n",
      " 51  Onion           17 non-null     object \n",
      " 52  Taquito         4 non-null      object \n",
      " 53  Pineapple       7 non-null      object \n",
      " 54  Ham             2 non-null      object \n",
      " 55  Chile relleno   4 non-null      object \n",
      " 56  Nopales         4 non-null      object \n",
      " 57  Lobster         1 non-null      object \n",
      " 58  Queso           0 non-null      float64\n",
      " 59  Egg             5 non-null      object \n",
      " 60  Mushroom        3 non-null      object \n",
      " 61  Bacon           3 non-null      object \n",
      " 62  Sushi           2 non-null      object \n",
      " 63  Avocado         13 non-null     object \n",
      " 64  Corn            3 non-null      object \n",
      " 65  Zucchini        1 non-null      object \n",
      "dtypes: float64(20), object(46)\n",
      "memory usage: 218.2+ KB\n"
     ]
    }
   ],
   "source": [
    "# df summary\n",
    "df.info()"
   ]
  },
  {
   "cell_type": "code",
   "execution_count": 560,
   "id": "004722ea",
   "metadata": {
    "scrolled": true
   },
   "outputs": [
    {
     "data": {
      "text/html": [
       "<div>\n",
       "<style scoped>\n",
       "    .dataframe tbody tr th:only-of-type {\n",
       "        vertical-align: middle;\n",
       "    }\n",
       "\n",
       "    .dataframe tbody tr th {\n",
       "        vertical-align: top;\n",
       "    }\n",
       "\n",
       "    .dataframe thead th {\n",
       "        text-align: right;\n",
       "    }\n",
       "</style>\n",
       "<table border=\"1\" class=\"dataframe\">\n",
       "  <thead>\n",
       "    <tr style=\"text-align: right;\">\n",
       "      <th></th>\n",
       "      <th>Yelp</th>\n",
       "      <th>Google</th>\n",
       "      <th>Cost</th>\n",
       "      <th>Hunger</th>\n",
       "      <th>Mass (g)</th>\n",
       "      <th>Density (g/mL)</th>\n",
       "      <th>Length</th>\n",
       "      <th>Circum</th>\n",
       "      <th>Volume</th>\n",
       "      <th>Tortilla</th>\n",
       "      <th>Temp</th>\n",
       "      <th>Meat</th>\n",
       "      <th>Fillings</th>\n",
       "      <th>Meat:filling</th>\n",
       "      <th>Uniformity</th>\n",
       "      <th>Salsa</th>\n",
       "      <th>Synergy</th>\n",
       "      <th>Wrap</th>\n",
       "      <th>overall</th>\n",
       "      <th>Queso</th>\n",
       "    </tr>\n",
       "  </thead>\n",
       "  <tbody>\n",
       "    <tr>\n",
       "      <th>count</th>\n",
       "      <td>87.000000</td>\n",
       "      <td>87.000000</td>\n",
       "      <td>416.000000</td>\n",
       "      <td>420.000000</td>\n",
       "      <td>22.000000</td>\n",
       "      <td>22.000000</td>\n",
       "      <td>284.000000</td>\n",
       "      <td>282.000000</td>\n",
       "      <td>282.000000</td>\n",
       "      <td>423.000000</td>\n",
       "      <td>403.000000</td>\n",
       "      <td>409.000000</td>\n",
       "      <td>420.000000</td>\n",
       "      <td>414.000000</td>\n",
       "      <td>421.000000</td>\n",
       "      <td>398.000000</td>\n",
       "      <td>421.000000</td>\n",
       "      <td>420.000000</td>\n",
       "      <td>421.000000</td>\n",
       "      <td>0.0</td>\n",
       "    </tr>\n",
       "    <tr>\n",
       "      <th>mean</th>\n",
       "      <td>3.887356</td>\n",
       "      <td>4.167816</td>\n",
       "      <td>7.065216</td>\n",
       "      <td>3.496095</td>\n",
       "      <td>546.181818</td>\n",
       "      <td>0.675277</td>\n",
       "      <td>20.046901</td>\n",
       "      <td>22.131738</td>\n",
       "      <td>0.786489</td>\n",
       "      <td>3.519385</td>\n",
       "      <td>3.780397</td>\n",
       "      <td>3.622249</td>\n",
       "      <td>3.542024</td>\n",
       "      <td>3.589082</td>\n",
       "      <td>3.434086</td>\n",
       "      <td>3.372613</td>\n",
       "      <td>3.587767</td>\n",
       "      <td>3.981190</td>\n",
       "      <td>3.620887</td>\n",
       "      <td>NaN</td>\n",
       "    </tr>\n",
       "    <tr>\n",
       "      <th>std</th>\n",
       "      <td>0.475396</td>\n",
       "      <td>0.373698</td>\n",
       "      <td>1.503645</td>\n",
       "      <td>0.811466</td>\n",
       "      <td>144.445619</td>\n",
       "      <td>0.080468</td>\n",
       "      <td>2.084957</td>\n",
       "      <td>1.777526</td>\n",
       "      <td>0.152260</td>\n",
       "      <td>0.793301</td>\n",
       "      <td>0.980044</td>\n",
       "      <td>0.828384</td>\n",
       "      <td>0.801253</td>\n",
       "      <td>0.996292</td>\n",
       "      <td>1.069349</td>\n",
       "      <td>0.922434</td>\n",
       "      <td>0.886277</td>\n",
       "      <td>1.115803</td>\n",
       "      <td>0.755718</td>\n",
       "      <td>NaN</td>\n",
       "    </tr>\n",
       "    <tr>\n",
       "      <th>min</th>\n",
       "      <td>2.500000</td>\n",
       "      <td>2.900000</td>\n",
       "      <td>2.990000</td>\n",
       "      <td>0.500000</td>\n",
       "      <td>350.000000</td>\n",
       "      <td>0.560000</td>\n",
       "      <td>15.000000</td>\n",
       "      <td>17.000000</td>\n",
       "      <td>0.400000</td>\n",
       "      <td>1.000000</td>\n",
       "      <td>1.000000</td>\n",
       "      <td>1.000000</td>\n",
       "      <td>1.000000</td>\n",
       "      <td>0.500000</td>\n",
       "      <td>0.000000</td>\n",
       "      <td>0.000000</td>\n",
       "      <td>1.000000</td>\n",
       "      <td>0.000000</td>\n",
       "      <td>1.000000</td>\n",
       "      <td>NaN</td>\n",
       "    </tr>\n",
       "    <tr>\n",
       "      <th>25%</th>\n",
       "      <td>3.500000</td>\n",
       "      <td>4.000000</td>\n",
       "      <td>6.250000</td>\n",
       "      <td>3.000000</td>\n",
       "      <td>450.000000</td>\n",
       "      <td>0.619485</td>\n",
       "      <td>18.500000</td>\n",
       "      <td>21.000000</td>\n",
       "      <td>0.680000</td>\n",
       "      <td>3.000000</td>\n",
       "      <td>3.000000</td>\n",
       "      <td>3.000000</td>\n",
       "      <td>3.000000</td>\n",
       "      <td>3.000000</td>\n",
       "      <td>2.700000</td>\n",
       "      <td>3.000000</td>\n",
       "      <td>3.000000</td>\n",
       "      <td>3.500000</td>\n",
       "      <td>3.100000</td>\n",
       "      <td>NaN</td>\n",
       "    </tr>\n",
       "    <tr>\n",
       "      <th>50%</th>\n",
       "      <td>4.000000</td>\n",
       "      <td>4.200000</td>\n",
       "      <td>6.990000</td>\n",
       "      <td>3.500000</td>\n",
       "      <td>540.000000</td>\n",
       "      <td>0.658099</td>\n",
       "      <td>20.000000</td>\n",
       "      <td>22.000000</td>\n",
       "      <td>0.770000</td>\n",
       "      <td>3.500000</td>\n",
       "      <td>4.000000</td>\n",
       "      <td>3.800000</td>\n",
       "      <td>3.500000</td>\n",
       "      <td>4.000000</td>\n",
       "      <td>3.500000</td>\n",
       "      <td>3.500000</td>\n",
       "      <td>3.800000</td>\n",
       "      <td>4.000000</td>\n",
       "      <td>3.800000</td>\n",
       "      <td>NaN</td>\n",
       "    </tr>\n",
       "    <tr>\n",
       "      <th>75%</th>\n",
       "      <td>4.000000</td>\n",
       "      <td>4.400000</td>\n",
       "      <td>7.860000</td>\n",
       "      <td>4.000000</td>\n",
       "      <td>595.000000</td>\n",
       "      <td>0.721726</td>\n",
       "      <td>21.500000</td>\n",
       "      <td>23.000000</td>\n",
       "      <td>0.880000</td>\n",
       "      <td>4.000000</td>\n",
       "      <td>4.500000</td>\n",
       "      <td>4.000000</td>\n",
       "      <td>4.000000</td>\n",
       "      <td>4.000000</td>\n",
       "      <td>4.000000</td>\n",
       "      <td>4.000000</td>\n",
       "      <td>4.000000</td>\n",
       "      <td>5.000000</td>\n",
       "      <td>4.100000</td>\n",
       "      <td>NaN</td>\n",
       "    </tr>\n",
       "    <tr>\n",
       "      <th>max</th>\n",
       "      <td>4.500000</td>\n",
       "      <td>5.000000</td>\n",
       "      <td>25.000000</td>\n",
       "      <td>5.000000</td>\n",
       "      <td>925.000000</td>\n",
       "      <td>0.865672</td>\n",
       "      <td>26.000000</td>\n",
       "      <td>29.000000</td>\n",
       "      <td>1.540000</td>\n",
       "      <td>5.000000</td>\n",
       "      <td>5.000000</td>\n",
       "      <td>5.000000</td>\n",
       "      <td>5.000000</td>\n",
       "      <td>5.000000</td>\n",
       "      <td>5.000000</td>\n",
       "      <td>5.000000</td>\n",
       "      <td>5.000000</td>\n",
       "      <td>5.000000</td>\n",
       "      <td>5.000000</td>\n",
       "      <td>NaN</td>\n",
       "    </tr>\n",
       "  </tbody>\n",
       "</table>\n",
       "</div>"
      ],
      "text/plain": [
       "            Yelp     Google        Cost      Hunger    Mass (g)  \\\n",
       "count  87.000000  87.000000  416.000000  420.000000   22.000000   \n",
       "mean    3.887356   4.167816    7.065216    3.496095  546.181818   \n",
       "std     0.475396   0.373698    1.503645    0.811466  144.445619   \n",
       "min     2.500000   2.900000    2.990000    0.500000  350.000000   \n",
       "25%     3.500000   4.000000    6.250000    3.000000  450.000000   \n",
       "50%     4.000000   4.200000    6.990000    3.500000  540.000000   \n",
       "75%     4.000000   4.400000    7.860000    4.000000  595.000000   \n",
       "max     4.500000   5.000000   25.000000    5.000000  925.000000   \n",
       "\n",
       "       Density (g/mL)      Length      Circum      Volume    Tortilla  \\\n",
       "count       22.000000  284.000000  282.000000  282.000000  423.000000   \n",
       "mean         0.675277   20.046901   22.131738    0.786489    3.519385   \n",
       "std          0.080468    2.084957    1.777526    0.152260    0.793301   \n",
       "min          0.560000   15.000000   17.000000    0.400000    1.000000   \n",
       "25%          0.619485   18.500000   21.000000    0.680000    3.000000   \n",
       "50%          0.658099   20.000000   22.000000    0.770000    3.500000   \n",
       "75%          0.721726   21.500000   23.000000    0.880000    4.000000   \n",
       "max          0.865672   26.000000   29.000000    1.540000    5.000000   \n",
       "\n",
       "             Temp        Meat    Fillings  Meat:filling  Uniformity  \\\n",
       "count  403.000000  409.000000  420.000000    414.000000  421.000000   \n",
       "mean     3.780397    3.622249    3.542024      3.589082    3.434086   \n",
       "std      0.980044    0.828384    0.801253      0.996292    1.069349   \n",
       "min      1.000000    1.000000    1.000000      0.500000    0.000000   \n",
       "25%      3.000000    3.000000    3.000000      3.000000    2.700000   \n",
       "50%      4.000000    3.800000    3.500000      4.000000    3.500000   \n",
       "75%      4.500000    4.000000    4.000000      4.000000    4.000000   \n",
       "max      5.000000    5.000000    5.000000      5.000000    5.000000   \n",
       "\n",
       "            Salsa     Synergy        Wrap     overall  Queso  \n",
       "count  398.000000  421.000000  420.000000  421.000000    0.0  \n",
       "mean     3.372613    3.587767    3.981190    3.620887    NaN  \n",
       "std      0.922434    0.886277    1.115803    0.755718    NaN  \n",
       "min      0.000000    1.000000    0.000000    1.000000    NaN  \n",
       "25%      3.000000    3.000000    3.500000    3.100000    NaN  \n",
       "50%      3.500000    3.800000    4.000000    3.800000    NaN  \n",
       "75%      4.000000    4.000000    5.000000    4.100000    NaN  \n",
       "max      5.000000    5.000000    5.000000    5.000000    NaN  "
      ]
     },
     "execution_count": 560,
     "metadata": {},
     "output_type": "execute_result"
    }
   ],
   "source": [
    "# Computes a summary of statistics pertaining to df columns.\n",
    "df.describe()"
   ]
  },
  {
   "cell_type": "code",
   "execution_count": 561,
   "id": "32a46fc0",
   "metadata": {},
   "outputs": [
    {
     "data": {
      "text/html": [
       "<div>\n",
       "<style scoped>\n",
       "    .dataframe tbody tr th:only-of-type {\n",
       "        vertical-align: middle;\n",
       "    }\n",
       "\n",
       "    .dataframe tbody tr th {\n",
       "        vertical-align: top;\n",
       "    }\n",
       "\n",
       "    .dataframe thead th {\n",
       "        text-align: right;\n",
       "    }\n",
       "</style>\n",
       "<table border=\"1\" class=\"dataframe\">\n",
       "  <thead>\n",
       "    <tr style=\"text-align: right;\">\n",
       "      <th></th>\n",
       "      <th>Location</th>\n",
       "      <th>Burrito</th>\n",
       "      <th>Date</th>\n",
       "      <th>Neighborhood</th>\n",
       "      <th>Address</th>\n",
       "      <th>URL</th>\n",
       "      <th>Chips</th>\n",
       "      <th>Rec</th>\n",
       "      <th>Reviewer</th>\n",
       "      <th>Notes</th>\n",
       "      <th>...</th>\n",
       "      <th>Chile relleno</th>\n",
       "      <th>Nopales</th>\n",
       "      <th>Lobster</th>\n",
       "      <th>Egg</th>\n",
       "      <th>Mushroom</th>\n",
       "      <th>Bacon</th>\n",
       "      <th>Sushi</th>\n",
       "      <th>Avocado</th>\n",
       "      <th>Corn</th>\n",
       "      <th>Zucchini</th>\n",
       "    </tr>\n",
       "  </thead>\n",
       "  <tbody>\n",
       "    <tr>\n",
       "      <th>count</th>\n",
       "      <td>423</td>\n",
       "      <td>423</td>\n",
       "      <td>423</td>\n",
       "      <td>92</td>\n",
       "      <td>88</td>\n",
       "      <td>87</td>\n",
       "      <td>26</td>\n",
       "      <td>233</td>\n",
       "      <td>422</td>\n",
       "      <td>146</td>\n",
       "      <td>...</td>\n",
       "      <td>4</td>\n",
       "      <td>4</td>\n",
       "      <td>1</td>\n",
       "      <td>5</td>\n",
       "      <td>3</td>\n",
       "      <td>3</td>\n",
       "      <td>2</td>\n",
       "      <td>13</td>\n",
       "      <td>3</td>\n",
       "      <td>1</td>\n",
       "    </tr>\n",
       "    <tr>\n",
       "      <th>unique</th>\n",
       "      <td>108</td>\n",
       "      <td>132</td>\n",
       "      <td>169</td>\n",
       "      <td>41</td>\n",
       "      <td>87</td>\n",
       "      <td>86</td>\n",
       "      <td>4</td>\n",
       "      <td>6</td>\n",
       "      <td>106</td>\n",
       "      <td>145</td>\n",
       "      <td>...</td>\n",
       "      <td>1</td>\n",
       "      <td>1</td>\n",
       "      <td>1</td>\n",
       "      <td>1</td>\n",
       "      <td>1</td>\n",
       "      <td>1</td>\n",
       "      <td>1</td>\n",
       "      <td>1</td>\n",
       "      <td>2</td>\n",
       "      <td>1</td>\n",
       "    </tr>\n",
       "    <tr>\n",
       "      <th>top</th>\n",
       "      <td>Taco Villa</td>\n",
       "      <td>California</td>\n",
       "      <td>8/30/2016</td>\n",
       "      <td>Clairemont</td>\n",
       "      <td>9500 Gilman Dr</td>\n",
       "      <td>https://www.yelp.com/biz/el-dorado-mexican-foo...</td>\n",
       "      <td>x</td>\n",
       "      <td>Yes</td>\n",
       "      <td>Scott</td>\n",
       "      <td>Bland</td>\n",
       "      <td>...</td>\n",
       "      <td>x</td>\n",
       "      <td>x</td>\n",
       "      <td>x</td>\n",
       "      <td>x</td>\n",
       "      <td>x</td>\n",
       "      <td>x</td>\n",
       "      <td>x</td>\n",
       "      <td>x</td>\n",
       "      <td>x</td>\n",
       "      <td>x</td>\n",
       "    </tr>\n",
       "    <tr>\n",
       "      <th>freq</th>\n",
       "      <td>28</td>\n",
       "      <td>101</td>\n",
       "      <td>29</td>\n",
       "      <td>9</td>\n",
       "      <td>2</td>\n",
       "      <td>2</td>\n",
       "      <td>21</td>\n",
       "      <td>157</td>\n",
       "      <td>147</td>\n",
       "      <td>2</td>\n",
       "      <td>...</td>\n",
       "      <td>4</td>\n",
       "      <td>4</td>\n",
       "      <td>1</td>\n",
       "      <td>5</td>\n",
       "      <td>3</td>\n",
       "      <td>3</td>\n",
       "      <td>2</td>\n",
       "      <td>13</td>\n",
       "      <td>2</td>\n",
       "      <td>1</td>\n",
       "    </tr>\n",
       "  </tbody>\n",
       "</table>\n",
       "<p>4 rows × 46 columns</p>\n",
       "</div>"
      ],
      "text/plain": [
       "          Location     Burrito       Date Neighborhood         Address  \\\n",
       "count          423         423        423           92              88   \n",
       "unique         108         132        169           41              87   \n",
       "top     Taco Villa  California  8/30/2016   Clairemont  9500 Gilman Dr   \n",
       "freq            28         101         29            9               2   \n",
       "\n",
       "                                                      URL Chips  Rec Reviewer  \\\n",
       "count                                                  87    26  233      422   \n",
       "unique                                                 86     4    6      106   \n",
       "top     https://www.yelp.com/biz/el-dorado-mexican-foo...     x  Yes    Scott   \n",
       "freq                                                    2    21  157      147   \n",
       "\n",
       "        Notes  ... Chile relleno Nopales Lobster Egg Mushroom Bacon Sushi  \\\n",
       "count     146  ...             4       4       1   5        3     3     2   \n",
       "unique    145  ...             1       1       1   1        1     1     1   \n",
       "top     Bland  ...             x       x       x   x        x     x     x   \n",
       "freq        2  ...             4       4       1   5        3     3     2   \n",
       "\n",
       "       Avocado Corn Zucchini  \n",
       "count       13    3        1  \n",
       "unique       1    2        1  \n",
       "top          x    x        x  \n",
       "freq        13    2        1  \n",
       "\n",
       "[4 rows x 46 columns]"
      ]
     },
     "execution_count": 561,
     "metadata": {},
     "output_type": "execute_result"
    }
   ],
   "source": [
    "# Shows a summary of categorical objects in df columns.\n",
    "df.describe(exclude= 'number')"
   ]
  },
  {
   "cell_type": "code",
   "execution_count": 562,
   "id": "24403f04",
   "metadata": {
    "scrolled": false
   },
   "outputs": [
    {
     "data": {
      "text/plain": [
       "Location          0\n",
       "Burrito           0\n",
       "Date              0\n",
       "Neighborhood    331\n",
       "Address         335\n",
       "               ... \n",
       "Bacon           420\n",
       "Sushi           421\n",
       "Avocado         410\n",
       "Corn            420\n",
       "Zucchini        422\n",
       "Length: 66, dtype: int64"
      ]
     },
     "execution_count": 562,
     "metadata": {},
     "output_type": "execute_result"
    }
   ],
   "source": [
    "# Count total NaN at each column \n",
    "df.isnull().sum()"
   ]
  },
  {
   "cell_type": "code",
   "execution_count": 563,
   "id": "88e61635",
   "metadata": {},
   "outputs": [
    {
     "name": "stdout",
     "output_type": "stream",
     "text": [
      "Total NaN in row 1 : 39\n",
      "Total NaN in row 2 : 39\n",
      "Total NaN in row 3 : 47\n",
      "Total NaN in row 4 : 46\n",
      "Total NaN in row 5 : 40\n",
      "Total NaN in row 6 : 42\n",
      "Total NaN in row 7 : 41\n",
      "Total NaN in row 8 : 48\n",
      "Total NaN in row 9 : 37\n",
      "Total NaN in row 10 : 42\n",
      "Total NaN in row 11 : 44\n",
      "Total NaN in row 12 : 38\n",
      "Total NaN in row 13 : 46\n",
      "Total NaN in row 14 : 47\n",
      "Total NaN in row 15 : 47\n",
      "Total NaN in row 16 : 38\n",
      "Total NaN in row 17 : 45\n",
      "Total NaN in row 18 : 39\n",
      "Total NaN in row 19 : 49\n",
      "Total NaN in row 20 : 43\n",
      "Total NaN in row 21 : 48\n",
      "Total NaN in row 22 : 40\n",
      "Total NaN in row 23 : 46\n",
      "Total NaN in row 24 : 44\n",
      "Total NaN in row 25 : 44\n",
      "Total NaN in row 26 : 40\n",
      "Total NaN in row 27 : 44\n",
      "Total NaN in row 28 : 41\n",
      "Total NaN in row 29 : 45\n",
      "Total NaN in row 30 : 44\n",
      "Total NaN in row 31 : 42\n",
      "Total NaN in row 32 : 44\n",
      "Total NaN in row 33 : 44\n",
      "Total NaN in row 34 : 47\n",
      "Total NaN in row 35 : 39\n",
      "Total NaN in row 36 : 45\n",
      "Total NaN in row 37 : 45\n",
      "Total NaN in row 38 : 45\n",
      "Total NaN in row 39 : 41\n",
      "Total NaN in row 40 : 47\n",
      "Total NaN in row 41 : 45\n",
      "Total NaN in row 42 : 40\n",
      "Total NaN in row 43 : 39\n",
      "Total NaN in row 44 : 45\n",
      "Total NaN in row 45 : 41\n",
      "Total NaN in row 46 : 43\n",
      "Total NaN in row 47 : 47\n",
      "Total NaN in row 48 : 44\n",
      "Total NaN in row 49 : 43\n",
      "Total NaN in row 50 : 50\n",
      "Total NaN in row 51 : 39\n",
      "Total NaN in row 52 : 44\n",
      "Total NaN in row 53 : 39\n",
      "Total NaN in row 54 : 44\n",
      "Total NaN in row 55 : 42\n",
      "Total NaN in row 56 : 46\n",
      "Total NaN in row 57 : 46\n",
      "Total NaN in row 58 : 45\n",
      "Total NaN in row 59 : 46\n",
      "Total NaN in row 60 : 49\n",
      "Total NaN in row 61 : 45\n",
      "Total NaN in row 62 : 45\n",
      "Total NaN in row 63 : 40\n",
      "Total NaN in row 64 : 46\n",
      "Total NaN in row 65 : 45\n",
      "Total NaN in row 66 : 45\n",
      "Total NaN in row 67 : 37\n",
      "Total NaN in row 68 : 42\n",
      "Total NaN in row 69 : 43\n",
      "Total NaN in row 70 : 42\n",
      "Total NaN in row 71 : 46\n",
      "Total NaN in row 72 : 52\n",
      "Total NaN in row 73 : 51\n",
      "Total NaN in row 74 : 36\n",
      "Total NaN in row 75 : 42\n",
      "Total NaN in row 76 : 36\n",
      "Total NaN in row 77 : 42\n",
      "Total NaN in row 78 : 42\n",
      "Total NaN in row 79 : 35\n",
      "Total NaN in row 80 : 40\n",
      "Total NaN in row 81 : 34\n",
      "Total NaN in row 82 : 41\n",
      "Total NaN in row 83 : 39\n",
      "Total NaN in row 84 : 40\n",
      "Total NaN in row 85 : 40\n",
      "Total NaN in row 86 : 40\n",
      "Total NaN in row 87 : 40\n",
      "Total NaN in row 88 : 43\n",
      "Total NaN in row 89 : 45\n",
      "Total NaN in row 90 : 46\n",
      "Total NaN in row 91 : 42\n",
      "Total NaN in row 92 : 42\n",
      "Total NaN in row 93 : 42\n",
      "Total NaN in row 94 : 41\n",
      "Total NaN in row 95 : 43\n",
      "Total NaN in row 96 : 43\n",
      "Total NaN in row 97 : 43\n",
      "Total NaN in row 98 : 43\n",
      "Total NaN in row 99 : 42\n",
      "Total NaN in row 100 : 41\n",
      "Total NaN in row 101 : 35\n",
      "Total NaN in row 102 : 42\n",
      "Total NaN in row 103 : 37\n",
      "Total NaN in row 104 : 42\n",
      "Total NaN in row 105 : 33\n",
      "Total NaN in row 106 : 49\n",
      "Total NaN in row 107 : 45\n",
      "Total NaN in row 108 : 45\n",
      "Total NaN in row 109 : 42\n",
      "Total NaN in row 110 : 42\n",
      "Total NaN in row 111 : 41\n",
      "Total NaN in row 112 : 49\n",
      "Total NaN in row 113 : 50\n",
      "Total NaN in row 114 : 34\n",
      "Total NaN in row 115 : 39\n",
      "Total NaN in row 116 : 43\n",
      "Total NaN in row 117 : 38\n",
      "Total NaN in row 118 : 43\n",
      "Total NaN in row 119 : 33\n",
      "Total NaN in row 120 : 41\n",
      "Total NaN in row 121 : 42\n",
      "Total NaN in row 122 : 42\n",
      "Total NaN in row 123 : 46\n",
      "Total NaN in row 124 : 37\n",
      "Total NaN in row 125 : 44\n",
      "Total NaN in row 126 : 44\n",
      "Total NaN in row 127 : 32\n",
      "Total NaN in row 128 : 46\n",
      "Total NaN in row 129 : 47\n",
      "Total NaN in row 130 : 48\n",
      "Total NaN in row 131 : 48\n",
      "Total NaN in row 132 : 45\n",
      "Total NaN in row 133 : 49\n",
      "Total NaN in row 134 : 47\n",
      "Total NaN in row 135 : 53\n",
      "Total NaN in row 136 : 48\n",
      "Total NaN in row 137 : 49\n",
      "Total NaN in row 138 : 41\n",
      "Total NaN in row 139 : 41\n",
      "Total NaN in row 140 : 41\n",
      "Total NaN in row 141 : 45\n",
      "Total NaN in row 142 : 45\n",
      "Total NaN in row 143 : 44\n",
      "Total NaN in row 144 : 36\n",
      "Total NaN in row 145 : 40\n",
      "Total NaN in row 146 : 41\n",
      "Total NaN in row 147 : 44\n",
      "Total NaN in row 148 : 35\n",
      "Total NaN in row 149 : 43\n",
      "Total NaN in row 150 : 34\n",
      "Total NaN in row 151 : 34\n",
      "Total NaN in row 152 : 41\n",
      "Total NaN in row 153 : 44\n",
      "Total NaN in row 154 : 38\n",
      "Total NaN in row 155 : 44\n",
      "Total NaN in row 156 : 42\n",
      "Total NaN in row 157 : 42\n",
      "Total NaN in row 158 : 42\n",
      "Total NaN in row 159 : 45\n",
      "Total NaN in row 160 : 40\n",
      "Total NaN in row 161 : 41\n",
      "Total NaN in row 162 : 41\n",
      "Total NaN in row 163 : 42\n",
      "Total NaN in row 164 : 44\n",
      "Total NaN in row 165 : 44\n",
      "Total NaN in row 166 : 41\n",
      "Total NaN in row 167 : 41\n",
      "Total NaN in row 168 : 41\n",
      "Total NaN in row 169 : 41\n",
      "Total NaN in row 170 : 41\n",
      "Total NaN in row 171 : 41\n",
      "Total NaN in row 172 : 41\n",
      "Total NaN in row 173 : 42\n",
      "Total NaN in row 174 : 50\n",
      "Total NaN in row 175 : 41\n",
      "Total NaN in row 176 : 42\n",
      "Total NaN in row 177 : 46\n",
      "Total NaN in row 178 : 46\n",
      "Total NaN in row 179 : 37\n",
      "Total NaN in row 180 : 42\n",
      "Total NaN in row 181 : 37\n",
      "Total NaN in row 182 : 35\n",
      "Total NaN in row 183 : 42\n",
      "Total NaN in row 184 : 37\n",
      "Total NaN in row 185 : 41\n",
      "Total NaN in row 186 : 40\n",
      "Total NaN in row 187 : 40\n",
      "Total NaN in row 188 : 35\n",
      "Total NaN in row 189 : 43\n",
      "Total NaN in row 190 : 40\n",
      "Total NaN in row 191 : 45\n",
      "Total NaN in row 192 : 35\n",
      "Total NaN in row 193 : 41\n",
      "Total NaN in row 194 : 35\n",
      "Total NaN in row 195 : 34\n",
      "Total NaN in row 196 : 40\n",
      "Total NaN in row 197 : 42\n",
      "Total NaN in row 198 : 41\n",
      "Total NaN in row 199 : 42\n",
      "Total NaN in row 200 : 38\n",
      "Total NaN in row 201 : 39\n",
      "Total NaN in row 202 : 41\n",
      "Total NaN in row 203 : 42\n",
      "Total NaN in row 204 : 38\n",
      "Total NaN in row 205 : 39\n",
      "Total NaN in row 206 : 40\n",
      "Total NaN in row 207 : 41\n",
      "Total NaN in row 208 : 41\n",
      "Total NaN in row 209 : 43\n",
      "Total NaN in row 210 : 45\n",
      "Total NaN in row 211 : 40\n",
      "Total NaN in row 212 : 41\n",
      "Total NaN in row 213 : 41\n",
      "Total NaN in row 214 : 41\n",
      "Total NaN in row 215 : 41\n",
      "Total NaN in row 216 : 40\n",
      "Total NaN in row 217 : 40\n",
      "Total NaN in row 218 : 45\n",
      "Total NaN in row 219 : 40\n",
      "Total NaN in row 220 : 41\n",
      "Total NaN in row 221 : 41\n",
      "Total NaN in row 222 : 41\n",
      "Total NaN in row 223 : 42\n",
      "Total NaN in row 224 : 44\n",
      "Total NaN in row 225 : 41\n",
      "Total NaN in row 226 : 42\n",
      "Total NaN in row 227 : 40\n",
      "Total NaN in row 228 : 46\n",
      "Total NaN in row 229 : 44\n",
      "Total NaN in row 230 : 47\n",
      "Total NaN in row 231 : 35\n",
      "Total NaN in row 232 : 49\n",
      "Total NaN in row 233 : 49\n",
      "Total NaN in row 234 : 45\n",
      "Total NaN in row 235 : 45\n",
      "Total NaN in row 236 : 34\n",
      "Total NaN in row 237 : 43\n",
      "Total NaN in row 238 : 35\n",
      "Total NaN in row 239 : 40\n",
      "Total NaN in row 240 : 39\n",
      "Total NaN in row 241 : 37\n",
      "Total NaN in row 242 : 39\n",
      "Total NaN in row 243 : 46\n",
      "Total NaN in row 244 : 43\n",
      "Total NaN in row 245 : 46\n",
      "Total NaN in row 246 : 42\n",
      "Total NaN in row 247 : 34\n",
      "Total NaN in row 248 : 39\n",
      "Total NaN in row 249 : 40\n",
      "Total NaN in row 250 : 46\n",
      "Total NaN in row 251 : 37\n",
      "Total NaN in row 252 : 35\n",
      "Total NaN in row 253 : 35\n",
      "Total NaN in row 254 : 42\n",
      "Total NaN in row 255 : 42\n",
      "Total NaN in row 256 : 49\n",
      "Total NaN in row 257 : 41\n",
      "Total NaN in row 258 : 47\n",
      "Total NaN in row 259 : 41\n",
      "Total NaN in row 260 : 45\n",
      "Total NaN in row 261 : 48\n",
      "Total NaN in row 262 : 46\n",
      "Total NaN in row 263 : 47\n",
      "Total NaN in row 264 : 43\n",
      "Total NaN in row 265 : 43\n",
      "Total NaN in row 266 : 47\n",
      "Total NaN in row 267 : 50\n",
      "Total NaN in row 268 : 50\n",
      "Total NaN in row 269 : 40\n",
      "Total NaN in row 270 : 45\n",
      "Total NaN in row 271 : 43\n",
      "Total NaN in row 272 : 43\n",
      "Total NaN in row 273 : 41\n",
      "Total NaN in row 274 : 46\n",
      "Total NaN in row 275 : 46\n",
      "Total NaN in row 276 : 47\n",
      "Total NaN in row 277 : 36\n",
      "Total NaN in row 278 : 43\n",
      "Total NaN in row 279 : 40\n",
      "Total NaN in row 280 : 41\n",
      "Total NaN in row 281 : 43\n",
      "Total NaN in row 282 : 47\n",
      "Total NaN in row 283 : 32\n",
      "Total NaN in row 284 : 44\n",
      "Total NaN in row 285 : 46\n",
      "Total NaN in row 286 : 46\n",
      "Total NaN in row 287 : 46\n",
      "Total NaN in row 288 : 49\n",
      "Total NaN in row 289 : 44\n",
      "Total NaN in row 290 : 45\n",
      "Total NaN in row 291 : 35\n",
      "Total NaN in row 292 : 39\n",
      "Total NaN in row 293 : 46\n",
      "Total NaN in row 294 : 45\n",
      "Total NaN in row 295 : 45\n",
      "Total NaN in row 296 : 37\n",
      "Total NaN in row 297 : 40\n",
      "Total NaN in row 298 : 45\n",
      "Total NaN in row 299 : 36\n",
      "Total NaN in row 300 : 42\n",
      "Total NaN in row 301 : 40\n",
      "Total NaN in row 302 : 46\n",
      "Total NaN in row 303 : 48\n",
      "Total NaN in row 304 : 45\n",
      "Total NaN in row 305 : 45\n",
      "Total NaN in row 306 : 46\n",
      "Total NaN in row 307 : 40\n",
      "Total NaN in row 308 : 46\n",
      "Total NaN in row 309 : 46\n",
      "Total NaN in row 310 : 47\n",
      "Total NaN in row 311 : 47\n",
      "Total NaN in row 312 : 47\n",
      "Total NaN in row 313 : 47\n",
      "Total NaN in row 314 : 47\n",
      "Total NaN in row 315 : 50\n",
      "Total NaN in row 316 : 50\n",
      "Total NaN in row 317 : 47\n",
      "Total NaN in row 318 : 42\n",
      "Total NaN in row 319 : 47\n",
      "Total NaN in row 320 : 47\n",
      "Total NaN in row 321 : 49\n",
      "Total NaN in row 322 : 50\n",
      "Total NaN in row 323 : 40\n",
      "Total NaN in row 324 : 45\n",
      "Total NaN in row 325 : 51\n",
      "Total NaN in row 326 : 45\n",
      "Total NaN in row 327 : 45\n",
      "Total NaN in row 328 : 47\n",
      "Total NaN in row 329 : 45\n",
      "Total NaN in row 330 : 47\n",
      "Total NaN in row 331 : 53\n",
      "Total NaN in row 332 : 36\n",
      "Total NaN in row 333 : 41\n",
      "Total NaN in row 334 : 42\n",
      "Total NaN in row 335 : 44\n",
      "Total NaN in row 336 : 45\n",
      "Total NaN in row 337 : 45\n",
      "Total NaN in row 338 : 42\n",
      "Total NaN in row 339 : 50\n",
      "Total NaN in row 340 : 37\n",
      "Total NaN in row 341 : 42\n",
      "Total NaN in row 342 : 38\n",
      "Total NaN in row 343 : 41\n",
      "Total NaN in row 344 : 47\n",
      "Total NaN in row 345 : 47\n",
      "Total NaN in row 346 : 47\n",
      "Total NaN in row 347 : 47\n",
      "Total NaN in row 348 : 45\n",
      "Total NaN in row 349 : 37\n",
      "Total NaN in row 350 : 47\n",
      "Total NaN in row 351 : 43\n",
      "Total NaN in row 352 : 44\n",
      "Total NaN in row 353 : 45\n",
      "Total NaN in row 354 : 48\n",
      "Total NaN in row 355 : 48\n",
      "Total NaN in row 356 : 45\n",
      "Total NaN in row 357 : 45\n",
      "Total NaN in row 358 : 45\n",
      "Total NaN in row 359 : 40\n",
      "Total NaN in row 360 : 47\n",
      "Total NaN in row 361 : 48\n",
      "Total NaN in row 362 : 47\n",
      "Total NaN in row 363 : 41\n",
      "Total NaN in row 364 : 50\n",
      "Total NaN in row 365 : 48\n",
      "Total NaN in row 366 : 47\n",
      "Total NaN in row 367 : 47\n",
      "Total NaN in row 368 : 47\n",
      "Total NaN in row 369 : 46\n",
      "Total NaN in row 370 : 47\n",
      "Total NaN in row 371 : 39\n",
      "Total NaN in row 372 : 45\n",
      "Total NaN in row 373 : 47\n",
      "Total NaN in row 374 : 40\n",
      "Total NaN in row 375 : 47\n",
      "Total NaN in row 376 : 45\n",
      "Total NaN in row 377 : 47\n",
      "Total NaN in row 378 : 47\n",
      "Total NaN in row 379 : 50\n",
      "Total NaN in row 380 : 45\n",
      "Total NaN in row 381 : 45\n",
      "Total NaN in row 382 : 47\n",
      "Total NaN in row 383 : 47\n",
      "Total NaN in row 384 : 39\n",
      "Total NaN in row 385 : 47\n",
      "Total NaN in row 386 : 47\n",
      "Total NaN in row 387 : 49\n",
      "Total NaN in row 388 : 37\n",
      "Total NaN in row 389 : 42\n",
      "Total NaN in row 390 : 46\n",
      "Total NaN in row 391 : 43\n",
      "Total NaN in row 392 : 44\n",
      "Total NaN in row 393 : 44\n",
      "Total NaN in row 394 : 44\n",
      "Total NaN in row 395 : 41\n",
      "Total NaN in row 396 : 42\n",
      "Total NaN in row 397 : 44\n",
      "Total NaN in row 398 : 42\n",
      "Total NaN in row 399 : 46\n",
      "Total NaN in row 400 : 46\n",
      "Total NaN in row 401 : 40\n",
      "Total NaN in row 402 : 46\n",
      "Total NaN in row 403 : 46\n",
      "Total NaN in row 404 : 46\n",
      "Total NaN in row 405 : 46\n",
      "Total NaN in row 406 : 46\n",
      "Total NaN in row 407 : 47\n",
      "Total NaN in row 408 : 48\n",
      "Total NaN in row 409 : 47\n",
      "Total NaN in row 410 : 47\n",
      "Total NaN in row 411 : 47\n",
      "Total NaN in row 412 : 50\n",
      "Total NaN in row 413 : 45\n",
      "Total NaN in row 414 : 50\n",
      "Total NaN in row 415 : 47\n",
      "Total NaN in row 416 : 46\n",
      "Total NaN in row 417 : 47\n",
      "Total NaN in row 418 : 47\n",
      "Total NaN in row 419 : 48\n",
      "Total NaN in row 420 : 47\n",
      "Total NaN in row 421 : 46\n",
      "Total NaN in row 422 : 47\n",
      "Total NaN in row 423 : 46\n"
     ]
    }
   ],
   "source": [
    "# Count total NaN at each row \n",
    "for i in range(len(df.index)) :\n",
    "    print('Total NaN in row', i + 1, ':',\n",
    "          df.iloc[i].isnull().sum())"
   ]
  },
  {
   "cell_type": "code",
   "execution_count": 564,
   "id": "f43991a4",
   "metadata": {},
   "outputs": [
    {
     "name": "stdout",
     "output_type": "stream",
     "text": [
      "\n",
      "Count total NaN in a DataFrame : \n",
      "\n",
      " 18256\n"
     ]
    }
   ],
   "source": [
    "# Count total NaN \n",
    "print('\\nCount total NaN in a DataFrame : \\n\\n',\n",
    "       df.isnull().sum().sum())"
   ]
  },
  {
   "cell_type": "markdown",
   "id": "69b11fe8",
   "metadata": {},
   "source": [
    "<h1><font color='#3D3C3A'>Bar plot before handling missing values</font></h1>"
   ]
  },
  {
   "cell_type": "code",
   "execution_count": 565,
   "id": "2d03a1fd",
   "metadata": {
    "scrolled": false
   },
   "outputs": [
    {
     "data": {
      "text/plain": [
       "Text(0, 0.5, 'Missing Valuses')"
      ]
     },
     "execution_count": 565,
     "metadata": {},
     "output_type": "execute_result"
    },
    {
     "data": {
      "image/png": "[encoded data removed]",
      "text/plain": [
       "<Figure size 1000x800 with 1 Axes>"
      ]
     },
     "metadata": {},
     "output_type": "display_data"
    }
   ],
   "source": [
    "# Look at total NaN values per column graphically\n",
    "from matplotlib.pyplot import figure\n",
    "figure(figsize=(10, 8), dpi = 100)\n",
    "df.isnull().sum().sort_values().plot(kind='bar', title= 'Missing Values (Shape: (424, 66))');\n",
    "plt.xlabel('Columns')\n",
    "plt.ylabel('Missing Valuses')"
   ]
  },
  {
   "cell_type": "code",
   "execution_count": 566,
   "id": "f970e4d9",
   "metadata": {},
   "outputs": [
    {
     "data": {
      "text/plain": [
       "(423, 66)"
      ]
     },
     "execution_count": 566,
     "metadata": {},
     "output_type": "execute_result"
    }
   ],
   "source": [
    "# Dropping rows only where all values are NaN values\n",
    "# It looks like there are no rows where all values are NaN\n",
    "df.dropna(axis = 'index', how = 'all', inplace = True)\n",
    "df.shape"
   ]
  },
  {
   "cell_type": "markdown",
   "id": "9b8587c9",
   "metadata": {},
   "source": [
    "~ There are no rows where all values are NaN"
   ]
  },
  {
   "cell_type": "code",
   "execution_count": 567,
   "id": "71cafd7e",
   "metadata": {},
   "outputs": [
    {
     "data": {
      "text/plain": [
       "(423, 65)"
      ]
     },
     "execution_count": 567,
     "metadata": {},
     "output_type": "execute_result"
    }
   ],
   "source": [
    "# Dropping columns only where all values are NaN values\n",
    "df.dropna(axis = 'columns', how = 'all', inplace = True)\n",
    "df.shape"
   ]
  },
  {
   "cell_type": "markdown",
   "id": "46b3b1a5",
   "metadata": {},
   "source": [
    "~ There was one column that has all its' values NaN ~ <font color='#C24641'> ' Queso ' </font>"
   ]
  },
  {
   "cell_type": "markdown",
   "id": "49bb18ac",
   "metadata": {},
   "source": [
    "<h2><font color='#3D3C3A'> Replace NaN values in the Yelp column with the mean </font></h2>"
   ]
  },
  {
   "cell_type": "code",
   "execution_count": 568,
   "id": "b73a15c6",
   "metadata": {},
   "outputs": [
    {
     "data": {
      "text/plain": [
       "array([3.5, nan, 4. , 3. , 4.5, 2.5, 4.2])"
      ]
     },
     "execution_count": 568,
     "metadata": {},
     "output_type": "execute_result"
    }
   ],
   "source": [
    "# Get uniqe values in the Yelp column\n",
    "df['Yelp'].unique()"
   ]
  },
  {
   "cell_type": "code",
   "execution_count": 569,
   "id": "8a1da625",
   "metadata": {},
   "outputs": [
    {
     "data": {
      "text/plain": [
       "336"
      ]
     },
     "execution_count": 569,
     "metadata": {},
     "output_type": "execute_result"
    }
   ],
   "source": [
    "# Count NaN values in the Yelp column \n",
    "df['Yelp'].isnull().sum()"
   ]
  },
  {
   "cell_type": "code",
   "execution_count": 570,
   "id": "9dd0a29e",
   "metadata": {},
   "outputs": [
    {
     "data": {
      "image/png": "[encoded data removed]",
      "text/plain": [
       "<Figure size 640x480 with 1 Axes>"
      ]
     },
     "metadata": {},
     "output_type": "display_data"
    }
   ],
   "source": [
    "# Plot a histogram for the Yelp column before handling the missing values\n",
    "from matplotlib.pyplot import figure\n",
    "figure(figsize=(8, 6), dpi = 80)\n",
    "df['Yelp'].plot(kind=\"hist\", title=\"Histogram of Yelp column before handling NaN values\");"
   ]
  },
  {
   "cell_type": "code",
   "execution_count": 571,
   "id": "b48605a2",
   "metadata": {},
   "outputs": [
    {
     "data": {
      "text/plain": [
       "3.9"
      ]
     },
     "execution_count": 571,
     "metadata": {},
     "output_type": "execute_result"
    }
   ],
   "source": [
    "# Calculate the mean\n",
    "mean = round(df['Yelp'].mean(),1)\n",
    "mean"
   ]
  },
  {
   "cell_type": "code",
   "execution_count": 572,
   "id": "fd022d68",
   "metadata": {},
   "outputs": [
    {
     "data": {
      "text/plain": [
       "0"
      ]
     },
     "execution_count": 572,
     "metadata": {},
     "output_type": "execute_result"
    }
   ],
   "source": [
    "# Replace NaN values with the mean\n",
    "df['Yelp'] = df['Yelp'].fillna(mean)\n",
    "df['Yelp'].isnull().sum()"
   ]
  },
  {
   "cell_type": "code",
   "execution_count": 573,
   "id": "42bad82f",
   "metadata": {},
   "outputs": [
    {
     "data": {
      "image/png": "[encoded data removed]",
      "text/plain": [
       "<Figure size 640x480 with 1 Axes>"
      ]
     },
     "metadata": {},
     "output_type": "display_data"
    }
   ],
   "source": [
    "# Plot a histogram for the Yelp column after handling the missing values\n",
    "from matplotlib.pyplot import figure\n",
    "figure(figsize=(8, 6), dpi = 80)\n",
    "df['Yelp'].plot(kind=\"hist\", title=\"Histogram of Yelp column after handling NaN values\");"
   ]
  },
  {
   "cell_type": "markdown",
   "id": "b118dce6",
   "metadata": {},
   "source": [
    "<h2><font color='#3D3C3A'> Replace NaN values in the Length column with the median </font></h2>"
   ]
  },
  {
   "cell_type": "code",
   "execution_count": 574,
   "id": "2f00d21e",
   "metadata": {},
   "outputs": [
    {
     "data": {
      "text/plain": [
       "array([  nan, 20.  , 19.  , 18.5 , 21.59, 25.  , 23.  , 22.5 , 21.  ,\n",
       "       16.5 , 17.  , 17.7 , 18.  , 17.5 , 17.78, 21.5 , 22.  , 23.5 ,\n",
       "       25.5 , 20.5 , 19.5 , 20.75, 15.  , 16.  , 15.5 , 26.  , 24.  ,\n",
       "       24.5 , 21.3 , 22.2 ])"
      ]
     },
     "execution_count": 574,
     "metadata": {},
     "output_type": "execute_result"
    }
   ],
   "source": [
    "# Get uniqe values in the Length column\n",
    "df['Length'].unique()"
   ]
  },
  {
   "cell_type": "code",
   "execution_count": 575,
   "id": "cc9b0aa6",
   "metadata": {},
   "outputs": [
    {
     "data": {
      "text/plain": [
       "139"
      ]
     },
     "execution_count": 575,
     "metadata": {},
     "output_type": "execute_result"
    }
   ],
   "source": [
    "# Count NaN values in the Length column \n",
    "df['Length'].isnull().sum()"
   ]
  },
  {
   "cell_type": "code",
   "execution_count": 576,
   "id": "b9d556e7",
   "metadata": {},
   "outputs": [
    {
     "data": {
      "image/png": "[encoded data removed]",
      "text/plain": [
       "<Figure size 640x480 with 1 Axes>"
      ]
     },
     "metadata": {},
     "output_type": "display_data"
    }
   ],
   "source": [
    "# Plot a histogram for the Length column before handling the missing values\n",
    "from matplotlib.pyplot import figure\n",
    "figure(figsize=(8, 6), dpi = 80)\n",
    "df['Length'].plot(kind=\"hist\", title=\"Histogram of Length column before handling NaN values\");"
   ]
  },
  {
   "cell_type": "code",
   "execution_count": 577,
   "id": "cd287007",
   "metadata": {},
   "outputs": [
    {
     "data": {
      "text/plain": [
       "20.0"
      ]
     },
     "execution_count": 577,
     "metadata": {},
     "output_type": "execute_result"
    }
   ],
   "source": [
    "# Calculate the median\n",
    "median = round(df['Length'].median(),1)\n",
    "median"
   ]
  },
  {
   "cell_type": "code",
   "execution_count": 578,
   "id": "31bb01e2",
   "metadata": {},
   "outputs": [],
   "source": [
    "# Replace NaN values with median\n",
    "df['Length'] = df['Length'].replace(np.NaN, median)"
   ]
  },
  {
   "cell_type": "code",
   "execution_count": 579,
   "id": "f6a9e8a5",
   "metadata": {},
   "outputs": [
    {
     "data": {
      "image/png": "[encoded data removed]",
      "text/plain": [
       "<Figure size 640x480 with 1 Axes>"
      ]
     },
     "metadata": {},
     "output_type": "display_data"
    }
   ],
   "source": [
    "# Plot a histogram for the Length column after handling the missing values\n",
    "from matplotlib.pyplot import figure\n",
    "figure(figsize=(8, 6), dpi = 80)\n",
    "df['Length'].plot(kind=\"hist\", title=\"Histogram of Length column after handling NaN values\");"
   ]
  },
  {
   "cell_type": "markdown",
   "id": "259d0146",
   "metadata": {},
   "source": [
    "<h2><font color='#3D3C3A'> Replace NaN values in the overall column with the mode </font></h2>"
   ]
  },
  {
   "cell_type": "code",
   "execution_count": 580,
   "id": "af3f8c92",
   "metadata": {},
   "outputs": [
    {
     "data": {
      "text/plain": [
       "array([3.8    , 3.     , 3.75   , 4.2    , 3.2    , 2.6    , 3.9    ,\n",
       "       2.     , 2.5    , 2.75   , 4.1    , 4.     , 3.5    , 4.6    ,\n",
       "       4.5    , 4.25   , 3.4    , 1.     , 3.33333, 3.25   , 4.3    ,\n",
       "       3.3    , 3.6    , 2.8    , 4.4    , 4.7    , 5.     , 1.5    ,\n",
       "       1.8    , 4.9    , 3.7    , 2.9    , 4.8    , 2.7    , 2.3    ,\n",
       "           nan, 2.2    , 2.4    , 3.1    , 2.66   ])"
      ]
     },
     "execution_count": 580,
     "metadata": {},
     "output_type": "execute_result"
    }
   ],
   "source": [
    "# Get uniqe values in the overall column\n",
    "df['overall'].unique()"
   ]
  },
  {
   "cell_type": "code",
   "execution_count": 581,
   "id": "0fa55627",
   "metadata": {},
   "outputs": [
    {
     "data": {
      "text/plain": [
       "2"
      ]
     },
     "execution_count": 581,
     "metadata": {},
     "output_type": "execute_result"
    }
   ],
   "source": [
    "# Count NaN values in the overall column \n",
    "df['overall'].isnull().sum()"
   ]
  },
  {
   "cell_type": "code",
   "execution_count": 582,
   "id": "dffa959e",
   "metadata": {},
   "outputs": [
    {
     "data": {
      "image/png": "[encoded data removed]",
      "text/plain": [
       "<Figure size 640x480 with 1 Axes>"
      ]
     },
     "metadata": {},
     "output_type": "display_data"
    }
   ],
   "source": [
    "# Plot a histogram for the overall column before handling the missing values\n",
    "from matplotlib.pyplot import figure\n",
    "figure(figsize=(8, 6), dpi = 80)\n",
    "df['overall'].plot(kind=\"hist\", title=\"Histogram of overall column before handling NaN values\");"
   ]
  },
  {
   "cell_type": "code",
   "execution_count": 583,
   "id": "63d59f7d",
   "metadata": {},
   "outputs": [
    {
     "data": {
      "text/plain": [
       "4.0"
      ]
     },
     "execution_count": 583,
     "metadata": {},
     "output_type": "execute_result"
    }
   ],
   "source": [
    "# Calculate mode\n",
    "mode = df['overall'].mode()[0]\n",
    "mode"
   ]
  },
  {
   "cell_type": "code",
   "execution_count": 584,
   "id": "7b032c4a",
   "metadata": {},
   "outputs": [],
   "source": [
    "# Replace NaN values with mode\n",
    "df['overall'] = df['overall'].replace(np.NaN, mode)"
   ]
  },
  {
   "cell_type": "code",
   "execution_count": 585,
   "id": "a90d02b9",
   "metadata": {},
   "outputs": [
    {
     "data": {
      "image/png": "[encoded data removed]",
      "text/plain": [
       "<Figure size 640x480 with 1 Axes>"
      ]
     },
     "metadata": {},
     "output_type": "display_data"
    }
   ],
   "source": [
    "# Plot a histogram for the overall column after handling the missing values\n",
    "from matplotlib.pyplot import figure\n",
    "figure(figsize=(8, 6), dpi = 80)\n",
    "df['overall'].plot(kind=\"hist\", title=\"Histogram of overall column after handling NaN values\");"
   ]
  },
  {
   "cell_type": "markdown",
   "id": "369fe97e",
   "metadata": {},
   "source": [
    "~ The change in the plot is not obvious because the overall column have only 2 missing values"
   ]
  },
  {
   "cell_type": "markdown",
   "id": "05d72797",
   "metadata": {},
   "source": [
    "<h2><font color='#3D3C3A'> Replace NaN values in the Mass (g) column with a choosen value </font></h2>\n"
   ]
  },
  {
   "cell_type": "code",
   "execution_count": 586,
   "id": "588f8ec7",
   "metadata": {},
   "outputs": [
    {
     "data": {
      "text/plain": [
       "array([ nan, 415., 425., 520., 476., 560., 450., 920., 925., 430., 350.,\n",
       "       600., 580., 635., 550., 610., 620., 420., 540.])"
      ]
     },
     "execution_count": 586,
     "metadata": {},
     "output_type": "execute_result"
    }
   ],
   "source": [
    "# Get uniqe values in the Mass (g) column\n",
    "df['Mass (g)'].unique()"
   ]
  },
  {
   "cell_type": "code",
   "execution_count": 587,
   "id": "b703c2e3",
   "metadata": {},
   "outputs": [
    {
     "data": {
      "text/plain": [
       "401"
      ]
     },
     "execution_count": 587,
     "metadata": {},
     "output_type": "execute_result"
    }
   ],
   "source": [
    "# Count NaN values in the Mass (g) column \n",
    "df['Mass (g)'].isnull().sum()"
   ]
  },
  {
   "cell_type": "code",
   "execution_count": 588,
   "id": "3a4a5084",
   "metadata": {
    "scrolled": false
   },
   "outputs": [
    {
     "data": {
      "image/png": "[encoded data removed]",
      "text/plain": [
       "<Figure size 640x480 with 1 Axes>"
      ]
     },
     "metadata": {},
     "output_type": "display_data"
    }
   ],
   "source": [
    "# Plot a histogram for the Mass (g) column before handling the missing values\n",
    "from matplotlib.pyplot import figure\n",
    "figure(figsize=(8, 6), dpi = 80)\n",
    "df['Mass (g)'].plot(kind=\"hist\", title=\"Histogram of Mass (g) column before handling NaN values\");"
   ]
  },
  {
   "cell_type": "code",
   "execution_count": 589,
   "id": "4b505153",
   "metadata": {},
   "outputs": [],
   "source": [
    "# choosen value \n",
    "unknown = -100"
   ]
  },
  {
   "cell_type": "code",
   "execution_count": 590,
   "id": "45d5e5d0",
   "metadata": {},
   "outputs": [],
   "source": [
    "# Replace NaN values with the choosen value\n",
    "df['Mass (g)'] = df['Mass (g)'].replace(np.NaN, unknown)"
   ]
  },
  {
   "cell_type": "code",
   "execution_count": 591,
   "id": "e76fdb64",
   "metadata": {},
   "outputs": [
    {
     "data": {
      "image/png": "[encoded data removed]",
      "text/plain": [
       "<Figure size 640x480 with 1 Axes>"
      ]
     },
     "metadata": {},
     "output_type": "display_data"
    }
   ],
   "source": [
    "# Plot a histogram for the Mass (g) column after handling the missing values\n",
    "from matplotlib.pyplot import figure\n",
    "figure(figsize=(8, 6), dpi = 80)\n",
    "df['Mass (g)'].plot(kind=\"hist\", title=\"Histogram of Mass (g) column after handling NaN values\");"
   ]
  },
  {
   "cell_type": "markdown",
   "id": "b7d24206",
   "metadata": {},
   "source": [
    "<h2><font color='#3D3C3A'> Replace NaN values in the Cost column useing backwards filling </font></h2>"
   ]
  },
  {
   "cell_type": "code",
   "execution_count": 592,
   "id": "740a055d",
   "metadata": {},
   "outputs": [
    {
     "data": {
      "text/plain": [
       "array([ 6.49,  5.45,  4.85,  5.25,  6.59,  6.99,  7.19,  9.25,  6.25,\n",
       "        9.5 ,  6.95,  7.49,  8.49,  5.99,  6.4 ,  8.75,  5.5 ,  6.  ,\n",
       "        7.  ,  6.29,  6.6 ,  7.65,  5.  ,  7.84,  7.89,  6.5 ,  7.3 ,\n",
       "        8.59,  7.99,  9.99,  8.25,  7.95,  7.45,  6.65,  5.95,  9.  ,\n",
       "        8.  ,  6.89,  6.39,  6.75,  8.95,  7.5 ,  5.55,  7.25, 11.75,\n",
       "         nan,  7.14,  6.02,  5.4 ,  3.5 , 11.95,  4.87,  4.59,  2.99,\n",
       "        9.43,  6.35,  7.9 ,  8.5 ,  5.7 ,  9.19,  7.85,  6.85,  6.94,\n",
       "        4.99,  5.29,  5.69,  3.75,  6.45,  5.79,  7.29,  7.15,  5.49,\n",
       "        3.99,  6.3 ,  6.1 ,  4.95,  7.35,  6.7 , 10.5 ,  5.65,  7.75,\n",
       "        4.75,  7.1 , 10.  ,  8.99,  7.4 ,  9.95,  6.9 ,  8.55,  7.8 ,\n",
       "        5.56,  6.47,  8.35, 25.  ,  8.94, 11.5 ,  4.19,  7.2 ,  7.39])"
      ]
     },
     "execution_count": 592,
     "metadata": {},
     "output_type": "execute_result"
    }
   ],
   "source": [
    "# Get uniqe values in the Cost column\n",
    "df['Cost'].unique()"
   ]
  },
  {
   "cell_type": "code",
   "execution_count": 593,
   "id": "15e9f855",
   "metadata": {},
   "outputs": [
    {
     "data": {
      "text/plain": [
       "7"
      ]
     },
     "execution_count": 593,
     "metadata": {},
     "output_type": "execute_result"
    }
   ],
   "source": [
    "# Count NaN values in the Cost column \n",
    "df['Cost'].isnull().sum()"
   ]
  },
  {
   "cell_type": "code",
   "execution_count": 594,
   "id": "59a84ba5",
   "metadata": {
    "scrolled": false
   },
   "outputs": [
    {
     "data": {
      "image/png": "[encoded data removed]",
      "text/plain": [
       "<Figure size 640x480 with 1 Axes>"
      ]
     },
     "metadata": {},
     "output_type": "display_data"
    }
   ],
   "source": [
    "# Plot a histogram for the Cost column before handling the missing values\n",
    "from matplotlib.pyplot import figure\n",
    "figure(figsize=(8, 6), dpi = 80)\n",
    "df['Cost'].plot(kind=\"hist\", title=\"Histogram of Cost column before handling NaN values\");"
   ]
  },
  {
   "cell_type": "code",
   "execution_count": 595,
   "id": "a1d4f0a2",
   "metadata": {},
   "outputs": [],
   "source": [
    "# Backwards filling\n",
    "df['Cost'].fillna(method=\"bfill\", inplace = True)"
   ]
  },
  {
   "cell_type": "code",
   "execution_count": 596,
   "id": "cc3ea14f",
   "metadata": {},
   "outputs": [
    {
     "data": {
      "text/plain": [
       "0"
      ]
     },
     "execution_count": 596,
     "metadata": {},
     "output_type": "execute_result"
    }
   ],
   "source": [
    "# Count NaN values in the Cost column after backward filling\n",
    "df['Cost'].isnull().sum()"
   ]
  },
  {
   "cell_type": "code",
   "execution_count": 597,
   "id": "0b04d964",
   "metadata": {},
   "outputs": [
    {
     "data": {
      "image/png": "[encoded data removed]",
      "text/plain": [
       "<Figure size 640x480 with 1 Axes>"
      ]
     },
     "metadata": {},
     "output_type": "display_data"
    }
   ],
   "source": [
    "# Plot a histogram for the Cost column after handling the missing values\n",
    "from matplotlib.pyplot import figure\n",
    "figure(figsize=(8, 6), dpi = 80)\n",
    "df['Cost'].plot(kind=\"hist\", title=\"Histogram of Cost column before handling NaN values\");"
   ]
  },
  {
   "cell_type": "markdown",
   "id": "4e7e6547",
   "metadata": {},
   "source": [
    "<h2><font color='#3D3C3A'> Replace NaN values in the Hunger column useing backwards filling </font></h2>"
   ]
  },
  {
   "cell_type": "code",
   "execution_count": 598,
   "id": "5d65f9a0",
   "metadata": {},
   "outputs": [
    {
     "data": {
      "text/plain": [
       "array([3.  , 3.5 , 1.5 , 2.  , 4.  , 2.5 , 4.5 , 1.  , 0.5 , 3.75, 5.  ,\n",
       "       3.2 , 4.3 ,  nan, 2.8 , 2.2 , 4.31, 3.9 , 3.8 , 3.7 , 4.1 , 4.25,\n",
       "       4.75, 2.3 , 4.2 , 4.4 , 3.3 ])"
      ]
     },
     "execution_count": 598,
     "metadata": {},
     "output_type": "execute_result"
    }
   ],
   "source": [
    "# Get uniqe values in the Cost column\n",
    "df['Hunger'].unique()"
   ]
  },
  {
   "cell_type": "code",
   "execution_count": 599,
   "id": "95c304a0",
   "metadata": {},
   "outputs": [
    {
     "data": {
      "text/plain": [
       "3"
      ]
     },
     "execution_count": 599,
     "metadata": {},
     "output_type": "execute_result"
    }
   ],
   "source": [
    "# Count NaN values in the Cost column \n",
    "df['Hunger'].isnull().sum()"
   ]
  },
  {
   "cell_type": "code",
   "execution_count": 600,
   "id": "519fdac4",
   "metadata": {},
   "outputs": [
    {
     "data": {
      "image/png": "[encoded data removed]",
      "text/plain": [
       "<Figure size 640x480 with 1 Axes>"
      ]
     },
     "metadata": {},
     "output_type": "display_data"
    }
   ],
   "source": [
    "# Plot a histogram for the Hunger column before handling the missing values\n",
    "from matplotlib.pyplot import figure\n",
    "figure(figsize=(8, 6), dpi = 80)\n",
    "df['Hunger'].plot(kind=\"hist\", title=\"Histogram of Hunger column before handling NaN values\");"
   ]
  },
  {
   "cell_type": "code",
   "execution_count": 601,
   "id": "2047a532",
   "metadata": {},
   "outputs": [],
   "source": [
    "# Forward filling\n",
    "df['Hunger'].fillna(method=\"ffill\", inplace = True)"
   ]
  },
  {
   "cell_type": "code",
   "execution_count": 602,
   "id": "93242d3b",
   "metadata": {},
   "outputs": [
    {
     "data": {
      "text/plain": [
       "0"
      ]
     },
     "execution_count": 602,
     "metadata": {},
     "output_type": "execute_result"
    }
   ],
   "source": [
    "# Count NaN values in the Hunger column after Forward filling\n",
    "df['Hunger'].isnull().sum()"
   ]
  },
  {
   "cell_type": "code",
   "execution_count": 603,
   "id": "40ab75cb",
   "metadata": {},
   "outputs": [
    {
     "data": {
      "image/png": "[encoded data removed]",
      "text/plain": [
       "<Figure size 640x480 with 1 Axes>"
      ]
     },
     "metadata": {},
     "output_type": "display_data"
    }
   ],
   "source": [
    "# Plot a histogram for the Hunger column after handling the missing values\n",
    "from matplotlib.pyplot import figure\n",
    "figure(figsize=(8, 6), dpi = 80)\n",
    "df['Hunger'].plot(kind=\"hist\", title=\"Histogram of Hunger column after handling NaN values\");"
   ]
  },
  {
   "cell_type": "markdown",
   "id": "ebe1b6ed",
   "metadata": {},
   "source": [
    "<h1><font color='#3D3C3A'>Bar plot after handling missing values in some colums</font></h1>"
   ]
  },
  {
   "cell_type": "code",
   "execution_count": 604,
   "id": "2bf3097a",
   "metadata": {},
   "outputs": [
    {
     "data": {
      "text/plain": [
       "Text(0, 0.5, 'Missing Valuses')"
      ]
     },
     "execution_count": 604,
     "metadata": {},
     "output_type": "execute_result"
    },
    {
     "data": {
      "image/png": "[encoded data removed]",
      "text/plain": [
       "<Figure size 1000x800 with 1 Axes>"
      ]
     },
     "metadata": {},
     "output_type": "display_data"
    }
   ],
   "source": [
    "# Look at total NaN values per column graphically\n",
    "from matplotlib.pyplot import figure\n",
    "figure(figsize=(10, 8), dpi = 100)\n",
    "df.isnull().sum().sort_values().plot(kind='bar', title= 'Missing Values (Shape: (424, 66))');\n",
    "plt.xlabel('Columns')\n",
    "plt.ylabel('Missing Valuses')"
   ]
  },
  {
   "cell_type": "markdown",
   "id": "cc1e2da6",
   "metadata": {},
   "source": [
    "<h4><font color='#3D3C3A'>By: Nourah Alsaadan</font></h4>"
   ]
  }
 ],
 "metadata": {
  "kernelspec": {
   "display_name": "Python 3",
   "language": "python",
   "name": "python3"
  },
  "language_info": {
   "codemirror_mode": {
    "name": "ipython",
    "version": 3
   },
   "file_extension": ".py",
   "mimetype": "text/x-python",
   "name": "python",
   "nbconvert_exporter": "python",
   "pygments_lexer": "ipython3",
   "version": "3.8.8"
  }
 },
 "nbformat": 4,
 "nbformat_minor": 5
}
